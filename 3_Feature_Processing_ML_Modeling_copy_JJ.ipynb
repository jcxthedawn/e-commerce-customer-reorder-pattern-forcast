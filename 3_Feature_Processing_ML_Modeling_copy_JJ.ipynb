{
 "cells": [
  {
   "cell_type": "markdown",
   "metadata": {
    "id": "OwHK7mHQT2aB"
   },
   "source": [
    "# Carrot Company -eCommerce Product Recommendation \n",
    "# Part 3 Feature Engineering & ML Modeling"
   ]
  },
  {
   "cell_type": "markdown",
   "metadata": {
    "id": "CoknezhTpCGn"
   },
   "source": [
    "#  Load Feature Data"
   ]
  },
  {
   "cell_type": "code",
   "execution_count": 23,
   "metadata": {
    "id": "axPvI--WNCjK"
   },
   "outputs": [],
   "source": [
    "import warnings\n",
    "warnings.filterwarnings(\"ignore\")"
   ]
  },
  {
   "cell_type": "code",
   "execution_count": 24,
   "metadata": {
    "id": "6K-Pkvfzn6H5"
   },
   "outputs": [],
   "source": [
    "import pandas as pd\n",
    "import numpy as np\n",
    "import seaborn as sns\n",
    "import matplotlib.pyplot as plt\n",
    "sns.set()"
   ]
  },
  {
   "cell_type": "code",
   "execution_count": 25,
   "metadata": {
    "colab": {
     "base_uri": "https://localhost:8080/"
    },
    "executionInfo": {
     "elapsed": 16229,
     "status": "ok",
     "timestamp": 1627174347962,
     "user": {
      "displayName": "Miao Wang",
      "photoUrl": "https://lh3.googleusercontent.com/a-/AOh14Gj2gWD5z1xIFGC8PbqA3mioC1WHPE1LoZ59VJPh=s64",
      "userId": "16458771487930506212"
     },
     "user_tz": 420
    },
    "id": "Lqj5RnJwaK5s",
    "outputId": "509d7d56-8222-4e5c-f344-d1053058dd6a"
   },
   "outputs": [],
   "source": [
    "from imblearn.pipeline import Pipeline \n",
    "from imblearn.under_sampling import RandomUnderSampler \n",
    "from imblearn.over_sampling import RandomOverSampler\n",
    "from sklearn.impute import SimpleImputer\n",
    "from sklearn.preprocessing import MinMaxScaler\n",
    "from sklearn.neighbors import KNeighborsClassifier\n",
    "from sklearn.ensemble import RandomForestClassifier, AdaBoostClassifier, GradientBoostingClassifier\n",
    "\n",
    "from sklearn.linear_model import LogisticRegression\n",
    "from sklearn.linear_model import LogisticRegressionCV\n",
    "\n",
    "from sklearn.tree import DecisionTreeClassifier\n",
    "\n",
    "from sklearn.model_selection import cross_val_score\n",
    "from sklearn.model_selection import GridSearchCV\n",
    "\n",
    "from sklearn.metrics import plot_confusion_matrix\n",
    "from sklearn.metrics import accuracy_score\n",
    "from sklearn.metrics import precision_score\n",
    "from sklearn.metrics import recall_score\n",
    "from sklearn.metrics import f1_score\n",
    "from sklearn.metrics import roc_auc_score\n"
   ]
  },
  {
   "cell_type": "code",
   "execution_count": 31,
   "metadata": {},
   "outputs": [],
   "source": [
    "#!pip3 install xgboost \n",
    "import xgboost as xgb"
   ]
  },
  {
   "cell_type": "code",
   "execution_count": 32,
   "metadata": {
    "id": "kxT1rECQaan9"
   },
   "outputs": [],
   "source": [
    "model_all_data = pd.read_csv(r'/Users/jichenxi/Documents/MGT_Group_Project/model_all_data.csv')"
   ]
  },
  {
   "cell_type": "code",
   "execution_count": 33,
   "metadata": {
    "colab": {
     "base_uri": "https://localhost:8080/",
     "height": 224
    },
    "executionInfo": {
     "elapsed": 163,
     "status": "ok",
     "timestamp": 1627174436953,
     "user": {
      "displayName": "Miao Wang",
      "photoUrl": "https://lh3.googleusercontent.com/a-/AOh14Gj2gWD5z1xIFGC8PbqA3mioC1WHPE1LoZ59VJPh=s64",
      "userId": "16458771487930506212"
     },
     "user_tz": 420
    },
    "id": "ogkkgusQtY0_",
    "outputId": "98f19fdb-3958-487e-8528-714a109826c4"
   },
   "outputs": [
    {
     "data": {
      "text/html": [
       "<div>\n",
       "<style scoped>\n",
       "    .dataframe tbody tr th:only-of-type {\n",
       "        vertical-align: middle;\n",
       "    }\n",
       "\n",
       "    .dataframe tbody tr th {\n",
       "        vertical-align: top;\n",
       "    }\n",
       "\n",
       "    .dataframe thead th {\n",
       "        text-align: right;\n",
       "    }\n",
       "</style>\n",
       "<table border=\"1\" class=\"dataframe\">\n",
       "  <thead>\n",
       "    <tr style=\"text-align: right;\">\n",
       "      <th></th>\n",
       "      <th>user_id</th>\n",
       "      <th>product_id</th>\n",
       "      <th>order_number</th>\n",
       "      <th>order_dow</th>\n",
       "      <th>order_hour_of_day</th>\n",
       "      <th>days_since_prior_order</th>\n",
       "      <th>unique_key</th>\n",
       "      <th>label</th>\n",
       "      <th>user_product__total_orders</th>\n",
       "      <th>user_product__add_to_cart_order_mean</th>\n",
       "      <th>...</th>\n",
       "      <th>product__most_hod</th>\n",
       "      <th>product__days_since_prior_order_mean</th>\n",
       "      <th>product__aisle_id</th>\n",
       "      <th>product__department_id</th>\n",
       "      <th>user__order_count</th>\n",
       "      <th>user__product_count</th>\n",
       "      <th>user__days_since_prior_order_mean</th>\n",
       "      <th>user__reordered_mean</th>\n",
       "      <th>user__most_dow</th>\n",
       "      <th>user__most_hod</th>\n",
       "    </tr>\n",
       "  </thead>\n",
       "  <tbody>\n",
       "    <tr>\n",
       "      <th>0</th>\n",
       "      <td>152610</td>\n",
       "      <td>30597</td>\n",
       "      <td>22</td>\n",
       "      <td>6</td>\n",
       "      <td>8</td>\n",
       "      <td>10.0</td>\n",
       "      <td>152610_30597</td>\n",
       "      <td>0</td>\n",
       "      <td>5</td>\n",
       "      <td>2.00</td>\n",
       "      <td>...</td>\n",
       "      <td>9</td>\n",
       "      <td>12.592593</td>\n",
       "      <td>53</td>\n",
       "      <td>16</td>\n",
       "      <td>26</td>\n",
       "      <td>408</td>\n",
       "      <td>10.953804</td>\n",
       "      <td>0.375</td>\n",
       "      <td>6</td>\n",
       "      <td>12</td>\n",
       "    </tr>\n",
       "    <tr>\n",
       "      <th>1</th>\n",
       "      <td>152610</td>\n",
       "      <td>15221</td>\n",
       "      <td>22</td>\n",
       "      <td>6</td>\n",
       "      <td>8</td>\n",
       "      <td>10.0</td>\n",
       "      <td>152610_15221</td>\n",
       "      <td>0</td>\n",
       "      <td>8</td>\n",
       "      <td>8.25</td>\n",
       "      <td>...</td>\n",
       "      <td>12</td>\n",
       "      <td>13.653846</td>\n",
       "      <td>84</td>\n",
       "      <td>16</td>\n",
       "      <td>26</td>\n",
       "      <td>408</td>\n",
       "      <td>10.953804</td>\n",
       "      <td>0.375</td>\n",
       "      <td>6</td>\n",
       "      <td>12</td>\n",
       "    </tr>\n",
       "    <tr>\n",
       "      <th>2</th>\n",
       "      <td>152610</td>\n",
       "      <td>43772</td>\n",
       "      <td>22</td>\n",
       "      <td>6</td>\n",
       "      <td>8</td>\n",
       "      <td>10.0</td>\n",
       "      <td>152610_43772</td>\n",
       "      <td>0</td>\n",
       "      <td>2</td>\n",
       "      <td>3.00</td>\n",
       "      <td>...</td>\n",
       "      <td>12</td>\n",
       "      <td>12.008565</td>\n",
       "      <td>83</td>\n",
       "      <td>4</td>\n",
       "      <td>26</td>\n",
       "      <td>408</td>\n",
       "      <td>10.953804</td>\n",
       "      <td>0.375</td>\n",
       "      <td>6</td>\n",
       "      <td>12</td>\n",
       "    </tr>\n",
       "    <tr>\n",
       "      <th>3</th>\n",
       "      <td>152610</td>\n",
       "      <td>37886</td>\n",
       "      <td>22</td>\n",
       "      <td>6</td>\n",
       "      <td>8</td>\n",
       "      <td>10.0</td>\n",
       "      <td>152610_37886</td>\n",
       "      <td>0</td>\n",
       "      <td>2</td>\n",
       "      <td>3.50</td>\n",
       "      <td>...</td>\n",
       "      <td>14</td>\n",
       "      <td>11.489362</td>\n",
       "      <td>53</td>\n",
       "      <td>16</td>\n",
       "      <td>26</td>\n",
       "      <td>408</td>\n",
       "      <td>10.953804</td>\n",
       "      <td>0.375</td>\n",
       "      <td>6</td>\n",
       "      <td>12</td>\n",
       "    </tr>\n",
       "    <tr>\n",
       "      <th>4</th>\n",
       "      <td>152610</td>\n",
       "      <td>37215</td>\n",
       "      <td>22</td>\n",
       "      <td>6</td>\n",
       "      <td>8</td>\n",
       "      <td>10.0</td>\n",
       "      <td>152610_37215</td>\n",
       "      <td>0</td>\n",
       "      <td>1</td>\n",
       "      <td>5.00</td>\n",
       "      <td>...</td>\n",
       "      <td>13</td>\n",
       "      <td>11.490066</td>\n",
       "      <td>98</td>\n",
       "      <td>7</td>\n",
       "      <td>26</td>\n",
       "      <td>408</td>\n",
       "      <td>10.953804</td>\n",
       "      <td>0.375</td>\n",
       "      <td>6</td>\n",
       "      <td>12</td>\n",
       "    </tr>\n",
       "  </tbody>\n",
       "</table>\n",
       "<p>5 rows × 28 columns</p>\n",
       "</div>"
      ],
      "text/plain": [
       "   user_id  product_id  order_number  order_dow  order_hour_of_day  \\\n",
       "0   152610       30597            22          6                  8   \n",
       "1   152610       15221            22          6                  8   \n",
       "2   152610       43772            22          6                  8   \n",
       "3   152610       37886            22          6                  8   \n",
       "4   152610       37215            22          6                  8   \n",
       "\n",
       "   days_since_prior_order    unique_key  label  user_product__total_orders  \\\n",
       "0                    10.0  152610_30597      0                           5   \n",
       "1                    10.0  152610_15221      0                           8   \n",
       "2                    10.0  152610_43772      0                           2   \n",
       "3                    10.0  152610_37886      0                           2   \n",
       "4                    10.0  152610_37215      0                           1   \n",
       "\n",
       "   user_product__add_to_cart_order_mean  ...  product__most_hod  \\\n",
       "0                                  2.00  ...                  9   \n",
       "1                                  8.25  ...                 12   \n",
       "2                                  3.00  ...                 12   \n",
       "3                                  3.50  ...                 14   \n",
       "4                                  5.00  ...                 13   \n",
       "\n",
       "   product__days_since_prior_order_mean  product__aisle_id  \\\n",
       "0                             12.592593                 53   \n",
       "1                             13.653846                 84   \n",
       "2                             12.008565                 83   \n",
       "3                             11.489362                 53   \n",
       "4                             11.490066                 98   \n",
       "\n",
       "   product__department_id  user__order_count  user__product_count  \\\n",
       "0                      16                 26                  408   \n",
       "1                      16                 26                  408   \n",
       "2                       4                 26                  408   \n",
       "3                      16                 26                  408   \n",
       "4                       7                 26                  408   \n",
       "\n",
       "   user__days_since_prior_order_mean  user__reordered_mean  user__most_dow  \\\n",
       "0                          10.953804                 0.375               6   \n",
       "1                          10.953804                 0.375               6   \n",
       "2                          10.953804                 0.375               6   \n",
       "3                          10.953804                 0.375               6   \n",
       "4                          10.953804                 0.375               6   \n",
       "\n",
       "   user__most_hod  \n",
       "0              12  \n",
       "1              12  \n",
       "2              12  \n",
       "3              12  \n",
       "4              12  \n",
       "\n",
       "[5 rows x 28 columns]"
      ]
     },
     "execution_count": 33,
     "metadata": {},
     "output_type": "execute_result"
    }
   ],
   "source": [
    "model_all_data.head()"
   ]
  },
  {
   "cell_type": "code",
   "execution_count": 34,
   "metadata": {
    "id": "Luaz0Ak8oWxT"
   },
   "outputs": [],
   "source": [
    "unique_key = ['user_id', 'product_id']\n",
    "raw_features = ['order_number',\n",
    "                     'order_dow',\n",
    "                     'order_hour_of_day',\n",
    "                     'days_since_prior_order',\n",
    "                     'user_product__total_orders',\n",
    "                     'user_product__add_to_cart_order_mean',\n",
    "                     'user_product__reordered_mean',\n",
    "                     'user_product__most_dow',\n",
    "                     'user_product__most_hod',\n",
    "                     'product__total_orders',\n",
    "                     'product__add_to_cart_order_mean',\n",
    "                     'product__total_users',\n",
    "                     'product__reordered_mean',\n",
    "                     'product__most_dow',\n",
    "                     'product__most_hod',\n",
    "                     'product__days_since_prior_order_mean',\n",
    "                     'user__order_count',\n",
    "                     'user__product_count',\n",
    "                     'user__days_since_prior_order_mean',\n",
    "                     'user__reordered_mean',\n",
    "                     'user__most_dow',\n",
    "                     'user__most_hod',\n",
    "                     'product__aisle_id',\n",
    "                     'product__department_id',\n",
    "                     ]\n",
    "label = ['label']"
   ]
  },
  {
   "cell_type": "code",
   "execution_count": 35,
   "metadata": {
    "id": "7vxDeP_Jos-s"
   },
   "outputs": [],
   "source": [
    "model_all_data = model_all_data[unique_key + raw_features + label]"
   ]
  },
  {
   "cell_type": "code",
   "execution_count": 36,
   "metadata": {
    "colab": {
     "base_uri": "https://localhost:8080/",
     "height": 224
    },
    "executionInfo": {
     "elapsed": 11,
     "status": "ok",
     "timestamp": 1627174439214,
     "user": {
      "displayName": "Miao Wang",
      "photoUrl": "https://lh3.googleusercontent.com/a-/AOh14Gj2gWD5z1xIFGC8PbqA3mioC1WHPE1LoZ59VJPh=s64",
      "userId": "16458771487930506212"
     },
     "user_tz": 420
    },
    "id": "HSa9U-1Dow8g",
    "outputId": "979e3816-df98-41c9-f0b0-9a48bd6c4642"
   },
   "outputs": [
    {
     "data": {
      "text/plain": [
       "(329806, 27)"
      ]
     },
     "execution_count": 36,
     "metadata": {},
     "output_type": "execute_result"
    }
   ],
   "source": [
    "model_all_data.shape"
   ]
  },
  {
   "cell_type": "markdown",
   "metadata": {
    "id": "6TJxEfPopfI6"
   },
   "source": [
    "# Feature Data Analysis & Tranformation"
   ]
  },
  {
   "cell_type": "markdown",
   "metadata": {
    "id": "ObTVgGe3pm2c"
   },
   "source": [
    "### Label Ratio"
   ]
  },
  {
   "cell_type": "code",
   "execution_count": 37,
   "metadata": {
    "colab": {
     "base_uri": "https://localhost:8080/"
    },
    "executionInfo": {
     "elapsed": 11,
     "status": "ok",
     "timestamp": 1627174439423,
     "user": {
      "displayName": "Miao Wang",
      "photoUrl": "https://lh3.googleusercontent.com/a-/AOh14Gj2gWD5z1xIFGC8PbqA3mioC1WHPE1LoZ59VJPh=s64",
      "userId": "16458771487930506212"
     },
     "user_tz": 420
    },
    "id": "XVj-GV6QpWiF",
    "outputId": "014cfaa5-0ad5-4967-cc5d-fc60c0302f23"
   },
   "outputs": [
    {
     "name": "stdout",
     "output_type": "stream",
     "text": [
      "Negative label count:  297467\n",
      "Positive label count:  32339\n",
      "Positive label rate is 9.81%\n"
     ]
    }
   ],
   "source": [
    "label_count = model_all_data.label.value_counts()\n",
    "print(\"Negative label count: \", label_count[0])\n",
    "print(\"Positive label count: \", label_count[1])\n",
    "print(\"Positive label rate is {:.2f}%\".format(\n",
    "      label_count[1] / (label_count[0] + label_count[1]) * 100) )"
   ]
  },
  {
   "cell_type": "code",
   "execution_count": 38,
   "metadata": {},
   "outputs": [
    {
     "data": {
      "text/plain": [
       "Index(['user_id', 'product_id', 'order_number', 'order_dow',\n",
       "       'order_hour_of_day', 'days_since_prior_order',\n",
       "       'user_product__total_orders', 'user_product__add_to_cart_order_mean',\n",
       "       'user_product__reordered_mean', 'user_product__most_dow',\n",
       "       'user_product__most_hod', 'product__total_orders',\n",
       "       'product__add_to_cart_order_mean', 'product__total_users',\n",
       "       'product__reordered_mean', 'product__most_dow', 'product__most_hod',\n",
       "       'product__days_since_prior_order_mean', 'user__order_count',\n",
       "       'user__product_count', 'user__days_since_prior_order_mean',\n",
       "       'user__reordered_mean', 'user__most_dow', 'user__most_hod',\n",
       "       'product__aisle_id', 'product__department_id', 'label'],\n",
       "      dtype='object')"
      ]
     },
     "execution_count": 38,
     "metadata": {},
     "output_type": "execute_result"
    }
   ],
   "source": [
    "model_all_data.columns"
   ]
  },
  {
   "cell_type": "code",
   "execution_count": 39,
   "metadata": {
    "colab": {
     "base_uri": "https://localhost:8080/",
     "height": 281
    },
    "executionInfo": {
     "elapsed": 340,
     "status": "ok",
     "timestamp": 1627174439755,
     "user": {
      "displayName": "Miao Wang",
      "photoUrl": "https://lh3.googleusercontent.com/a-/AOh14Gj2gWD5z1xIFGC8PbqA3mioC1WHPE1LoZ59VJPh=s64",
      "userId": "16458771487930506212"
     },
     "user_tz": 420
    },
    "id": "xs2FKtjToxya",
    "outputId": "06284e97-760c-47e6-f3c8-463deb778221"
   },
   "outputs": [
    {
     "data": {
      "image/png": "[encoded data removed]",
      "text/plain": [
       "<Figure size 432x288 with 1 Axes>"
      ]
     },
     "metadata": {},
     "output_type": "display_data"
    }
   ],
   "source": [
    "ax = label_count.sort_values().plot(kind='barh', title='Labels Count')\n",
    "ax.grid(axis=\"x\")"
   ]
  },
  {
   "cell_type": "markdown",
   "metadata": {
    "id": "s-G6r5JxrDf1"
   },
   "source": [
    "### Null value check"
   ]
  },
  {
   "cell_type": "code",
   "execution_count": 40,
   "metadata": {
    "colab": {
     "base_uri": "https://localhost:8080/"
    },
    "executionInfo": {
     "elapsed": 37,
     "status": "ok",
     "timestamp": 1627174439762,
     "user": {
      "displayName": "Miao Wang",
      "photoUrl": "https://lh3.googleusercontent.com/a-/AOh14Gj2gWD5z1xIFGC8PbqA3mioC1WHPE1LoZ59VJPh=s64",
      "userId": "16458771487930506212"
     },
     "user_tz": 420
    },
    "id": "YDOcN-_wrDQG",
    "outputId": "84f4d060-a727-4c40-ebfe-afe91bb16b06"
   },
   "outputs": [
    {
     "data": {
      "text/plain": [
       "user_id                                     0\n",
       "product_id                                  0\n",
       "order_number                                0\n",
       "order_dow                                   0\n",
       "order_hour_of_day                           0\n",
       "days_since_prior_order                  29995\n",
       "user_product__total_orders                  0\n",
       "user_product__add_to_cart_order_mean        0\n",
       "user_product__reordered_mean                0\n",
       "user_product__most_dow                      0\n",
       "user_product__most_hod                      0\n",
       "product__total_orders                       0\n",
       "product__add_to_cart_order_mean             0\n",
       "product__total_users                        0\n",
       "product__reordered_mean                     0\n",
       "product__most_dow                           0\n",
       "product__most_hod                           0\n",
       "product__days_since_prior_order_mean      726\n",
       "user__order_count                           0\n",
       "user__product_count                         0\n",
       "user__days_since_prior_order_mean           0\n",
       "user__reordered_mean                        0\n",
       "user__most_dow                              0\n",
       "user__most_hod                              0\n",
       "product__aisle_id                           0\n",
       "product__department_id                      0\n",
       "label                                       0\n",
       "dtype: int64"
      ]
     },
     "execution_count": 40,
     "metadata": {},
     "output_type": "execute_result"
    }
   ],
   "source": [
    "model_all_data.isna().sum()"
   ]
  },
  {
   "cell_type": "markdown",
   "metadata": {
    "id": "isKWh5gVrVO9"
   },
   "source": [
    "### Categorical Feature Transformation"
   ]
  },
  {
   "cell_type": "code",
   "execution_count": 41,
   "metadata": {
    "id": "CgwwX0Q-qHRz"
   },
   "outputs": [],
   "source": [
    "# One-hot encoding for the `product__department_id` feature.\n",
    "model_all_data = pd.concat(\n",
    "    [model_all_data.drop('product__department_id',axis=1),\n",
    "     pd.get_dummies(model_all_data[\"product__department_id\"],\n",
    "                    prefix='product__department_id_')],\n",
    "                     axis=1)"
   ]
  },
  {
   "cell_type": "code",
   "execution_count": 42,
   "metadata": {},
   "outputs": [
    {
     "data": {
      "text/html": [
       "<div>\n",
       "<style scoped>\n",
       "    .dataframe tbody tr th:only-of-type {\n",
       "        vertical-align: middle;\n",
       "    }\n",
       "\n",
       "    .dataframe tbody tr th {\n",
       "        vertical-align: top;\n",
       "    }\n",
       "\n",
       "    .dataframe thead th {\n",
       "        text-align: right;\n",
       "    }\n",
       "</style>\n",
       "<table border=\"1\" class=\"dataframe\">\n",
       "  <thead>\n",
       "    <tr style=\"text-align: right;\">\n",
       "      <th></th>\n",
       "      <th>user_id</th>\n",
       "      <th>product_id</th>\n",
       "      <th>order_number</th>\n",
       "      <th>order_dow</th>\n",
       "      <th>order_hour_of_day</th>\n",
       "      <th>days_since_prior_order</th>\n",
       "      <th>user_product__total_orders</th>\n",
       "      <th>user_product__add_to_cart_order_mean</th>\n",
       "      <th>user_product__reordered_mean</th>\n",
       "      <th>user_product__most_dow</th>\n",
       "      <th>...</th>\n",
       "      <th>product__department_id__12</th>\n",
       "      <th>product__department_id__13</th>\n",
       "      <th>product__department_id__14</th>\n",
       "      <th>product__department_id__15</th>\n",
       "      <th>product__department_id__16</th>\n",
       "      <th>product__department_id__17</th>\n",
       "      <th>product__department_id__18</th>\n",
       "      <th>product__department_id__19</th>\n",
       "      <th>product__department_id__20</th>\n",
       "      <th>product__department_id__21</th>\n",
       "    </tr>\n",
       "  </thead>\n",
       "  <tbody>\n",
       "    <tr>\n",
       "      <th>0</th>\n",
       "      <td>152610</td>\n",
       "      <td>30597</td>\n",
       "      <td>22</td>\n",
       "      <td>6</td>\n",
       "      <td>8</td>\n",
       "      <td>10.0</td>\n",
       "      <td>5</td>\n",
       "      <td>2.00</td>\n",
       "      <td>0.800</td>\n",
       "      <td>6</td>\n",
       "      <td>...</td>\n",
       "      <td>0</td>\n",
       "      <td>0</td>\n",
       "      <td>0</td>\n",
       "      <td>0</td>\n",
       "      <td>1</td>\n",
       "      <td>0</td>\n",
       "      <td>0</td>\n",
       "      <td>0</td>\n",
       "      <td>0</td>\n",
       "      <td>0</td>\n",
       "    </tr>\n",
       "    <tr>\n",
       "      <th>1</th>\n",
       "      <td>152610</td>\n",
       "      <td>15221</td>\n",
       "      <td>22</td>\n",
       "      <td>6</td>\n",
       "      <td>8</td>\n",
       "      <td>10.0</td>\n",
       "      <td>8</td>\n",
       "      <td>8.25</td>\n",
       "      <td>0.875</td>\n",
       "      <td>4</td>\n",
       "      <td>...</td>\n",
       "      <td>0</td>\n",
       "      <td>0</td>\n",
       "      <td>0</td>\n",
       "      <td>0</td>\n",
       "      <td>1</td>\n",
       "      <td>0</td>\n",
       "      <td>0</td>\n",
       "      <td>0</td>\n",
       "      <td>0</td>\n",
       "      <td>0</td>\n",
       "    </tr>\n",
       "    <tr>\n",
       "      <th>2</th>\n",
       "      <td>152610</td>\n",
       "      <td>43772</td>\n",
       "      <td>22</td>\n",
       "      <td>6</td>\n",
       "      <td>8</td>\n",
       "      <td>10.0</td>\n",
       "      <td>2</td>\n",
       "      <td>3.00</td>\n",
       "      <td>0.500</td>\n",
       "      <td>5</td>\n",
       "      <td>...</td>\n",
       "      <td>0</td>\n",
       "      <td>0</td>\n",
       "      <td>0</td>\n",
       "      <td>0</td>\n",
       "      <td>0</td>\n",
       "      <td>0</td>\n",
       "      <td>0</td>\n",
       "      <td>0</td>\n",
       "      <td>0</td>\n",
       "      <td>0</td>\n",
       "    </tr>\n",
       "    <tr>\n",
       "      <th>3</th>\n",
       "      <td>152610</td>\n",
       "      <td>37886</td>\n",
       "      <td>22</td>\n",
       "      <td>6</td>\n",
       "      <td>8</td>\n",
       "      <td>10.0</td>\n",
       "      <td>2</td>\n",
       "      <td>3.50</td>\n",
       "      <td>0.500</td>\n",
       "      <td>6</td>\n",
       "      <td>...</td>\n",
       "      <td>0</td>\n",
       "      <td>0</td>\n",
       "      <td>0</td>\n",
       "      <td>0</td>\n",
       "      <td>1</td>\n",
       "      <td>0</td>\n",
       "      <td>0</td>\n",
       "      <td>0</td>\n",
       "      <td>0</td>\n",
       "      <td>0</td>\n",
       "    </tr>\n",
       "    <tr>\n",
       "      <th>4</th>\n",
       "      <td>152610</td>\n",
       "      <td>37215</td>\n",
       "      <td>22</td>\n",
       "      <td>6</td>\n",
       "      <td>8</td>\n",
       "      <td>10.0</td>\n",
       "      <td>1</td>\n",
       "      <td>5.00</td>\n",
       "      <td>0.000</td>\n",
       "      <td>6</td>\n",
       "      <td>...</td>\n",
       "      <td>0</td>\n",
       "      <td>0</td>\n",
       "      <td>0</td>\n",
       "      <td>0</td>\n",
       "      <td>0</td>\n",
       "      <td>0</td>\n",
       "      <td>0</td>\n",
       "      <td>0</td>\n",
       "      <td>0</td>\n",
       "      <td>0</td>\n",
       "    </tr>\n",
       "  </tbody>\n",
       "</table>\n",
       "<p>5 rows × 47 columns</p>\n",
       "</div>"
      ],
      "text/plain": [
       "   user_id  product_id  order_number  order_dow  order_hour_of_day  \\\n",
       "0   152610       30597            22          6                  8   \n",
       "1   152610       15221            22          6                  8   \n",
       "2   152610       43772            22          6                  8   \n",
       "3   152610       37886            22          6                  8   \n",
       "4   152610       37215            22          6                  8   \n",
       "\n",
       "   days_since_prior_order  user_product__total_orders  \\\n",
       "0                    10.0                           5   \n",
       "1                    10.0                           8   \n",
       "2                    10.0                           2   \n",
       "3                    10.0                           2   \n",
       "4                    10.0                           1   \n",
       "\n",
       "   user_product__add_to_cart_order_mean  user_product__reordered_mean  \\\n",
       "0                                  2.00                         0.800   \n",
       "1                                  8.25                         0.875   \n",
       "2                                  3.00                         0.500   \n",
       "3                                  3.50                         0.500   \n",
       "4                                  5.00                         0.000   \n",
       "\n",
       "   user_product__most_dow  ...  product__department_id__12  \\\n",
       "0                       6  ...                           0   \n",
       "1                       4  ...                           0   \n",
       "2                       5  ...                           0   \n",
       "3                       6  ...                           0   \n",
       "4                       6  ...                           0   \n",
       "\n",
       "   product__department_id__13  product__department_id__14  \\\n",
       "0                           0                           0   \n",
       "1                           0                           0   \n",
       "2                           0                           0   \n",
       "3                           0                           0   \n",
       "4                           0                           0   \n",
       "\n",
       "   product__department_id__15  product__department_id__16  \\\n",
       "0                           0                           1   \n",
       "1                           0                           1   \n",
       "2                           0                           0   \n",
       "3                           0                           1   \n",
       "4                           0                           0   \n",
       "\n",
       "   product__department_id__17  product__department_id__18  \\\n",
       "0                           0                           0   \n",
       "1                           0                           0   \n",
       "2                           0                           0   \n",
       "3                           0                           0   \n",
       "4                           0                           0   \n",
       "\n",
       "   product__department_id__19  product__department_id__20  \\\n",
       "0                           0                           0   \n",
       "1                           0                           0   \n",
       "2                           0                           0   \n",
       "3                           0                           0   \n",
       "4                           0                           0   \n",
       "\n",
       "   product__department_id__21  \n",
       "0                           0  \n",
       "1                           0  \n",
       "2                           0  \n",
       "3                           0  \n",
       "4                           0  \n",
       "\n",
       "[5 rows x 47 columns]"
      ]
     },
     "execution_count": 42,
     "metadata": {},
     "output_type": "execute_result"
    }
   ],
   "source": [
    "model_all_data.head()"
   ]
  },
  {
   "cell_type": "markdown",
   "metadata": {
    "id": "wColDjFnsbLi"
   },
   "source": [
    "#  Split Dataset to Train, Validation and Test"
   ]
  },
  {
   "cell_type": "markdown",
   "metadata": {
    "id": "dswd8BaZssuj"
   },
   "source": [
    "In order to do model training, model selection and evaluation, we split `model_all_data` to three parts: train, validation, test."
   ]
  },
  {
   "cell_type": "code",
   "execution_count": 43,
   "metadata": {
    "colab": {
     "base_uri": "https://localhost:8080/"
    },
    "executionInfo": {
     "elapsed": 30,
     "status": "ok",
     "timestamp": 1627174440160,
     "user": {
      "displayName": "Miao Wang",
      "photoUrl": "https://lh3.googleusercontent.com/a-/AOh14Gj2gWD5z1xIFGC8PbqA3mioC1WHPE1LoZ59VJPh=s64",
      "userId": "16458771487930506212"
     },
     "user_tz": 420
    },
    "id": "4Ph83khusTut",
    "outputId": "fc842f1f-abe0-4f17-b8f8-5d08dc6192e7"
   },
   "outputs": [
    {
     "data": {
      "text/plain": [
       "(329806, 47)"
      ]
     },
     "execution_count": 43,
     "metadata": {},
     "output_type": "execute_result"
    }
   ],
   "source": [
    "model_all_data.shape"
   ]
  },
  {
   "cell_type": "code",
   "execution_count": 44,
   "metadata": {},
   "outputs": [],
   "source": [
    "test_user_ids = model_all_data.user_id.drop_duplicates().sample(frac=0.2)\n",
    "train_validation_data = model_all_data[~model_all_data.user_id.isin(test_user_ids)]\n",
    "test_data = model_all_data[model_all_data.user_id.isin(test_user_ids)]"
   ]
  },
  {
   "cell_type": "code",
   "execution_count": 45,
   "metadata": {
    "colab": {
     "base_uri": "https://localhost:8080/"
    },
    "executionInfo": {
     "elapsed": 22,
     "status": "ok",
     "timestamp": 1627174440160,
     "user": {
      "displayName": "Miao Wang",
      "photoUrl": "https://lh3.googleusercontent.com/a-/AOh14Gj2gWD5z1xIFGC8PbqA3mioC1WHPE1LoZ59VJPh=s64",
      "userId": "16458771487930506212"
     },
     "user_tz": 420
    },
    "id": "ZRj7Tp-0umcc",
    "outputId": "66d927b8-c5e0-4c52-aa08-c84878c7c0e2"
   },
   "outputs": [
    {
     "data": {
      "text/plain": [
       "(263356, 47)"
      ]
     },
     "execution_count": 45,
     "metadata": {},
     "output_type": "execute_result"
    }
   ],
   "source": [
    "train_validation_data.shape"
   ]
  },
  {
   "cell_type": "code",
   "execution_count": 46,
   "metadata": {
    "colab": {
     "base_uri": "https://localhost:8080/"
    },
    "executionInfo": {
     "elapsed": 17,
     "status": "ok",
     "timestamp": 1627174440161,
     "user": {
      "displayName": "Miao Wang",
      "photoUrl": "https://lh3.googleusercontent.com/a-/AOh14Gj2gWD5z1xIFGC8PbqA3mioC1WHPE1LoZ59VJPh=s64",
      "userId": "16458771487930506212"
     },
     "user_tz": 420
    },
    "id": "xtBwSUXwu-5w",
    "outputId": "0d6265db-bdfc-4526-b34d-c8c28cd2da3f"
   },
   "outputs": [
    {
     "data": {
      "text/plain": [
       "(66450, 47)"
      ]
     },
     "execution_count": 46,
     "metadata": {},
     "output_type": "execute_result"
    }
   ],
   "source": [
    "test_data.shape"
   ]
  },
  {
   "cell_type": "markdown",
   "metadata": {
    "id": "751m91O-D2J4"
   },
   "source": [
    "# Model Selection with Cross Validation"
   ]
  },
  {
   "cell_type": "markdown",
   "metadata": {
    "id": "wF04v6wkn6Cy"
   },
   "source": [
    "## Model Selection with All Features"
   ]
  },
  {
   "cell_type": "markdown",
   "metadata": {},
   "source": [
    "We have a list of candidate models to test and choose and compare the performance:  \n",
    "* Logistic Regression\n",
    "* Decision Tree Classifier \n",
    "* Random Forest Classifier \n",
    "* AdaBoost Classifier\n",
    "* GrandientBoostingClassifier\n",
    "* XGBoost Classifier"
   ]
  },
  {
   "cell_type": "code",
   "execution_count": 47,
   "metadata": {
    "id": "3SuiquaZKhgb"
   },
   "outputs": [],
   "source": [
    "# prepare train, val data\n",
    "train_validation_data_x = train_validation_data.drop(['user_id', 'product_id', 'label'],axis=1)\n",
    "train_validation_data_y = train_validation_data['label']"
   ]
  },
  {
   "cell_type": "code",
   "execution_count": 48,
   "metadata": {
    "id": "ggI9_UAB_VX6"
   },
   "outputs": [],
   "source": [
    "# Get the list of models we want to test\n",
    "classifiers = [\n",
    "    LogisticRegression(),\n",
    "    DecisionTreeClassifier(),\n",
    "    RandomForestClassifier(),\n",
    "    AdaBoostClassifier(),\n",
    "    GradientBoostingClassifier(),\n",
    "    xgb.XGBClassifier()\n",
    "    ]"
   ]
  },
  {
   "cell_type": "markdown",
   "metadata": {
    "id": "PgR1QKnMoYNc"
   },
   "source": [
    "**Build a ml pipeline to perform data inputation, random down-sampling and scaling** \n",
    "\n",
    "Since this pipeline is reusable and applicable across all models we selected, we can just append all the models into the function and run a for loop to perform cross validation in the next steps. \n",
    "\n",
    "The `Pipeline` function sequentially apply a list of transforms and a final estimator. Intermediate steps of the pipeline must be `transforms`, that is, they must implement `fit` and `transform` methods. The final estimator only needs to implement `fit`. The transformers in the pipeline can be cached using memory argument.[Reference](https://scikit-learn.org/stable/modules/generated/sklearn.pipeline.Pipeline.html)\n",
    "* Simple Imputer: There are not many missing data in the original dataset, so simple imputation method to fill NAN would be sufficient [Reference](https://scikit-learn.org/stable/modules/generated/sklearn.impute.SimpleImputer.html)\n",
    "* Downsampling: sampling mathod used for imbalanced dataset. Imbalanced datasets are those with a severe skew in the class distribution, such as 1:100 or 1:1000, the bias in the training dataset can influence many machine learning algorithms and lead to ignorance to minority class, which sometimes are the most important predictions.\n",
    "    - the approach here to address the problem of class imnbalance is to randomly resample the training dataset. There are two ways to achieve this goal: to delete examples from the majority class (undersampling) and add duplicate examples from minority class (oversampling). We chose to use undersmapling here. [Reference](https://imbalanced-learn.org/stable/references/generated/imblearn.under_sampling.RandomUnderSampler.html)\n",
    "* Scaling - We use MinMaxScaling to transform features by giving each of them a range. [Reference](https://scikit-learn.org/stable/modules/generated/sklearn.preprocessing.MinMaxScaler.html)"
   ]
  },
  {
   "cell_type": "code",
   "execution_count": 49,
   "metadata": {
    "id": "95HAZDDrMbEj"
   },
   "outputs": [],
   "source": [
    "# define a ml pipeline\n",
    "def build_ml_pipeline(classifier):\n",
    "  steps = list()\n",
    "  steps.append(('fillnan', SimpleImputer(missing_values=np.nan, strategy='constant', fill_value=0.0)))\n",
    "  steps.append(('downSample', RandomUnderSampler()))\n",
    "  steps.append(('scaler', MinMaxScaler()))\n",
    "  steps.append(('model', classifier))\n",
    "  pipeline = Pipeline(steps=steps)\n",
    "  return pipeline"
   ]
  },
  {
   "cell_type": "markdown",
   "metadata": {},
   "source": [
    "**Cross Validation using f1 scoring system.**\n",
    "\n",
    "F1 score sums up the predictive performance of a model by combining two otherwise competing metrics: precision and recall. So it has some advantages over traditional scorings like r2, roc-auc.\n",
    "\n",
    "$Precision: \\frac{TP}{TP+FP}$ Measures the extent of error caused by FP. <br> \n",
    "$Recall: \\frac{TP}{TP+FN} $ Measures the extent of error caused by FN.<br>\n",
    "$F1-score =2*\\frac{Precision*Recall}{Precision+Recall}$\n",
    "\n",
    "Beacause of the trade-off between precision and recall, *increasing precision will decrease recall, and vice versa.* \n",
    "\n",
    "By definition, F1 score is the harmonic mean of precision and recall, which “penalises unequal values more” when precision and recall are unequal. The higher the precision and recall, the higher the F1-score. F1-score ranges between 0 and 1. *The closer it is to 1, the better the model.*\n",
    "\n",
    "\n",
    "[Reference](https://towardsdatascience.com/essential-things-you-need-to-know-about-f1-score-dbd973bf1a3#:~:text=1.-,Introduction,competing%20metrics%20%E2%80%94%20precision%20and%20recall)\n"
   ]
  },
  {
   "cell_type": "markdown",
   "metadata": {},
   "source": [
    "**Using cross_val_score function to perform cross validation to a list of pipelined models.**\n",
    "* using training_validartion dataset\n",
    "* cv = 10-fold "
   ]
  },
  {
   "cell_type": "code",
   "execution_count": 50,
   "metadata": {
    "colab": {
     "base_uri": "https://localhost:8080/"
    },
    "executionInfo": {
     "elapsed": 183074,
     "status": "ok",
     "timestamp": 1627174623226,
     "user": {
      "displayName": "Miao Wang",
      "photoUrl": "https://lh3.googleusercontent.com/a-/AOh14Gj2gWD5z1xIFGC8PbqA3mioC1WHPE1LoZ59VJPh=s64",
      "userId": "16458771487930506212"
     },
     "user_tz": 420
    },
    "id": "3on93yGbMtkr",
    "outputId": "f5e341a0-ce51-4c3e-abfb-4ed0f5022f2b"
   },
   "outputs": [
    {
     "name": "stdout",
     "output_type": "stream",
     "text": [
      "CPU times: user 24.3 s, sys: 5.22 s, total: 29.5 s\n",
      "Wall time: 4.28 s\n",
      "LogisticRegression : F1 value is 34.731 (2.267)\n",
      "==============\n",
      "CPU times: user 8.33 s, sys: 317 ms, total: 8.65 s\n",
      "Wall time: 7.64 s\n",
      "DecisionTreeClassifier : F1 value is 24.067 (1.114)\n",
      "==============\n",
      "CPU times: user 1min 15s, sys: 254 ms, total: 1min 15s\n",
      "Wall time: 1min 15s\n",
      "RandomForestClassifier : F1 value is 32.948 (2.540)\n",
      "==============\n",
      "CPU times: user 24.9 s, sys: 42.6 ms, total: 24.9 s\n",
      "Wall time: 25 s\n",
      "AdaBoostClassifier : F1 value is 33.916 (2.602)\n",
      "==============\n",
      "CPU times: user 1min 54s, sys: 229 ms, total: 1min 54s\n",
      "Wall time: 1min 54s\n",
      "GradientBoostingClassifier : F1 value is 34.852 (2.955)\n",
      "==============\n",
      "CPU times: user 3min 36s, sys: 14.3 s, total: 3min 50s\n",
      "Wall time: 32.2 s\n",
      "XGBClassifier : F1 value is 30.028 (3.004)\n",
      "==============\n"
     ]
    }
   ],
   "source": [
    "#select the best model using cross validation \n",
    "#evaluate the model using f1 score \n",
    "for classifier in classifiers:\n",
    "  pipeline = build_ml_pipeline(classifier)\n",
    "  %time scores = cross_val_score(pipeline, train_validation_data_x, train_validation_data_y, cv=10, scoring='f1')\n",
    "   #Valid options are ['accuracy','adjusted_rand_score', 'average_precision', 'f1', 'log_loss', 'mean_absolute_error', 'mean_squared_error', 'precision', 'r2', 'recall', 'roc_auc']\n",
    "\n",
    "  print(classifier.__class__.__name__, ': F1 value is %.3f (%.3f)' % (np.mean(scores)*100, np.std(scores)*100))\n",
    "  print('==============')"
   ]
  },
  {
   "cell_type": "markdown",
   "metadata": {
    "id": "r9O2Y0OZrQsW"
   },
   "source": [
    "## Feature Importance Ranking and Selection"
   ]
  },
  {
   "cell_type": "markdown",
   "metadata": {},
   "source": [
    "Generally, importance provides a score that indicates how *useful* or *valuable* each feature was in the construction of the boosted decision trees within the model. The more an attribute is used to make key decisions with decision trees, the higher its relative importance. Feature importance scores will be in the range [0,1]. Higher scores mean the feature is more important.\n",
    "\n",
    "Importance is calculated for a single decision tree by the amount that each attribute split point improves the performance measure, weighted by the number of observations the node is responsible for. The performance measure may be the purity (Gini index) used to select the split points or another more specific error function.\n",
    "\n",
    "The feature importances are then averaged across all of the the decision trees within the model.\n",
    "\n",
    "Reference: *The Elements of Statistical Learning, 10.13.1 Relative Importance of Rredictor Variables*"
   ]
  },
  {
   "cell_type": "code",
   "execution_count": 30,
   "metadata": {
    "colab": {
     "base_uri": "https://localhost:8080/"
    },
    "executionInfo": {
     "elapsed": 22485,
     "status": "ok",
     "timestamp": 1627174645698,
     "user": {
      "displayName": "Miao Wang",
      "photoUrl": "https://lh3.googleusercontent.com/a-/AOh14Gj2gWD5z1xIFGC8PbqA3mioC1WHPE1LoZ59VJPh=s64",
      "userId": "16458771487930506212"
     },
     "user_tz": 420
    },
    "id": "xVEukT4ur16y",
    "outputId": "e435c860-67b7-4f1e-9396-3b4a92d0e434"
   },
   "outputs": [
    {
     "data": {
      "text/html": [
       "<style>#sk-container-id-1 {color: black;background-color: white;}#sk-container-id-1 pre{padding: 0;}#sk-container-id-1 div.sk-toggleable {background-color: white;}#sk-container-id-1 label.sk-toggleable__label {cursor: pointer;display: block;width: 100%;margin-bottom: 0;padding: 0.3em;box-sizing: border-box;text-align: center;}#sk-container-id-1 label.sk-toggleable__label-arrow:before {content: \"▸\";float: left;margin-right: 0.25em;color: #696969;}#sk-container-id-1 label.sk-toggleable__label-arrow:hover:before {color: black;}#sk-container-id-1 div.sk-estimator:hover label.sk-toggleable__label-arrow:before {color: black;}#sk-container-id-1 div.sk-toggleable__content {max-height: 0;max-width: 0;overflow: hidden;text-align: left;background-color: #f0f8ff;}#sk-container-id-1 div.sk-toggleable__content pre {margin: 0.2em;color: black;border-radius: 0.25em;background-color: #f0f8ff;}#sk-container-id-1 input.sk-toggleable__control:checked~div.sk-toggleable__content {max-height: 200px;max-width: 100%;overflow: auto;}#sk-container-id-1 input.sk-toggleable__control:checked~label.sk-toggleable__label-arrow:before {content: \"▾\";}#sk-container-id-1 div.sk-estimator input.sk-toggleable__control:checked~label.sk-toggleable__label {background-color: #d4ebff;}#sk-container-id-1 div.sk-label input.sk-toggleable__control:checked~label.sk-toggleable__label {background-color: #d4ebff;}#sk-container-id-1 input.sk-hidden--visually {border: 0;clip: rect(1px 1px 1px 1px);clip: rect(1px, 1px, 1px, 1px);height: 1px;margin: -1px;overflow: hidden;padding: 0;position: absolute;width: 1px;}#sk-container-id-1 div.sk-estimator {font-family: monospace;background-color: #f0f8ff;border: 1px dotted black;border-radius: 0.25em;box-sizing: border-box;margin-bottom: 0.5em;}#sk-container-id-1 div.sk-estimator:hover {background-color: #d4ebff;}#sk-container-id-1 div.sk-parallel-item::after {content: \"\";width: 100%;border-bottom: 1px solid gray;flex-grow: 1;}#sk-container-id-1 div.sk-label:hover label.sk-toggleable__label {background-color: #d4ebff;}#sk-container-id-1 div.sk-serial::before {content: \"\";position: absolute;border-left: 1px solid gray;box-sizing: border-box;top: 0;bottom: 0;left: 50%;z-index: 0;}#sk-container-id-1 div.sk-serial {display: flex;flex-direction: column;align-items: center;background-color: white;padding-right: 0.2em;padding-left: 0.2em;position: relative;}#sk-container-id-1 div.sk-item {position: relative;z-index: 1;}#sk-container-id-1 div.sk-parallel {display: flex;align-items: stretch;justify-content: center;background-color: white;position: relative;}#sk-container-id-1 div.sk-item::before, #sk-container-id-1 div.sk-parallel-item::before {content: \"\";position: absolute;border-left: 1px solid gray;box-sizing: border-box;top: 0;bottom: 0;left: 50%;z-index: -1;}#sk-container-id-1 div.sk-parallel-item {display: flex;flex-direction: column;z-index: 1;position: relative;background-color: white;}#sk-container-id-1 div.sk-parallel-item:first-child::after {align-self: flex-end;width: 50%;}#sk-container-id-1 div.sk-parallel-item:last-child::after {align-self: flex-start;width: 50%;}#sk-container-id-1 div.sk-parallel-item:only-child::after {width: 0;}#sk-container-id-1 div.sk-dashed-wrapped {border: 1px dashed gray;margin: 0 0.4em 0.5em 0.4em;box-sizing: border-box;padding-bottom: 0.4em;background-color: white;}#sk-container-id-1 div.sk-label label {font-family: monospace;font-weight: bold;display: inline-block;line-height: 1.2em;}#sk-container-id-1 div.sk-label-container {text-align: center;}#sk-container-id-1 div.sk-container {/* jupyter's `normalize.less` sets `[hidden] { display: none; }` but bootstrap.min.css set `[hidden] { display: none !important; }` so we also need the `!important` here to be able to override the default hidden behavior on the sphinx rendered scikit-learn.org. See: https://github.com/scikit-learn/scikit-learn/issues/21755 */display: inline-block !important;position: relative;}#sk-container-id-1 div.sk-text-repr-fallback {display: none;}</style><div id=\"sk-container-id-1\" class=\"sk-top-container\"><div class=\"sk-text-repr-fallback\"><pre>Pipeline(steps=[(&#x27;fillnan&#x27;, SimpleImputer(fill_value=0.0, strategy=&#x27;constant&#x27;)),\n",
       "                (&#x27;downSample&#x27;, RandomUnderSampler()),\n",
       "                (&#x27;scaler&#x27;, MinMaxScaler()),\n",
       "                (&#x27;model&#x27;, GradientBoostingClassifier())])</pre><b>In a Jupyter environment, please rerun this cell to show the HTML representation or trust the notebook. <br />On GitHub, the HTML representation is unable to render, please try loading this page with nbviewer.org.</b></div><div class=\"sk-container\" hidden><div class=\"sk-item sk-dashed-wrapped\"><div class=\"sk-label-container\"><div class=\"sk-label sk-toggleable\"><input class=\"sk-toggleable__control sk-hidden--visually\" id=\"sk-estimator-id-1\" type=\"checkbox\" ><label for=\"sk-estimator-id-1\" class=\"sk-toggleable__label sk-toggleable__label-arrow\">Pipeline</label><div class=\"sk-toggleable__content\"><pre>Pipeline(steps=[(&#x27;fillnan&#x27;, SimpleImputer(fill_value=0.0, strategy=&#x27;constant&#x27;)),\n",
       "                (&#x27;downSample&#x27;, RandomUnderSampler()),\n",
       "                (&#x27;scaler&#x27;, MinMaxScaler()),\n",
       "                (&#x27;model&#x27;, GradientBoostingClassifier())])</pre></div></div></div><div class=\"sk-serial\"><div class=\"sk-item\"><div class=\"sk-estimator sk-toggleable\"><input class=\"sk-toggleable__control sk-hidden--visually\" id=\"sk-estimator-id-2\" type=\"checkbox\" ><label for=\"sk-estimator-id-2\" class=\"sk-toggleable__label sk-toggleable__label-arrow\">SimpleImputer</label><div class=\"sk-toggleable__content\"><pre>SimpleImputer(fill_value=0.0, strategy=&#x27;constant&#x27;)</pre></div></div></div><div class=\"sk-item\"><div class=\"sk-estimator sk-toggleable\"><input class=\"sk-toggleable__control sk-hidden--visually\" id=\"sk-estimator-id-3\" type=\"checkbox\" ><label for=\"sk-estimator-id-3\" class=\"sk-toggleable__label sk-toggleable__label-arrow\">RandomUnderSampler</label><div class=\"sk-toggleable__content\"><pre>RandomUnderSampler()</pre></div></div></div><div class=\"sk-item\"><div class=\"sk-estimator sk-toggleable\"><input class=\"sk-toggleable__control sk-hidden--visually\" id=\"sk-estimator-id-4\" type=\"checkbox\" ><label for=\"sk-estimator-id-4\" class=\"sk-toggleable__label sk-toggleable__label-arrow\">MinMaxScaler</label><div class=\"sk-toggleable__content\"><pre>MinMaxScaler()</pre></div></div></div><div class=\"sk-item\"><div class=\"sk-estimator sk-toggleable\"><input class=\"sk-toggleable__control sk-hidden--visually\" id=\"sk-estimator-id-5\" type=\"checkbox\" ><label for=\"sk-estimator-id-5\" class=\"sk-toggleable__label sk-toggleable__label-arrow\">GradientBoostingClassifier</label><div class=\"sk-toggleable__content\"><pre>GradientBoostingClassifier()</pre></div></div></div></div></div></div></div>"
      ],
      "text/plain": [
       "Pipeline(steps=[('fillnan', SimpleImputer(fill_value=0.0, strategy='constant')),\n",
       "                ('downSample', RandomUnderSampler()),\n",
       "                ('scaler', MinMaxScaler()),\n",
       "                ('model', GradientBoostingClassifier())])"
      ]
     },
     "execution_count": 30,
     "metadata": {},
     "output_type": "execute_result"
    }
   ],
   "source": [
    "#this block takes a few mins to run\n",
    "pipeline = build_ml_pipeline(GradientBoostingClassifier())\n",
    "pipeline.fit(train_validation_data_x, train_validation_data_y)"
   ]
  },
  {
   "cell_type": "code",
   "execution_count": 31,
   "metadata": {
    "id": "UI0CAkrlse5f"
   },
   "outputs": [],
   "source": [
    "#get the list of feature importance\n",
    "importances = pipeline.steps[3][1].feature_importances_\n",
    "feature_names=train_validation_data_x.columns.tolist()"
   ]
  },
  {
   "cell_type": "code",
   "execution_count": 36,
   "metadata": {
    "id": "-bLQMeY7tnWF"
   },
   "outputs": [],
   "source": [
    "df_importances = pd.DataFrame(\n",
    "    {\"feature\":feature_names, \"importance\":importances}).sort_values(\"importance\", ascending=False)\n",
    "top15_features = df_importances.head(15)    "
   ]
  },
  {
   "cell_type": "code",
   "execution_count": 37,
   "metadata": {
    "id": "2joVufsauGEC"
   },
   "outputs": [],
   "source": [
    "# Only use the selected top 15 features in our training data.\n",
    "train_validation_data_x_select_features = train_validation_data_x[top15_features['feature']]"
   ]
  },
  {
   "cell_type": "code",
   "execution_count": 38,
   "metadata": {
    "colab": {
     "base_uri": "https://localhost:8080/",
     "height": 514
    },
    "executionInfo": {
     "elapsed": 22,
     "status": "ok",
     "timestamp": 1627174645706,
     "user": {
      "displayName": "Miao Wang",
      "photoUrl": "https://lh3.googleusercontent.com/a-/AOh14Gj2gWD5z1xIFGC8PbqA3mioC1WHPE1LoZ59VJPh=s64",
      "userId": "16458771487930506212"
     },
     "user_tz": 420
    },
    "id": "ALhHyb8ttT-5",
    "outputId": "21407456-23fb-40e8-ac27-47a33bd2e720"
   },
   "outputs": [
    {
     "data": {
      "text/html": [
       "<div>\n",
       "<style scoped>\n",
       "    .dataframe tbody tr th:only-of-type {\n",
       "        vertical-align: middle;\n",
       "    }\n",
       "\n",
       "    .dataframe tbody tr th {\n",
       "        vertical-align: top;\n",
       "    }\n",
       "\n",
       "    .dataframe thead th {\n",
       "        text-align: right;\n",
       "    }\n",
       "</style>\n",
       "<table border=\"1\" class=\"dataframe\">\n",
       "  <thead>\n",
       "    <tr style=\"text-align: right;\">\n",
       "      <th></th>\n",
       "      <th>feature</th>\n",
       "      <th>importance</th>\n",
       "    </tr>\n",
       "  </thead>\n",
       "  <tbody>\n",
       "    <tr>\n",
       "      <th>4</th>\n",
       "      <td>user_product__total_orders</td>\n",
       "      <td>0.295538</td>\n",
       "    </tr>\n",
       "    <tr>\n",
       "      <th>16</th>\n",
       "      <td>user__order_count</td>\n",
       "      <td>0.293911</td>\n",
       "    </tr>\n",
       "    <tr>\n",
       "      <th>6</th>\n",
       "      <td>user_product__reordered_mean</td>\n",
       "      <td>0.210513</td>\n",
       "    </tr>\n",
       "    <tr>\n",
       "      <th>0</th>\n",
       "      <td>order_number</td>\n",
       "      <td>0.082272</td>\n",
       "    </tr>\n",
       "    <tr>\n",
       "      <th>12</th>\n",
       "      <td>product__reordered_mean</td>\n",
       "      <td>0.069420</td>\n",
       "    </tr>\n",
       "    <tr>\n",
       "      <th>19</th>\n",
       "      <td>user__reordered_mean</td>\n",
       "      <td>0.014992</td>\n",
       "    </tr>\n",
       "    <tr>\n",
       "      <th>9</th>\n",
       "      <td>product__total_orders</td>\n",
       "      <td>0.007233</td>\n",
       "    </tr>\n",
       "    <tr>\n",
       "      <th>3</th>\n",
       "      <td>days_since_prior_order</td>\n",
       "      <td>0.006646</td>\n",
       "    </tr>\n",
       "    <tr>\n",
       "      <th>18</th>\n",
       "      <td>user__days_since_prior_order_mean</td>\n",
       "      <td>0.003915</td>\n",
       "    </tr>\n",
       "    <tr>\n",
       "      <th>10</th>\n",
       "      <td>product__add_to_cart_order_mean</td>\n",
       "      <td>0.002965</td>\n",
       "    </tr>\n",
       "    <tr>\n",
       "      <th>35</th>\n",
       "      <td>product__department_id__13</td>\n",
       "      <td>0.002217</td>\n",
       "    </tr>\n",
       "    <tr>\n",
       "      <th>15</th>\n",
       "      <td>product__days_since_prior_order_mean</td>\n",
       "      <td>0.002173</td>\n",
       "    </tr>\n",
       "    <tr>\n",
       "      <th>17</th>\n",
       "      <td>user__product_count</td>\n",
       "      <td>0.001964</td>\n",
       "    </tr>\n",
       "    <tr>\n",
       "      <th>11</th>\n",
       "      <td>product__total_users</td>\n",
       "      <td>0.001490</td>\n",
       "    </tr>\n",
       "    <tr>\n",
       "      <th>21</th>\n",
       "      <td>user__most_hod</td>\n",
       "      <td>0.000816</td>\n",
       "    </tr>\n",
       "  </tbody>\n",
       "</table>\n",
       "</div>"
      ],
      "text/plain": [
       "                                 feature  importance\n",
       "4             user_product__total_orders    0.295538\n",
       "16                     user__order_count    0.293911\n",
       "6           user_product__reordered_mean    0.210513\n",
       "0                           order_number    0.082272\n",
       "12               product__reordered_mean    0.069420\n",
       "19                  user__reordered_mean    0.014992\n",
       "9                  product__total_orders    0.007233\n",
       "3                 days_since_prior_order    0.006646\n",
       "18     user__days_since_prior_order_mean    0.003915\n",
       "10       product__add_to_cart_order_mean    0.002965\n",
       "35            product__department_id__13    0.002217\n",
       "15  product__days_since_prior_order_mean    0.002173\n",
       "17                   user__product_count    0.001964\n",
       "11                  product__total_users    0.001490\n",
       "21                        user__most_hod    0.000816"
      ]
     },
     "execution_count": 38,
     "metadata": {},
     "output_type": "execute_result"
    }
   ],
   "source": [
    "# Top 15 most important features before tuning the hyperparameter of the model\n",
    "top15_features"
   ]
  },
  {
   "cell_type": "markdown",
   "metadata": {},
   "source": [
    "# Try Logistic Regression and Gradient Boosting"
   ]
  },
  {
   "cell_type": "markdown",
   "metadata": {},
   "source": [
    "## Hyper-parameter tuning for Logistic Regression"
   ]
  },
  {
   "cell_type": "markdown",
   "metadata": {},
   "source": [
    "**Model parameters**<br>\n",
    "- *Hyperparameter C*: In logistic regression, a high value of C tells the model to give more weight to the training data. A lower value of C will indicate the model to give complexity more weight at the cost of fitting the data. Here tried a list of different levels of C values from 0.01 to 10000.\n",
    "\n",
    "- *Variables optimization*: Tried L1, L2, ElasticNet and None to find the best variable optimization strategy.\n",
    "\n",
    "- *Solver*: Tried different types of solvers such as newton-cg, lbfgs, liblinear, sag, saga. "
   ]
  },
  {
   "cell_type": "markdown",
   "metadata": {},
   "source": [
    "**Use GridSearch to find the best parameter.** <br>\n",
    "GridSearch is a method within sklearn.model_selection class to perform exhausive search over specified parameter values for an estimator.The parameters of the estimator used to apply these methods are optimized by cross-validated grid-search over a parameter grid. [Reference](https://scikit-learn.org/stable/modules/generated/sklearn.model_selection.GridSearchCV.html#sklearn.model_selection.GridSearchCV)"
   ]
  },
  {
   "cell_type": "code",
   "execution_count": 87,
   "metadata": {},
   "outputs": [
    {
     "name": "stdout",
     "output_type": "stream",
     "text": [
      "Best parameter f1 score is 0.350\n",
      "{'model__C': 100, 'model__penalty': 'l2', 'model__solver': 'liblinear'}\n"
     ]
    }
   ],
   "source": [
    "# Parameters of pipelines can be set using ‘__’ separated parameter names:\n",
    "param_grid_l = { \"model__penalty\":['l1','l2','elasticnet','none'],\n",
    "              \"model__C\":  [0.01,0.1,1,10,100,500,1000,10000],  # get a parameter of how much weight we want to put on training data\n",
    "              'model__solver': ['newton-cg', 'lbfgs', 'liblinear', 'sag', 'saga'], # try different solvers\n",
    "             }\n",
    "\n",
    "search = GridSearchCV(build_ml_pipeline(LogisticRegression()), cv = 10, \n",
    "                      param_grid=param_grid_l, n_jobs=2, scoring = 'f1')\n",
    "search.fit(train_validation_data_x_select_features, train_validation_data_y)\n",
    "\n",
    "print(\"Best parameter f1 score is %.3f\" %  search.best_score_)\n",
    "print(search.best_params_)"
   ]
  },
  {
   "cell_type": "markdown",
   "metadata": {},
   "source": [
    "**Hyperparameter Tuning Result for Logistic Regression**\n",
    "\n",
    "* Best parameter f1 score is 0.350\n",
    "* 'model__C': 100\n",
    "* 'model__penalty': 'l2' (ridge)\n",
    "* 'model__solver': 'liblinear'"
   ]
  },
  {
   "cell_type": "code",
   "execution_count": 95,
   "metadata": {},
   "outputs": [
    {
     "name": "stdout",
     "output_type": "stream",
     "text": [
      "Best parameter f1 score is 0.350\n",
      "{'model__C': 100, 'model__penalty': 'l2', 'model__solver': 'liblinear'}\n"
     ]
    }
   ],
   "source": [
    "print(\"Best parameter f1 score is %.3f\" %  search.best_score_)\n",
    "print(search.best_params_)"
   ]
  },
  {
   "cell_type": "markdown",
   "metadata": {
    "id": "4vy3cZ7guiLk"
   },
   "source": [
    "## Hyper-parameter tuning for GradientBoostingClassifier"
   ]
  },
  {
   "cell_type": "code",
   "execution_count": 90,
   "metadata": {
    "colab": {
     "background_save": true
    },
    "id": "bG3wXppgmJDC"
   },
   "outputs": [],
   "source": [
    "param_grid_g = {\n",
    "    'model__n_estimators': [100,150],\n",
    "    'model__max_depth': [4,6],\n",
    "    'model__min_samples_split': [2,4,6],\n",
    "    'model__learning_rate': [0.005, 0.01],\n",
    "}"
   ]
  },
  {
   "cell_type": "code",
   "execution_count": 92,
   "metadata": {
    "colab": {
     "background_save": true
    },
    "id": "arLrEAdMmJTI",
    "outputId": "43f59124-c962-4529-f69b-c4c1874fb4dc"
   },
   "outputs": [
    {
     "data": {
      "text/html": [
       "<style>#sk-container-id-4 {color: black;background-color: white;}#sk-container-id-4 pre{padding: 0;}#sk-container-id-4 div.sk-toggleable {background-color: white;}#sk-container-id-4 label.sk-toggleable__label {cursor: pointer;display: block;width: 100%;margin-bottom: 0;padding: 0.3em;box-sizing: border-box;text-align: center;}#sk-container-id-4 label.sk-toggleable__label-arrow:before {content: \"▸\";float: left;margin-right: 0.25em;color: #696969;}#sk-container-id-4 label.sk-toggleable__label-arrow:hover:before {color: black;}#sk-container-id-4 div.sk-estimator:hover label.sk-toggleable__label-arrow:before {color: black;}#sk-container-id-4 div.sk-toggleable__content {max-height: 0;max-width: 0;overflow: hidden;text-align: left;background-color: #f0f8ff;}#sk-container-id-4 div.sk-toggleable__content pre {margin: 0.2em;color: black;border-radius: 0.25em;background-color: #f0f8ff;}#sk-container-id-4 input.sk-toggleable__control:checked~div.sk-toggleable__content {max-height: 200px;max-width: 100%;overflow: auto;}#sk-container-id-4 input.sk-toggleable__control:checked~label.sk-toggleable__label-arrow:before {content: \"▾\";}#sk-container-id-4 div.sk-estimator input.sk-toggleable__control:checked~label.sk-toggleable__label {background-color: #d4ebff;}#sk-container-id-4 div.sk-label input.sk-toggleable__control:checked~label.sk-toggleable__label {background-color: #d4ebff;}#sk-container-id-4 input.sk-hidden--visually {border: 0;clip: rect(1px 1px 1px 1px);clip: rect(1px, 1px, 1px, 1px);height: 1px;margin: -1px;overflow: hidden;padding: 0;position: absolute;width: 1px;}#sk-container-id-4 div.sk-estimator {font-family: monospace;background-color: #f0f8ff;border: 1px dotted black;border-radius: 0.25em;box-sizing: border-box;margin-bottom: 0.5em;}#sk-container-id-4 div.sk-estimator:hover {background-color: #d4ebff;}#sk-container-id-4 div.sk-parallel-item::after {content: \"\";width: 100%;border-bottom: 1px solid gray;flex-grow: 1;}#sk-container-id-4 div.sk-label:hover label.sk-toggleable__label {background-color: #d4ebff;}#sk-container-id-4 div.sk-serial::before {content: \"\";position: absolute;border-left: 1px solid gray;box-sizing: border-box;top: 0;bottom: 0;left: 50%;z-index: 0;}#sk-container-id-4 div.sk-serial {display: flex;flex-direction: column;align-items: center;background-color: white;padding-right: 0.2em;padding-left: 0.2em;position: relative;}#sk-container-id-4 div.sk-item {position: relative;z-index: 1;}#sk-container-id-4 div.sk-parallel {display: flex;align-items: stretch;justify-content: center;background-color: white;position: relative;}#sk-container-id-4 div.sk-item::before, #sk-container-id-4 div.sk-parallel-item::before {content: \"\";position: absolute;border-left: 1px solid gray;box-sizing: border-box;top: 0;bottom: 0;left: 50%;z-index: -1;}#sk-container-id-4 div.sk-parallel-item {display: flex;flex-direction: column;z-index: 1;position: relative;background-color: white;}#sk-container-id-4 div.sk-parallel-item:first-child::after {align-self: flex-end;width: 50%;}#sk-container-id-4 div.sk-parallel-item:last-child::after {align-self: flex-start;width: 50%;}#sk-container-id-4 div.sk-parallel-item:only-child::after {width: 0;}#sk-container-id-4 div.sk-dashed-wrapped {border: 1px dashed gray;margin: 0 0.4em 0.5em 0.4em;box-sizing: border-box;padding-bottom: 0.4em;background-color: white;}#sk-container-id-4 div.sk-label label {font-family: monospace;font-weight: bold;display: inline-block;line-height: 1.2em;}#sk-container-id-4 div.sk-label-container {text-align: center;}#sk-container-id-4 div.sk-container {/* jupyter's `normalize.less` sets `[hidden] { display: none; }` but bootstrap.min.css set `[hidden] { display: none !important; }` so we also need the `!important` here to be able to override the default hidden behavior on the sphinx rendered scikit-learn.org. See: https://github.com/scikit-learn/scikit-learn/issues/21755 */display: inline-block !important;position: relative;}#sk-container-id-4 div.sk-text-repr-fallback {display: none;}</style><div id=\"sk-container-id-4\" class=\"sk-top-container\"><div class=\"sk-text-repr-fallback\"><pre>GridSearchCV(cv=10,\n",
       "             estimator=Pipeline(steps=[(&#x27;fillnan&#x27;,\n",
       "                                        SimpleImputer(fill_value=0.0,\n",
       "                                                      strategy=&#x27;constant&#x27;)),\n",
       "                                       (&#x27;downSample&#x27;, RandomUnderSampler()),\n",
       "                                       (&#x27;scaler&#x27;, MinMaxScaler()),\n",
       "                                       (&#x27;model&#x27;,\n",
       "                                        GradientBoostingClassifier())]),\n",
       "             param_grid={&#x27;model__learning_rate&#x27;: [0.005, 0.01],\n",
       "                         &#x27;model__max_depth&#x27;: [4, 6],\n",
       "                         &#x27;model__min_samples_split&#x27;: [2, 4, 6],\n",
       "                         &#x27;model__n_estimators&#x27;: [100, 150]},\n",
       "             scoring=&#x27;f1&#x27;)</pre><b>In a Jupyter environment, please rerun this cell to show the HTML representation or trust the notebook. <br />On GitHub, the HTML representation is unable to render, please try loading this page with nbviewer.org.</b></div><div class=\"sk-container\" hidden><div class=\"sk-item sk-dashed-wrapped\"><div class=\"sk-label-container\"><div class=\"sk-label sk-toggleable\"><input class=\"sk-toggleable__control sk-hidden--visually\" id=\"sk-estimator-id-12\" type=\"checkbox\" ><label for=\"sk-estimator-id-12\" class=\"sk-toggleable__label sk-toggleable__label-arrow\">GridSearchCV</label><div class=\"sk-toggleable__content\"><pre>GridSearchCV(cv=10,\n",
       "             estimator=Pipeline(steps=[(&#x27;fillnan&#x27;,\n",
       "                                        SimpleImputer(fill_value=0.0,\n",
       "                                                      strategy=&#x27;constant&#x27;)),\n",
       "                                       (&#x27;downSample&#x27;, RandomUnderSampler()),\n",
       "                                       (&#x27;scaler&#x27;, MinMaxScaler()),\n",
       "                                       (&#x27;model&#x27;,\n",
       "                                        GradientBoostingClassifier())]),\n",
       "             param_grid={&#x27;model__learning_rate&#x27;: [0.005, 0.01],\n",
       "                         &#x27;model__max_depth&#x27;: [4, 6],\n",
       "                         &#x27;model__min_samples_split&#x27;: [2, 4, 6],\n",
       "                         &#x27;model__n_estimators&#x27;: [100, 150]},\n",
       "             scoring=&#x27;f1&#x27;)</pre></div></div></div><div class=\"sk-parallel\"><div class=\"sk-parallel-item\"><div class=\"sk-item\"><div class=\"sk-label-container\"><div class=\"sk-label sk-toggleable\"><input class=\"sk-toggleable__control sk-hidden--visually\" id=\"sk-estimator-id-13\" type=\"checkbox\" ><label for=\"sk-estimator-id-13\" class=\"sk-toggleable__label sk-toggleable__label-arrow\">estimator: Pipeline</label><div class=\"sk-toggleable__content\"><pre>Pipeline(steps=[(&#x27;fillnan&#x27;, SimpleImputer(fill_value=0.0, strategy=&#x27;constant&#x27;)),\n",
       "                (&#x27;downSample&#x27;, RandomUnderSampler()),\n",
       "                (&#x27;scaler&#x27;, MinMaxScaler()),\n",
       "                (&#x27;model&#x27;, GradientBoostingClassifier())])</pre></div></div></div><div class=\"sk-serial\"><div class=\"sk-item\"><div class=\"sk-serial\"><div class=\"sk-item\"><div class=\"sk-estimator sk-toggleable\"><input class=\"sk-toggleable__control sk-hidden--visually\" id=\"sk-estimator-id-14\" type=\"checkbox\" ><label for=\"sk-estimator-id-14\" class=\"sk-toggleable__label sk-toggleable__label-arrow\">SimpleImputer</label><div class=\"sk-toggleable__content\"><pre>SimpleImputer(fill_value=0.0, strategy=&#x27;constant&#x27;)</pre></div></div></div><div class=\"sk-item\"><div class=\"sk-estimator sk-toggleable\"><input class=\"sk-toggleable__control sk-hidden--visually\" id=\"sk-estimator-id-15\" type=\"checkbox\" ><label for=\"sk-estimator-id-15\" class=\"sk-toggleable__label sk-toggleable__label-arrow\">RandomUnderSampler</label><div class=\"sk-toggleable__content\"><pre>RandomUnderSampler()</pre></div></div></div><div class=\"sk-item\"><div class=\"sk-estimator sk-toggleable\"><input class=\"sk-toggleable__control sk-hidden--visually\" id=\"sk-estimator-id-16\" type=\"checkbox\" ><label for=\"sk-estimator-id-16\" class=\"sk-toggleable__label sk-toggleable__label-arrow\">MinMaxScaler</label><div class=\"sk-toggleable__content\"><pre>MinMaxScaler()</pre></div></div></div><div class=\"sk-item\"><div class=\"sk-estimator sk-toggleable\"><input class=\"sk-toggleable__control sk-hidden--visually\" id=\"sk-estimator-id-17\" type=\"checkbox\" ><label for=\"sk-estimator-id-17\" class=\"sk-toggleable__label sk-toggleable__label-arrow\">GradientBoostingClassifier</label><div class=\"sk-toggleable__content\"><pre>GradientBoostingClassifier()</pre></div></div></div></div></div></div></div></div></div></div></div></div>"
      ],
      "text/plain": [
       "GridSearchCV(cv=10,\n",
       "             estimator=Pipeline(steps=[('fillnan',\n",
       "                                        SimpleImputer(fill_value=0.0,\n",
       "                                                      strategy='constant')),\n",
       "                                       ('downSample', RandomUnderSampler()),\n",
       "                                       ('scaler', MinMaxScaler()),\n",
       "                                       ('model',\n",
       "                                        GradientBoostingClassifier())]),\n",
       "             param_grid={'model__learning_rate': [0.005, 0.01],\n",
       "                         'model__max_depth': [4, 6],\n",
       "                         'model__min_samples_split': [2, 4, 6],\n",
       "                         'model__n_estimators': [100, 150]},\n",
       "             scoring='f1')"
      ]
     },
     "execution_count": 92,
     "metadata": {},
     "output_type": "execute_result"
    }
   ],
   "source": [
    "# this block takes about 20-30 mins to run \n",
    "search2 = GridSearchCV(build_ml_pipeline(GradientBoostingClassifier()), cv=10, param_grid=param_grid_g, scoring='f1')\n",
    "search2.fit(train_validation_data_x_select_features, train_validation_data_y)"
   ]
  },
  {
   "cell_type": "code",
   "execution_count": 98,
   "metadata": {
    "colab": {
     "background_save": true
    },
    "id": "numnXp_OmMmj",
    "outputId": "65169e83-5ff5-4c43-f1bf-9a4d4849ed8a",
    "scrolled": true
   },
   "outputs": [
    {
     "name": "stdout",
     "output_type": "stream",
     "text": [
      "Best F1 value is 0.350\n",
      "Params are {'model__learning_rate': 0.01, 'model__max_depth': 6, 'model__min_samples_split': 6, 'model__n_estimators': 150}\n"
     ]
    }
   ],
   "source": [
    "print(\"Best F1 value is %.3f\" % search2.best_score_)\n",
    "print(\"Params are %s\" % search2.best_params_)"
   ]
  },
  {
   "cell_type": "markdown",
   "metadata": {},
   "source": [
    "**Hyperparameter Tuning Result for Logistic Regression**\n",
    "\n",
    "* Best parameter f1 score is 0.350\n",
    "* 'model__learning_rate': 0.01\n",
    "* 'model__max_depth': 6\n",
    "* 'model__min_samples_split': 6\n",
    "* 'model__n_estimators': 150"
   ]
  },
  {
   "cell_type": "markdown",
   "metadata": {},
   "source": [
    "Since the GradientBoostingClassifier and Logistic Regression are both giving relativaly good F1 value while multiple rounds of validation were conducted, we decide to continue with both GradientBoostingClassifier and Logistic Regression for further data training and prediction and compare the test data results, and rely on GradientBoostingClassifierand to give us more insights about feature density and importance."
   ]
  },
  {
   "cell_type": "markdown",
   "metadata": {},
   "source": [
    "# Final models training"
   ]
  },
  {
   "cell_type": "markdown",
   "metadata": {},
   "source": [
    "### a. Train the LogisticRegressionModel with all train-val data and best hyperparameters"
   ]
  },
  {
   "cell_type": "code",
   "execution_count": 197,
   "metadata": {},
   "outputs": [
    {
     "data": {
      "text/html": [
       "<style>#sk-container-id-6 {color: black;background-color: white;}#sk-container-id-6 pre{padding: 0;}#sk-container-id-6 div.sk-toggleable {background-color: white;}#sk-container-id-6 label.sk-toggleable__label {cursor: pointer;display: block;width: 100%;margin-bottom: 0;padding: 0.3em;box-sizing: border-box;text-align: center;}#sk-container-id-6 label.sk-toggleable__label-arrow:before {content: \"▸\";float: left;margin-right: 0.25em;color: #696969;}#sk-container-id-6 label.sk-toggleable__label-arrow:hover:before {color: black;}#sk-container-id-6 div.sk-estimator:hover label.sk-toggleable__label-arrow:before {color: black;}#sk-container-id-6 div.sk-toggleable__content {max-height: 0;max-width: 0;overflow: hidden;text-align: left;background-color: #f0f8ff;}#sk-container-id-6 div.sk-toggleable__content pre {margin: 0.2em;color: black;border-radius: 0.25em;background-color: #f0f8ff;}#sk-container-id-6 input.sk-toggleable__control:checked~div.sk-toggleable__content {max-height: 200px;max-width: 100%;overflow: auto;}#sk-container-id-6 input.sk-toggleable__control:checked~label.sk-toggleable__label-arrow:before {content: \"▾\";}#sk-container-id-6 div.sk-estimator input.sk-toggleable__control:checked~label.sk-toggleable__label {background-color: #d4ebff;}#sk-container-id-6 div.sk-label input.sk-toggleable__control:checked~label.sk-toggleable__label {background-color: #d4ebff;}#sk-container-id-6 input.sk-hidden--visually {border: 0;clip: rect(1px 1px 1px 1px);clip: rect(1px, 1px, 1px, 1px);height: 1px;margin: -1px;overflow: hidden;padding: 0;position: absolute;width: 1px;}#sk-container-id-6 div.sk-estimator {font-family: monospace;background-color: #f0f8ff;border: 1px dotted black;border-radius: 0.25em;box-sizing: border-box;margin-bottom: 0.5em;}#sk-container-id-6 div.sk-estimator:hover {background-color: #d4ebff;}#sk-container-id-6 div.sk-parallel-item::after {content: \"\";width: 100%;border-bottom: 1px solid gray;flex-grow: 1;}#sk-container-id-6 div.sk-label:hover label.sk-toggleable__label {background-color: #d4ebff;}#sk-container-id-6 div.sk-serial::before {content: \"\";position: absolute;border-left: 1px solid gray;box-sizing: border-box;top: 0;bottom: 0;left: 50%;z-index: 0;}#sk-container-id-6 div.sk-serial {display: flex;flex-direction: column;align-items: center;background-color: white;padding-right: 0.2em;padding-left: 0.2em;position: relative;}#sk-container-id-6 div.sk-item {position: relative;z-index: 1;}#sk-container-id-6 div.sk-parallel {display: flex;align-items: stretch;justify-content: center;background-color: white;position: relative;}#sk-container-id-6 div.sk-item::before, #sk-container-id-6 div.sk-parallel-item::before {content: \"\";position: absolute;border-left: 1px solid gray;box-sizing: border-box;top: 0;bottom: 0;left: 50%;z-index: -1;}#sk-container-id-6 div.sk-parallel-item {display: flex;flex-direction: column;z-index: 1;position: relative;background-color: white;}#sk-container-id-6 div.sk-parallel-item:first-child::after {align-self: flex-end;width: 50%;}#sk-container-id-6 div.sk-parallel-item:last-child::after {align-self: flex-start;width: 50%;}#sk-container-id-6 div.sk-parallel-item:only-child::after {width: 0;}#sk-container-id-6 div.sk-dashed-wrapped {border: 1px dashed gray;margin: 0 0.4em 0.5em 0.4em;box-sizing: border-box;padding-bottom: 0.4em;background-color: white;}#sk-container-id-6 div.sk-label label {font-family: monospace;font-weight: bold;display: inline-block;line-height: 1.2em;}#sk-container-id-6 div.sk-label-container {text-align: center;}#sk-container-id-6 div.sk-container {/* jupyter's `normalize.less` sets `[hidden] { display: none; }` but bootstrap.min.css set `[hidden] { display: none !important; }` so we also need the `!important` here to be able to override the default hidden behavior on the sphinx rendered scikit-learn.org. See: https://github.com/scikit-learn/scikit-learn/issues/21755 */display: inline-block !important;position: relative;}#sk-container-id-6 div.sk-text-repr-fallback {display: none;}</style><div id=\"sk-container-id-6\" class=\"sk-top-container\"><div class=\"sk-text-repr-fallback\"><pre>Pipeline(steps=[(&#x27;fillnan&#x27;, SimpleImputer(fill_value=0.0, strategy=&#x27;constant&#x27;)),\n",
       "                (&#x27;downSample&#x27;, RandomUnderSampler()),\n",
       "                (&#x27;scaler&#x27;, MinMaxScaler()),\n",
       "                (&#x27;model&#x27;, LogisticRegression(C=100, solver=&#x27;liblinear&#x27;))])</pre><b>In a Jupyter environment, please rerun this cell to show the HTML representation or trust the notebook. <br />On GitHub, the HTML representation is unable to render, please try loading this page with nbviewer.org.</b></div><div class=\"sk-container\" hidden><div class=\"sk-item sk-dashed-wrapped\"><div class=\"sk-label-container\"><div class=\"sk-label sk-toggleable\"><input class=\"sk-toggleable__control sk-hidden--visually\" id=\"sk-estimator-id-23\" type=\"checkbox\" ><label for=\"sk-estimator-id-23\" class=\"sk-toggleable__label sk-toggleable__label-arrow\">Pipeline</label><div class=\"sk-toggleable__content\"><pre>Pipeline(steps=[(&#x27;fillnan&#x27;, SimpleImputer(fill_value=0.0, strategy=&#x27;constant&#x27;)),\n",
       "                (&#x27;downSample&#x27;, RandomUnderSampler()),\n",
       "                (&#x27;scaler&#x27;, MinMaxScaler()),\n",
       "                (&#x27;model&#x27;, LogisticRegression(C=100, solver=&#x27;liblinear&#x27;))])</pre></div></div></div><div class=\"sk-serial\"><div class=\"sk-item\"><div class=\"sk-estimator sk-toggleable\"><input class=\"sk-toggleable__control sk-hidden--visually\" id=\"sk-estimator-id-24\" type=\"checkbox\" ><label for=\"sk-estimator-id-24\" class=\"sk-toggleable__label sk-toggleable__label-arrow\">SimpleImputer</label><div class=\"sk-toggleable__content\"><pre>SimpleImputer(fill_value=0.0, strategy=&#x27;constant&#x27;)</pre></div></div></div><div class=\"sk-item\"><div class=\"sk-estimator sk-toggleable\"><input class=\"sk-toggleable__control sk-hidden--visually\" id=\"sk-estimator-id-25\" type=\"checkbox\" ><label for=\"sk-estimator-id-25\" class=\"sk-toggleable__label sk-toggleable__label-arrow\">RandomUnderSampler</label><div class=\"sk-toggleable__content\"><pre>RandomUnderSampler()</pre></div></div></div><div class=\"sk-item\"><div class=\"sk-estimator sk-toggleable\"><input class=\"sk-toggleable__control sk-hidden--visually\" id=\"sk-estimator-id-26\" type=\"checkbox\" ><label for=\"sk-estimator-id-26\" class=\"sk-toggleable__label sk-toggleable__label-arrow\">MinMaxScaler</label><div class=\"sk-toggleable__content\"><pre>MinMaxScaler()</pre></div></div></div><div class=\"sk-item\"><div class=\"sk-estimator sk-toggleable\"><input class=\"sk-toggleable__control sk-hidden--visually\" id=\"sk-estimator-id-27\" type=\"checkbox\" ><label for=\"sk-estimator-id-27\" class=\"sk-toggleable__label sk-toggleable__label-arrow\">LogisticRegression</label><div class=\"sk-toggleable__content\"><pre>LogisticRegression(C=100, solver=&#x27;liblinear&#x27;)</pre></div></div></div></div></div></div></div>"
      ],
      "text/plain": [
       "Pipeline(steps=[('fillnan', SimpleImputer(fill_value=0.0, strategy='constant')),\n",
       "                ('downSample', RandomUnderSampler()),\n",
       "                ('scaler', MinMaxScaler()),\n",
       "                ('model', LogisticRegression(C=100, solver='liblinear'))])"
      ]
     },
     "execution_count": 197,
     "metadata": {},
     "output_type": "execute_result"
    }
   ],
   "source": [
    "#build the logistic regression model pipeline\n",
    "pipeline_l = build_ml_pipeline(LogisticRegression(\n",
    "    C=100, penalty='l2',solver ='liblinear',\n",
    "))\n",
    "\n",
    "pipeline_l.fit(train_validation_data_x_select_features, train_validation_data_y)"
   ]
  },
  {
   "cell_type": "markdown",
   "metadata": {},
   "source": [
    "### Evaluate Model Performance on test data"
   ]
  },
  {
   "cell_type": "code",
   "execution_count": 212,
   "metadata": {},
   "outputs": [],
   "source": [
    "# construct test dataset\n",
    "test_data_x_selected_features = test_data.drop(['user_id', 'product_id', 'label'],axis=1)[top15_features['feature']]\n",
    "test_data_y = test_data['label']"
   ]
  },
  {
   "cell_type": "code",
   "execution_count": 213,
   "metadata": {},
   "outputs": [],
   "source": [
    "#predition using pipelined logitistic regression model\n",
    "predict_y_l = pipeline_l.predict(test_data_x_selected_features)"
   ]
  },
  {
   "cell_type": "code",
   "execution_count": 214,
   "metadata": {},
   "outputs": [
    {
     "data": {
      "text/html": [
       "<div>\n",
       "<style scoped>\n",
       "    .dataframe tbody tr th:only-of-type {\n",
       "        vertical-align: middle;\n",
       "    }\n",
       "\n",
       "    .dataframe tbody tr th {\n",
       "        vertical-align: top;\n",
       "    }\n",
       "\n",
       "    .dataframe thead th {\n",
       "        text-align: right;\n",
       "    }\n",
       "</style>\n",
       "<table border=\"1\" class=\"dataframe\">\n",
       "  <thead>\n",
       "    <tr style=\"text-align: right;\">\n",
       "      <th></th>\n",
       "      <th>user_id</th>\n",
       "      <th>product_id</th>\n",
       "      <th>predict</th>\n",
       "      <th>label</th>\n",
       "    </tr>\n",
       "  </thead>\n",
       "  <tbody>\n",
       "    <tr>\n",
       "      <th>255</th>\n",
       "      <td>112604</td>\n",
       "      <td>30597</td>\n",
       "      <td>0</td>\n",
       "      <td>0</td>\n",
       "    </tr>\n",
       "    <tr>\n",
       "      <th>256</th>\n",
       "      <td>112604</td>\n",
       "      <td>46676</td>\n",
       "      <td>0</td>\n",
       "      <td>0</td>\n",
       "    </tr>\n",
       "    <tr>\n",
       "      <th>257</th>\n",
       "      <td>112604</td>\n",
       "      <td>13176</td>\n",
       "      <td>1</td>\n",
       "      <td>0</td>\n",
       "    </tr>\n",
       "    <tr>\n",
       "      <th>258</th>\n",
       "      <td>112604</td>\n",
       "      <td>16797</td>\n",
       "      <td>0</td>\n",
       "      <td>0</td>\n",
       "    </tr>\n",
       "    <tr>\n",
       "      <th>259</th>\n",
       "      <td>112604</td>\n",
       "      <td>7930</td>\n",
       "      <td>0</td>\n",
       "      <td>0</td>\n",
       "    </tr>\n",
       "  </tbody>\n",
       "</table>\n",
       "</div>"
      ],
      "text/plain": [
       "     user_id  product_id  predict  label\n",
       "255   112604       30597        0      0\n",
       "256   112604       46676        0      0\n",
       "257   112604       13176        1      0\n",
       "258   112604       16797        0      0\n",
       "259   112604        7930        0      0"
      ]
     },
     "execution_count": 214,
     "metadata": {},
     "output_type": "execute_result"
    }
   ],
   "source": [
    "#get the result into df\n",
    "df_output_l = pd.DataFrame(\n",
    "    {\"user_id\":test_data.user_id, \"product_id\":test_data.product_id, \"predict\":predict_y_l, \"label\":test_data.label}) \n",
    "\n",
    "#check result\n",
    "df_output_l.head()"
   ]
  },
  {
   "cell_type": "code",
   "execution_count": 215,
   "metadata": {},
   "outputs": [],
   "source": [
    "#get array of predict probability\n",
    "predict_y_prob_l = pipeline_l.predict_proba(test_data_x_selected_features)[:,1]"
   ]
  },
  {
   "cell_type": "markdown",
   "metadata": {},
   "source": [
    "**Note:** The predict method is used to predict the actual class while predict_proba method can be used to infer the class probabilities (i.e. the probability that a particular data point falls into the underlying classes). [Reference](https://towardsdatascience.com/predict-vs-predict-proba-scikit-learn-bdc45daa5972)"
   ]
  },
  {
   "cell_type": "markdown",
   "metadata": {},
   "source": [
    "### Using Confusion Matrix to analyze the results"
   ]
  },
  {
   "cell_type": "code",
   "execution_count": 216,
   "metadata": {},
   "outputs": [
    {
     "data": {
      "image/png": "[encoded data removed]",
      "text/plain": [
       "<Figure size 720x720 with 2 Axes>"
      ]
     },
     "metadata": {},
     "output_type": "display_data"
    }
   ],
   "source": [
    "# plot confusion matrix \n",
    "conf_l = plot_confusion_matrix(pipeline_l, test_data_x_selected_features, test_data_y,\n",
    "                      display_labels=[\"not reorder\",\"reorder\"],\n",
    "                      values_format='',\n",
    "                      cmap=plt.cm.Greens)\n",
    "fig_l = conf_l.ax_.get_figure() \n",
    "fig_l.set_figwidth(10)\n",
    "fig_l.set_figheight(10)  "
   ]
  },
  {
   "cell_type": "code",
   "execution_count": 217,
   "metadata": {},
   "outputs": [],
   "source": [
    "acc_l = accuracy_score(test_data_y, predict_y_l)\n",
    "f1_l = f1_score(test_data_y, predict_y_l)\n",
    "pre_l = precision_score(test_data_y, predict_y_l)\n",
    "rec_l = recall_score(test_data_y, predict_y_l)\n",
    "auc_l = roc_auc_score(test_data_y, predict_y_prob_l)"
   ]
  },
  {
   "cell_type": "code",
   "execution_count": 240,
   "metadata": {},
   "outputs": [
    {
     "name": "stdout",
     "output_type": "stream",
     "text": [
      "Model evaluation result on test data: \n",
      "F1 Score : 35.1335%\n",
      "ROC AUC : 80.1358%\n",
      "Accuracy : 74.7594%\n",
      "Precision : 23.5095%\n",
      "Recall(Sensitivity): 69.4943%\n"
     ]
    }
   ],
   "source": [
    "print(\"Model evaluation result on test data: \")\n",
    "print(\"F1 Score : {:.4%}\".format(f1_l))\n",
    "print(\"ROC AUC : {:.4%}\".format(auc_l))\n",
    "print(\"Accuracy : {:.4%}\".format(acc_l))\n",
    "print(\"Precision : {:.4%}\".format(pre_l))\n",
    "print(\"Recall(Sensitivity): {:.4%}\".format(rec_l))"
   ]
  },
  {
   "cell_type": "markdown",
   "metadata": {
    "id": "8v8ocP33HOa-"
   },
   "source": [
    "### b. Train the GradientBoostingClassifier model with all train-val data and the best hyper-parameters."
   ]
  },
  {
   "cell_type": "code",
   "execution_count": 222,
   "metadata": {
    "colab": {
     "background_save": true
    },
    "id": "f8ZBUZTPtAPD",
    "outputId": "04225f3e-f1a6-4c09-b744-353c5754a967"
   },
   "outputs": [
    {
     "data": {
      "text/html": [
       "<style>#sk-container-id-8 {color: black;background-color: white;}#sk-container-id-8 pre{padding: 0;}#sk-container-id-8 div.sk-toggleable {background-color: white;}#sk-container-id-8 label.sk-toggleable__label {cursor: pointer;display: block;width: 100%;margin-bottom: 0;padding: 0.3em;box-sizing: border-box;text-align: center;}#sk-container-id-8 label.sk-toggleable__label-arrow:before {content: \"▸\";float: left;margin-right: 0.25em;color: #696969;}#sk-container-id-8 label.sk-toggleable__label-arrow:hover:before {color: black;}#sk-container-id-8 div.sk-estimator:hover label.sk-toggleable__label-arrow:before {color: black;}#sk-container-id-8 div.sk-toggleable__content {max-height: 0;max-width: 0;overflow: hidden;text-align: left;background-color: #f0f8ff;}#sk-container-id-8 div.sk-toggleable__content pre {margin: 0.2em;color: black;border-radius: 0.25em;background-color: #f0f8ff;}#sk-container-id-8 input.sk-toggleable__control:checked~div.sk-toggleable__content {max-height: 200px;max-width: 100%;overflow: auto;}#sk-container-id-8 input.sk-toggleable__control:checked~label.sk-toggleable__label-arrow:before {content: \"▾\";}#sk-container-id-8 div.sk-estimator input.sk-toggleable__control:checked~label.sk-toggleable__label {background-color: #d4ebff;}#sk-container-id-8 div.sk-label input.sk-toggleable__control:checked~label.sk-toggleable__label {background-color: #d4ebff;}#sk-container-id-8 input.sk-hidden--visually {border: 0;clip: rect(1px 1px 1px 1px);clip: rect(1px, 1px, 1px, 1px);height: 1px;margin: -1px;overflow: hidden;padding: 0;position: absolute;width: 1px;}#sk-container-id-8 div.sk-estimator {font-family: monospace;background-color: #f0f8ff;border: 1px dotted black;border-radius: 0.25em;box-sizing: border-box;margin-bottom: 0.5em;}#sk-container-id-8 div.sk-estimator:hover {background-color: #d4ebff;}#sk-container-id-8 div.sk-parallel-item::after {content: \"\";width: 100%;border-bottom: 1px solid gray;flex-grow: 1;}#sk-container-id-8 div.sk-label:hover label.sk-toggleable__label {background-color: #d4ebff;}#sk-container-id-8 div.sk-serial::before {content: \"\";position: absolute;border-left: 1px solid gray;box-sizing: border-box;top: 0;bottom: 0;left: 50%;z-index: 0;}#sk-container-id-8 div.sk-serial {display: flex;flex-direction: column;align-items: center;background-color: white;padding-right: 0.2em;padding-left: 0.2em;position: relative;}#sk-container-id-8 div.sk-item {position: relative;z-index: 1;}#sk-container-id-8 div.sk-parallel {display: flex;align-items: stretch;justify-content: center;background-color: white;position: relative;}#sk-container-id-8 div.sk-item::before, #sk-container-id-8 div.sk-parallel-item::before {content: \"\";position: absolute;border-left: 1px solid gray;box-sizing: border-box;top: 0;bottom: 0;left: 50%;z-index: -1;}#sk-container-id-8 div.sk-parallel-item {display: flex;flex-direction: column;z-index: 1;position: relative;background-color: white;}#sk-container-id-8 div.sk-parallel-item:first-child::after {align-self: flex-end;width: 50%;}#sk-container-id-8 div.sk-parallel-item:last-child::after {align-self: flex-start;width: 50%;}#sk-container-id-8 div.sk-parallel-item:only-child::after {width: 0;}#sk-container-id-8 div.sk-dashed-wrapped {border: 1px dashed gray;margin: 0 0.4em 0.5em 0.4em;box-sizing: border-box;padding-bottom: 0.4em;background-color: white;}#sk-container-id-8 div.sk-label label {font-family: monospace;font-weight: bold;display: inline-block;line-height: 1.2em;}#sk-container-id-8 div.sk-label-container {text-align: center;}#sk-container-id-8 div.sk-container {/* jupyter's `normalize.less` sets `[hidden] { display: none; }` but bootstrap.min.css set `[hidden] { display: none !important; }` so we also need the `!important` here to be able to override the default hidden behavior on the sphinx rendered scikit-learn.org. See: https://github.com/scikit-learn/scikit-learn/issues/21755 */display: inline-block !important;position: relative;}#sk-container-id-8 div.sk-text-repr-fallback {display: none;}</style><div id=\"sk-container-id-8\" class=\"sk-top-container\"><div class=\"sk-text-repr-fallback\"><pre>Pipeline(steps=[(&#x27;fillnan&#x27;, SimpleImputer(fill_value=0.0, strategy=&#x27;constant&#x27;)),\n",
       "                (&#x27;downSample&#x27;, RandomUnderSampler()),\n",
       "                (&#x27;scaler&#x27;, MinMaxScaler()),\n",
       "                (&#x27;model&#x27;,\n",
       "                 GradientBoostingClassifier(learning_rate=0.01, max_depth=6,\n",
       "                                            min_samples_split=6,\n",
       "                                            n_estimators=150))])</pre><b>In a Jupyter environment, please rerun this cell to show the HTML representation or trust the notebook. <br />On GitHub, the HTML representation is unable to render, please try loading this page with nbviewer.org.</b></div><div class=\"sk-container\" hidden><div class=\"sk-item sk-dashed-wrapped\"><div class=\"sk-label-container\"><div class=\"sk-label sk-toggleable\"><input class=\"sk-toggleable__control sk-hidden--visually\" id=\"sk-estimator-id-33\" type=\"checkbox\" ><label for=\"sk-estimator-id-33\" class=\"sk-toggleable__label sk-toggleable__label-arrow\">Pipeline</label><div class=\"sk-toggleable__content\"><pre>Pipeline(steps=[(&#x27;fillnan&#x27;, SimpleImputer(fill_value=0.0, strategy=&#x27;constant&#x27;)),\n",
       "                (&#x27;downSample&#x27;, RandomUnderSampler()),\n",
       "                (&#x27;scaler&#x27;, MinMaxScaler()),\n",
       "                (&#x27;model&#x27;,\n",
       "                 GradientBoostingClassifier(learning_rate=0.01, max_depth=6,\n",
       "                                            min_samples_split=6,\n",
       "                                            n_estimators=150))])</pre></div></div></div><div class=\"sk-serial\"><div class=\"sk-item\"><div class=\"sk-estimator sk-toggleable\"><input class=\"sk-toggleable__control sk-hidden--visually\" id=\"sk-estimator-id-34\" type=\"checkbox\" ><label for=\"sk-estimator-id-34\" class=\"sk-toggleable__label sk-toggleable__label-arrow\">SimpleImputer</label><div class=\"sk-toggleable__content\"><pre>SimpleImputer(fill_value=0.0, strategy=&#x27;constant&#x27;)</pre></div></div></div><div class=\"sk-item\"><div class=\"sk-estimator sk-toggleable\"><input class=\"sk-toggleable__control sk-hidden--visually\" id=\"sk-estimator-id-35\" type=\"checkbox\" ><label for=\"sk-estimator-id-35\" class=\"sk-toggleable__label sk-toggleable__label-arrow\">RandomUnderSampler</label><div class=\"sk-toggleable__content\"><pre>RandomUnderSampler()</pre></div></div></div><div class=\"sk-item\"><div class=\"sk-estimator sk-toggleable\"><input class=\"sk-toggleable__control sk-hidden--visually\" id=\"sk-estimator-id-36\" type=\"checkbox\" ><label for=\"sk-estimator-id-36\" class=\"sk-toggleable__label sk-toggleable__label-arrow\">MinMaxScaler</label><div class=\"sk-toggleable__content\"><pre>MinMaxScaler()</pre></div></div></div><div class=\"sk-item\"><div class=\"sk-estimator sk-toggleable\"><input class=\"sk-toggleable__control sk-hidden--visually\" id=\"sk-estimator-id-37\" type=\"checkbox\" ><label for=\"sk-estimator-id-37\" class=\"sk-toggleable__label sk-toggleable__label-arrow\">GradientBoostingClassifier</label><div class=\"sk-toggleable__content\"><pre>GradientBoostingClassifier(learning_rate=0.01, max_depth=6, min_samples_split=6,\n",
       "                           n_estimators=150)</pre></div></div></div></div></div></div></div>"
      ],
      "text/plain": [
       "Pipeline(steps=[('fillnan', SimpleImputer(fill_value=0.0, strategy='constant')),\n",
       "                ('downSample', RandomUnderSampler()),\n",
       "                ('scaler', MinMaxScaler()),\n",
       "                ('model',\n",
       "                 GradientBoostingClassifier(learning_rate=0.01, max_depth=6,\n",
       "                                            min_samples_split=6,\n",
       "                                            n_estimators=150))])"
      ]
     },
     "execution_count": 222,
     "metadata": {},
     "output_type": "execute_result"
    }
   ],
   "source": [
    "# build GradientBoostingClassifier pipeline\n",
    "#this block takes about 30s to run\n",
    "\n",
    "pipeline_g = build_ml_pipeline(GradientBoostingClassifier(\n",
    "    n_estimators=150,\n",
    "    min_samples_split=6,\n",
    "    max_depth=6,\n",
    "    learning_rate=0.01,\n",
    "))\n",
    "\n",
    "pipeline_g.fit(train_validation_data_x_select_features, train_validation_data_y)"
   ]
  },
  {
   "cell_type": "code",
   "execution_count": 223,
   "metadata": {},
   "outputs": [
    {
     "data": {
      "text/html": [
       "<div>\n",
       "<style scoped>\n",
       "    .dataframe tbody tr th:only-of-type {\n",
       "        vertical-align: middle;\n",
       "    }\n",
       "\n",
       "    .dataframe tbody tr th {\n",
       "        vertical-align: top;\n",
       "    }\n",
       "\n",
       "    .dataframe thead th {\n",
       "        text-align: right;\n",
       "    }\n",
       "</style>\n",
       "<table border=\"1\" class=\"dataframe\">\n",
       "  <thead>\n",
       "    <tr style=\"text-align: right;\">\n",
       "      <th></th>\n",
       "      <th>feature</th>\n",
       "      <th>importance</th>\n",
       "    </tr>\n",
       "  </thead>\n",
       "  <tbody>\n",
       "    <tr>\n",
       "      <th>4</th>\n",
       "      <td>user_product__total_orders</td>\n",
       "      <td>0.295538</td>\n",
       "    </tr>\n",
       "    <tr>\n",
       "      <th>16</th>\n",
       "      <td>user__order_count</td>\n",
       "      <td>0.293911</td>\n",
       "    </tr>\n",
       "    <tr>\n",
       "      <th>6</th>\n",
       "      <td>user_product__reordered_mean</td>\n",
       "      <td>0.210513</td>\n",
       "    </tr>\n",
       "    <tr>\n",
       "      <th>0</th>\n",
       "      <td>order_number</td>\n",
       "      <td>0.082272</td>\n",
       "    </tr>\n",
       "    <tr>\n",
       "      <th>12</th>\n",
       "      <td>product__reordered_mean</td>\n",
       "      <td>0.069420</td>\n",
       "    </tr>\n",
       "    <tr>\n",
       "      <th>19</th>\n",
       "      <td>user__reordered_mean</td>\n",
       "      <td>0.014992</td>\n",
       "    </tr>\n",
       "    <tr>\n",
       "      <th>9</th>\n",
       "      <td>product__total_orders</td>\n",
       "      <td>0.007233</td>\n",
       "    </tr>\n",
       "    <tr>\n",
       "      <th>3</th>\n",
       "      <td>days_since_prior_order</td>\n",
       "      <td>0.006646</td>\n",
       "    </tr>\n",
       "    <tr>\n",
       "      <th>18</th>\n",
       "      <td>user__days_since_prior_order_mean</td>\n",
       "      <td>0.003915</td>\n",
       "    </tr>\n",
       "    <tr>\n",
       "      <th>10</th>\n",
       "      <td>product__add_to_cart_order_mean</td>\n",
       "      <td>0.002965</td>\n",
       "    </tr>\n",
       "    <tr>\n",
       "      <th>35</th>\n",
       "      <td>product__department_id__13</td>\n",
       "      <td>0.002217</td>\n",
       "    </tr>\n",
       "    <tr>\n",
       "      <th>15</th>\n",
       "      <td>product__days_since_prior_order_mean</td>\n",
       "      <td>0.002173</td>\n",
       "    </tr>\n",
       "    <tr>\n",
       "      <th>17</th>\n",
       "      <td>user__product_count</td>\n",
       "      <td>0.001964</td>\n",
       "    </tr>\n",
       "    <tr>\n",
       "      <th>11</th>\n",
       "      <td>product__total_users</td>\n",
       "      <td>0.001490</td>\n",
       "    </tr>\n",
       "    <tr>\n",
       "      <th>21</th>\n",
       "      <td>user__most_hod</td>\n",
       "      <td>0.000816</td>\n",
       "    </tr>\n",
       "  </tbody>\n",
       "</table>\n",
       "</div>"
      ],
      "text/plain": [
       "                                 feature  importance\n",
       "4             user_product__total_orders    0.295538\n",
       "16                     user__order_count    0.293911\n",
       "6           user_product__reordered_mean    0.210513\n",
       "0                           order_number    0.082272\n",
       "12               product__reordered_mean    0.069420\n",
       "19                  user__reordered_mean    0.014992\n",
       "9                  product__total_orders    0.007233\n",
       "3                 days_since_prior_order    0.006646\n",
       "18     user__days_since_prior_order_mean    0.003915\n",
       "10       product__add_to_cart_order_mean    0.002965\n",
       "35            product__department_id__13    0.002217\n",
       "15  product__days_since_prior_order_mean    0.002173\n",
       "17                   user__product_count    0.001964\n",
       "11                  product__total_users    0.001490\n",
       "21                        user__most_hod    0.000816"
      ]
     },
     "execution_count": 223,
     "metadata": {},
     "output_type": "execute_result"
    }
   ],
   "source": [
    "#recal the top 15 important features we did on train-val data\n",
    "top15_features"
   ]
  },
  {
   "cell_type": "code",
   "execution_count": 226,
   "metadata": {
    "colab": {
     "background_save": true
    },
    "id": "xjxglMXyrrmH",
    "outputId": "8a7404f5-90e0-405b-d3ee-532e64adb989"
   },
   "outputs": [
    {
     "data": {
      "text/html": [
       "<div>\n",
       "<style scoped>\n",
       "    .dataframe tbody tr th:only-of-type {\n",
       "        vertical-align: middle;\n",
       "    }\n",
       "\n",
       "    .dataframe tbody tr th {\n",
       "        vertical-align: top;\n",
       "    }\n",
       "\n",
       "    .dataframe thead th {\n",
       "        text-align: right;\n",
       "    }\n",
       "</style>\n",
       "<table border=\"1\" class=\"dataframe\">\n",
       "  <thead>\n",
       "    <tr style=\"text-align: right;\">\n",
       "      <th></th>\n",
       "      <th>feature</th>\n",
       "      <th>importance</th>\n",
       "    </tr>\n",
       "  </thead>\n",
       "  <tbody>\n",
       "    <tr>\n",
       "      <th>1</th>\n",
       "      <td>user__order_count</td>\n",
       "      <td>0.298045</td>\n",
       "    </tr>\n",
       "    <tr>\n",
       "      <th>0</th>\n",
       "      <td>user_product__total_orders</td>\n",
       "      <td>0.286990</td>\n",
       "    </tr>\n",
       "    <tr>\n",
       "      <th>2</th>\n",
       "      <td>user_product__reordered_mean</td>\n",
       "      <td>0.238852</td>\n",
       "    </tr>\n",
       "    <tr>\n",
       "      <th>3</th>\n",
       "      <td>order_number</td>\n",
       "      <td>0.078804</td>\n",
       "    </tr>\n",
       "    <tr>\n",
       "      <th>4</th>\n",
       "      <td>product__reordered_mean</td>\n",
       "      <td>0.040015</td>\n",
       "    </tr>\n",
       "    <tr>\n",
       "      <th>5</th>\n",
       "      <td>user__reordered_mean</td>\n",
       "      <td>0.012854</td>\n",
       "    </tr>\n",
       "    <tr>\n",
       "      <th>8</th>\n",
       "      <td>user__days_since_prior_order_mean</td>\n",
       "      <td>0.011348</td>\n",
       "    </tr>\n",
       "    <tr>\n",
       "      <th>6</th>\n",
       "      <td>product__total_orders</td>\n",
       "      <td>0.011167</td>\n",
       "    </tr>\n",
       "    <tr>\n",
       "      <th>12</th>\n",
       "      <td>user__product_count</td>\n",
       "      <td>0.004168</td>\n",
       "    </tr>\n",
       "    <tr>\n",
       "      <th>13</th>\n",
       "      <td>product__total_users</td>\n",
       "      <td>0.004051</td>\n",
       "    </tr>\n",
       "    <tr>\n",
       "      <th>11</th>\n",
       "      <td>product__days_since_prior_order_mean</td>\n",
       "      <td>0.003787</td>\n",
       "    </tr>\n",
       "    <tr>\n",
       "      <th>7</th>\n",
       "      <td>days_since_prior_order</td>\n",
       "      <td>0.003399</td>\n",
       "    </tr>\n",
       "    <tr>\n",
       "      <th>9</th>\n",
       "      <td>product__add_to_cart_order_mean</td>\n",
       "      <td>0.003174</td>\n",
       "    </tr>\n",
       "    <tr>\n",
       "      <th>10</th>\n",
       "      <td>product__department_id__13</td>\n",
       "      <td>0.002255</td>\n",
       "    </tr>\n",
       "    <tr>\n",
       "      <th>14</th>\n",
       "      <td>user__most_hod</td>\n",
       "      <td>0.001091</td>\n",
       "    </tr>\n",
       "  </tbody>\n",
       "</table>\n",
       "</div>"
      ],
      "text/plain": [
       "                                 feature  importance\n",
       "1                      user__order_count    0.298045\n",
       "0             user_product__total_orders    0.286990\n",
       "2           user_product__reordered_mean    0.238852\n",
       "3                           order_number    0.078804\n",
       "4                product__reordered_mean    0.040015\n",
       "5                   user__reordered_mean    0.012854\n",
       "8      user__days_since_prior_order_mean    0.011348\n",
       "6                  product__total_orders    0.011167\n",
       "12                   user__product_count    0.004168\n",
       "13                  product__total_users    0.004051\n",
       "11  product__days_since_prior_order_mean    0.003787\n",
       "7                 days_since_prior_order    0.003399\n",
       "9        product__add_to_cart_order_mean    0.003174\n",
       "10            product__department_id__13    0.002255\n",
       "14                        user__most_hod    0.001091"
      ]
     },
     "execution_count": 226,
     "metadata": {},
     "output_type": "execute_result"
    }
   ],
   "source": [
    "#check feature importance again on entire training data \n",
    "importances = pipeline_g.steps[3][1].feature_importances_\n",
    "feature_names=train_validation_data_x_select_features.columns.tolist()\n",
    "df_importances = pd.DataFrame(\n",
    "    {\"feature\":feature_names, \"importance\":importances}).sort_values(\"importance\", ascending=False)\n",
    "df_importances.head(15)"
   ]
  },
  {
   "cell_type": "markdown",
   "metadata": {},
   "source": [
    "From above two feature importance charts, there are some differences on feature importance scores and ranking. This is because the first top_15 feature list are generated by a model with hyperparameter not tuned. And the second one is using the model with the best hyperparameter. We can see there's slight difference in importance scores but they are in general similar."
   ]
  },
  {
   "cell_type": "markdown",
   "metadata": {},
   "source": [
    "### Check top 15 features's distribution on train-val data using kernel density plot"
   ]
  },
  {
   "cell_type": "code",
   "execution_count": 227,
   "metadata": {},
   "outputs": [
    {
     "data": {
      "text/plain": [
       "<matplotlib.legend.Legend at 0x7fb3dc2c06d0>"
      ]
     },
     "execution_count": 227,
     "metadata": {},
     "output_type": "execute_result"
    },
    {
     "data": {
      "image/png": "[encoded data removed]",
      "text/plain": [
       "<Figure size 1152x1152 with 16 Axes>"
      ]
     },
     "metadata": {},
     "output_type": "display_data"
    }
   ],
   "source": [
    "#each feature's kernel density plot with labels = 0 and 1\n",
    "\n",
    "fig, axs = plt.subplots(4, 4, sharex = False, sharey = False, figsize = (16,16))\n",
    "#plt.title('Feature distribution on different labels')\n",
    "\n",
    "p1 = axs[0, 0]\n",
    "p1.grid(True)\n",
    "p1.set_xlim([0,20])\n",
    "feature_name = 'user__order_count'\n",
    "for i in sorted(train_validation_data['label'].unique()):\n",
    "    sns.distplot(train_validation_data[train_validation_data['label']==i][feature_name], hist=False, label=i, ax=axs[0, 0])\n",
    "p1.legend()\n",
    "\n",
    "    \n",
    "p2 = axs[0, 1]\n",
    "p2.grid(True)\n",
    "p2.set_xlim([0,1])\n",
    "\n",
    "feature_name = 'user_product__reordered_mean'\n",
    "for i in sorted(train_validation_data['label'].unique()):\n",
    "    sns.distplot(train_validation_data[train_validation_data['label']==i][feature_name], hist=False, label=i, ax=axs[0, 1])\n",
    "p2.legend()\n",
    "\n",
    "\n",
    "p9 = axs[0,2]\n",
    "#p9.title.set_text('Feature distribution on different labels')\n",
    "p9.grid(True)\n",
    "p9.set_xlim([0,10])\n",
    "feature_name = 'user_product__total_orders'\n",
    "for i in sorted(train_validation_data['label'].unique()):\n",
    "    sns.distplot(train_validation_data[train_validation_data['label']==i][feature_name], hist=False, label=i, ax=axs[0, 2])\n",
    "p9.legend()\n",
    "\n",
    "\n",
    "p11 = axs[0,3]\n",
    "#p11.title.set_text('Feature distribution on different labels')\n",
    "p11.grid(True)\n",
    "p11.set_xlim([0,20])\n",
    "feature_name = 'order_number'\n",
    "for i in sorted(train_validation_data['label'].unique()):\n",
    "    sns.distplot(train_validation_data[train_validation_data['label']==i][feature_name], hist=False, label=i, ax=axs[0, 3])\n",
    "p11.legend()\n",
    "\n",
    "\n",
    "p3 = axs[1, 0]\n",
    "#p3.title.set_text('Feature distribution on different labels')\n",
    "p3.grid(True)\n",
    "p3.set_xlim([0,1])\n",
    "feature_name = 'product__reordered_mean'\n",
    "for i in sorted(train_validation_data['label'].unique()):\n",
    "    sns.distplot(train_validation_data[train_validation_data['label']==i][feature_name], hist=False, label=i, ax=axs[1, 0])   \n",
    "p3.legend()\n",
    "\n",
    "\n",
    "\n",
    "p4 = axs[1, 1]\n",
    "#p4.title.set_text('Feature distribution on different labels')\n",
    "p4.grid(True)\n",
    "p2.set_xlim([0,1])\n",
    "feature_name = 'user__reordered_mean'\n",
    "for i in sorted(train_validation_data['label'].unique()):\n",
    "    sns.distplot(train_validation_data[train_validation_data['label']==i][feature_name], hist=False, label=i, ax=axs[1, 1])\n",
    "p4.legend()\n",
    "\n",
    "\n",
    "p10 = axs[1,2]\n",
    "#p10.title.set_text('Feature distribution on different labels')\n",
    "p10.grid(True)\n",
    "p10.set_xlim([0,500])\n",
    "feature_name = 'product__total_orders'\n",
    "for i in sorted(train_validation_data['label'].unique()):\n",
    "    sns.distplot(train_validation_data[train_validation_data['label']==i][feature_name], hist=False, label=i, ax=axs[1, 2])\n",
    "p10.legend()\n",
    "\n",
    "\n",
    "\n",
    "p12 = axs[1,3]\n",
    "#p12.title.set_text('Feature distribution on different labels')\n",
    "p12.grid(True)\n",
    "p12.set_xlim([0,30])\n",
    "feature_name = 'user__days_since_prior_order_mean'\n",
    "for i in sorted(train_validation_data['label'].unique()):\n",
    "    sns.distplot(train_validation_data[train_validation_data['label']==i][feature_name], hist=False, label=i, ax=axs[1,3])\n",
    "p12.legend()\n",
    "\n",
    "\n",
    "\n",
    "p5 = axs[2,0]\n",
    "#p5.title.set_text('Feature distribution on different labels')\n",
    "p5.grid(True)\n",
    "p5.set_xlim([0,100])\n",
    "feature_name = 'user__product_count'\n",
    "for i in sorted(train_validation_data['label'].unique()):\n",
    "    sns.distplot(train_validation_data[train_validation_data['label']==i][feature_name], hist=False, label=i, ax=axs[2, 0])\n",
    "p5.legend()\n",
    "\n",
    "\n",
    "\n",
    "p6 = axs[2,1]\n",
    "#p6.title.set_text('Feature distribution on different labels')\n",
    "p6.grid(True)\n",
    "p6.set_xlim([0,20])\n",
    "feature_name = 'product__add_to_cart_order_mean'\n",
    "for i in sorted(train_validation_data['label'].unique()):\n",
    "    sns.distplot(train_validation_data[train_validation_data['label']==i][feature_name], hist=False, label=i, ax=axs[2, 1])\n",
    "p6.legend()\n",
    "\n",
    "\n",
    "p13 = axs[2,2]\n",
    "#p13.title.set_text('Feature distribution on different labels')\n",
    "p13.grid(True)\n",
    "p13.set_xlim([0,500])\n",
    "feature_name = 'product__total_users'\n",
    "for i in sorted(train_validation_data['label'].unique()):\n",
    "    sns.distplot(train_validation_data[train_validation_data['label']==i][feature_name], hist=False, label=i, ax=axs[2,2])\n",
    "p13.legend()\n",
    "\n",
    "p14 = axs[2,3]\n",
    "#p14.title.set_text('Feature distribution on different labels')\n",
    "p14.grid(True)\n",
    "p14.set_xlim([0,30])\n",
    "feature_name = 'days_since_prior_order'\n",
    "for i in sorted(train_validation_data['label'].unique()):\n",
    "    sns.distplot(train_validation_data[train_validation_data['label']==i][feature_name], hist=False, label=i, ax=axs[2,3])\n",
    "p14.legend()\n",
    "\n",
    "\n",
    "p7 = axs[3,0]\n",
    "#p7.title.set_text('Feature distribution on different labels')\n",
    "p7.grid(True)\n",
    "p7.set_xlim([0,30])\n",
    "feature_name = 'product__days_since_prior_order_mean'\n",
    "for i in sorted(train_validation_data['label'].unique()):\n",
    "    sns.distplot(train_validation_data[train_validation_data['label']==i][feature_name], hist=False, label=i, ax=axs[3, 0])\n",
    "p7.legend()\n",
    "\n",
    "\n",
    "p8 = axs[3,1]\n",
    "#p8.title.set_text('Feature distribution on different labels')\n",
    "p8.grid(True)\n",
    "#p8.set_xlim([0,30])\n",
    "feature_name = 'product__department_id__13'\n",
    "for i in sorted(train_validation_data['label'].unique()):\n",
    "    sns.distplot(train_validation_data[train_validation_data['label']==i][feature_name], hist=False, label=i, ax=axs[3, 1])\n",
    "p8.legend()\n",
    "\n",
    "\n",
    "p15 = axs[3,2]\n",
    "#p15.title.set_text('Feature distribution on different labels')\n",
    "p15.grid(True)\n",
    "p15.set_xlim([0,24])\n",
    "feature_name = 'user__most_hod'\n",
    "for i in sorted(train_validation_data['label'].unique()):\n",
    "    sns.distplot(train_validation_data[train_validation_data['label']==i][feature_name], hist=False, label=i, ax=axs[3,2])\n",
    "p15.legend()\n",
    "    "
   ]
  },
  {
   "cell_type": "markdown",
   "metadata": {
    "id": "mw9sVzvD05tW"
   },
   "source": [
    "# Evaluate model on Test Data"
   ]
  },
  {
   "cell_type": "markdown",
   "metadata": {
    "id": "r4jPG0FjH_n6"
   },
   "source": [
    "### Predict product reorder on Test Data"
   ]
  },
  {
   "cell_type": "code",
   "execution_count": 230,
   "metadata": {
    "colab": {
     "background_save": true
    },
    "id": "zpbLdh5B1cVi"
   },
   "outputs": [],
   "source": [
    "#recall test dataset\n",
    "test_data_x_selected_features = test_data.drop(['user_id', 'product_id', 'label'],axis=1)[top15_features['feature']]\n",
    "test_data_y = test_data['label']"
   ]
  },
  {
   "cell_type": "code",
   "execution_count": 231,
   "metadata": {
    "colab": {
     "background_save": true
    },
    "id": "rizYT4wLrrj9"
   },
   "outputs": [],
   "source": [
    "#predition\n",
    "predict_y_g = pipeline_g.predict(test_data_x_selected_features)"
   ]
  },
  {
   "cell_type": "code",
   "execution_count": 232,
   "metadata": {
    "colab": {
     "background_save": true
    },
    "id": "nKmMW2FO6uA2"
   },
   "outputs": [
    {
     "data": {
      "text/html": [
       "<div>\n",
       "<style scoped>\n",
       "    .dataframe tbody tr th:only-of-type {\n",
       "        vertical-align: middle;\n",
       "    }\n",
       "\n",
       "    .dataframe tbody tr th {\n",
       "        vertical-align: top;\n",
       "    }\n",
       "\n",
       "    .dataframe thead th {\n",
       "        text-align: right;\n",
       "    }\n",
       "</style>\n",
       "<table border=\"1\" class=\"dataframe\">\n",
       "  <thead>\n",
       "    <tr style=\"text-align: right;\">\n",
       "      <th></th>\n",
       "      <th>user_id</th>\n",
       "      <th>product_id</th>\n",
       "      <th>predict</th>\n",
       "      <th>label</th>\n",
       "    </tr>\n",
       "  </thead>\n",
       "  <tbody>\n",
       "    <tr>\n",
       "      <th>255</th>\n",
       "      <td>112604</td>\n",
       "      <td>30597</td>\n",
       "      <td>0</td>\n",
       "      <td>0</td>\n",
       "    </tr>\n",
       "    <tr>\n",
       "      <th>256</th>\n",
       "      <td>112604</td>\n",
       "      <td>46676</td>\n",
       "      <td>0</td>\n",
       "      <td>0</td>\n",
       "    </tr>\n",
       "    <tr>\n",
       "      <th>257</th>\n",
       "      <td>112604</td>\n",
       "      <td>13176</td>\n",
       "      <td>1</td>\n",
       "      <td>0</td>\n",
       "    </tr>\n",
       "    <tr>\n",
       "      <th>258</th>\n",
       "      <td>112604</td>\n",
       "      <td>16797</td>\n",
       "      <td>0</td>\n",
       "      <td>0</td>\n",
       "    </tr>\n",
       "    <tr>\n",
       "      <th>259</th>\n",
       "      <td>112604</td>\n",
       "      <td>7930</td>\n",
       "      <td>0</td>\n",
       "      <td>0</td>\n",
       "    </tr>\n",
       "  </tbody>\n",
       "</table>\n",
       "</div>"
      ],
      "text/plain": [
       "     user_id  product_id  predict  label\n",
       "255   112604       30597        0      0\n",
       "256   112604       46676        0      0\n",
       "257   112604       13176        1      0\n",
       "258   112604       16797        0      0\n",
       "259   112604        7930        0      0"
      ]
     },
     "execution_count": 232,
     "metadata": {},
     "output_type": "execute_result"
    }
   ],
   "source": [
    "#get the result into df\n",
    "df_output_g = pd.DataFrame(\n",
    "    {\"user_id\":test_data.user_id, \"product_id\":test_data.product_id, \"predict\":predict_y_g, \"label\":test_data.label}) \n",
    "\n",
    "#check result\n",
    "df_output.head()"
   ]
  },
  {
   "cell_type": "code",
   "execution_count": 234,
   "metadata": {
    "colab": {
     "background_save": true
    },
    "id": "4L6ljHzwjbvH"
   },
   "outputs": [],
   "source": [
    "predict_y_prob_g = pipeline_g.predict_proba(test_data_x_selected_features)[:,1]"
   ]
  },
  {
   "cell_type": "markdown",
   "metadata": {
    "id": "AFk7X0L6IH5M"
   },
   "source": [
    "### Analyze classification result"
   ]
  },
  {
   "cell_type": "code",
   "execution_count": 236,
   "metadata": {
    "colab": {
     "background_save": true
    },
    "id": "TCUtHi3BrraA",
    "outputId": "1e155a6a-5969-41fb-f6b0-f86878359464"
   },
   "outputs": [
    {
     "data": {
      "image/png": "[encoded data removed]",
      "text/plain": [
       "<Figure size 720x720 with 2 Axes>"
      ]
     },
     "metadata": {},
     "output_type": "display_data"
    }
   ],
   "source": [
    "#plt.figure(figsize=(20, 20))\n",
    "\n",
    "conf_g = plot_confusion_matrix(pipeline_g, test_data_x_selected_features, test_data_y,\n",
    "                      display_labels=[\"not reorder\",\"reorder\"],\n",
    "                      values_format='',\n",
    "                      cmap=plt.cm.Blues)\n",
    "fig = conf_g.ax_.get_figure() \n",
    "fig.set_figwidth(10)\n",
    "fig.set_figheight(10)  "
   ]
  },
  {
   "cell_type": "code",
   "execution_count": 237,
   "metadata": {
    "colab": {
     "background_save": true
    },
    "id": "NDjIATvirrUk"
   },
   "outputs": [],
   "source": [
    "acc_g = accuracy_score(test_data_y, predict_y_g)\n",
    "f1_g = f1_score(test_data_y, predict_y_g)\n",
    "pre_g = precision_score(test_data_y, predict_y_g)\n",
    "rec_g = recall_score(test_data_y, predict_y_g)\n",
    "auc_g = roc_auc_score(test_data_y, predict_y_prob_g)"
   ]
  },
  {
   "cell_type": "code",
   "execution_count": 239,
   "metadata": {
    "colab": {
     "background_save": true
    },
    "id": "LxOiEL5d4pFz",
    "outputId": "2842bcb9-6cb1-4f25-e389-a0830e2c1c5f"
   },
   "outputs": [
    {
     "name": "stdout",
     "output_type": "stream",
     "text": [
      "Model evaluation result on test data: \n",
      "F1 Score : 35.4207%\n",
      "ROC AUC : 80.7609%\n",
      "Accuracy : 74.2914%\n",
      "Precision : 23.5222%\n",
      "Recall(Sensitivity) : 71.6786%\n"
     ]
    }
   ],
   "source": [
    "print(\"Model evaluation result on test data: \")\n",
    "print(\"F1 Score : {:.4%}\".format(f1_g))\n",
    "print(\"ROC AUC : {:.4%}\".format(auc_g))\n",
    "print(\"Accuracy : {:.4%}\".format(acc_g))\n",
    "print(\"Precision : {:.4%}\".format(pre_g))\n",
    "print(\"Recall(Sensitivity) : {:.4%}\".format(rec_g))"
   ]
  },
  {
   "cell_type": "markdown",
   "metadata": {},
   "source": [
    "## Observations on two final model performance\n",
    "* Both models give bood insights about if the product is reordered by the user using given features. They both having pretty good performance comparing to labeled data. \n",
    "* GradientBoostingClassifier has slightly better performance, and can provide more insights on feature importance, so we think this is the preferred method if Carrot company would like to apply such model to a broader scope in solving this type of questions. "
   ]
  },
  {
   "cell_type": "markdown",
   "metadata": {},
   "source": [
    "**Interpretations on business costs:**\n",
    "\n",
    "FP: We predict the customer is going to reorder, but the customer is actually not reordering. \n",
    "- potential issue: over-advertising\n",
    "- higher business cost\n",
    "\n",
    "FN: We predict the customer is not going to reorder, but the customer is actually reordering. \n",
    "- potential issue: forecasting/out of stock issues\n",
    "- lower business cost"
   ]
  },
  {
   "cell_type": "code",
   "execution_count": null,
   "metadata": {},
   "outputs": [],
   "source": []
  }
 ],
 "metadata": {
  "colab": {
   "collapsed_sections": [],
   "name": "eCommerce Product Recommendation - Part 3.ipynb",
   "provenance": []
  },
  "kernelspec": {
   "display_name": "Python 3",
   "language": "python",
   "name": "python3"
  },
  "language_info": {
   "codemirror_mode": {
    "name": "ipython",
    "version": 3
   },
   "file_extension": ".py",
   "mimetype": "text/x-python",
   "name": "python",
   "nbconvert_exporter": "python",
   "pygments_lexer": "ipython3",
   "version": "3.8.8"
  },
  "vscode": {
   "interpreter": {
    "hash": "63dce028960cadb14d117b8eb536b8c722b7659ca88d2a9d2bce8b206e004617"
   }
  }
 },
 "nbformat": 4,
 "nbformat_minor": 1
}
