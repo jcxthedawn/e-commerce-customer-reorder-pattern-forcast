{
 "cells": [
  {
   "cell_type": "markdown",
   "metadata": {
    "id": "OJTOKcDah3iM"
   },
   "source": [
    "# eCommerce Product Recommendation\n",
    "### Part 1: Data Cleaning & Quality Check"
   ]
  },
  {
   "cell_type": "markdown",
   "metadata": {
    "id": "RzVza8SjiJZ-"
   },
   "source": [
    "#  Load Raw Data"
   ]
  },
  {
   "cell_type": "code",
   "execution_count": 1,
   "metadata": {
    "id": "cjfYaROjGfyP"
   },
   "outputs": [],
   "source": [
    "import pandas as pd\n",
    "import numpy as np\n",
    "import pandas as pd\n",
    "import matplotlib.pyplot as plt\n",
    "import seaborn as sns\n",
    "from collections import OrderedDict\n",
    "sns.set()"
   ]
  },
  {
   "cell_type": "code",
   "execution_count": 2,
   "metadata": {
    "colab": {
     "base_uri": "https://localhost:8080/"
    },
    "executionInfo": {
     "elapsed": 257,
     "status": "ok",
     "timestamp": 1612682813067,
     "user": {
      "displayName": "Miao Wang",
      "photoUrl": "https://lh3.googleusercontent.com/a-/AOh14Gj2gWD5z1xIFGC8PbqA3mioC1WHPE1LoZ59VJPh=s64",
      "userId": "16458771487930506212"
     },
     "user_tz": 480
    },
    "id": "fhH7nG3pWlyb",
    "outputId": "5699d44c-6b41-4283-c9a5-f31daaa77b6e"
   },
   "outputs": [],
   "source": [
    "aisles = pd.read_csv(r'/Users/jichenxi/Documents/MGT_Group_Project/aisles.csv')\n",
    "departments = pd.read_csv(r'/Users/jichenxi/Documents/MGT_Group_Project/departments.csv')\n",
    "order_products_prior = pd.read_csv(r'/Users/jichenxi/Documents/MGT_Group_Project/order_products_prior.csv')\n",
    "order_products_train = pd.read_csv(r'/Users/jichenxi/Documents/MGT_Group_Project/order_products_train.csv')\n",
    "orders = pd.read_csv(r'/Users/jichenxi/Documents/MGT_Group_Project/orders.csv')\n",
    "products = pd.read_csv(r'/Users/jichenxi/Documents/MGT_Group_Project/products.csv')\n",
    "#all_data = pd.read_csv('all_data.csv')\n",
    "\n",
    "#data description: https://gist.github.com/jeremystan/c3b39d947d9b88b3ccff3147dbcf6c6b\n"
   ]
  },
  {
   "cell_type": "code",
   "execution_count": 3,
   "metadata": {
    "colab": {
     "base_uri": "https://localhost:8080/"
    },
    "executionInfo": {
     "elapsed": 316,
     "status": "ok",
     "timestamp": 1612682817969,
     "user": {
      "displayName": "Miao Wang",
      "photoUrl": "https://lh3.googleusercontent.com/a-/AOh14Gj2gWD5z1xIFGC8PbqA3mioC1WHPE1LoZ59VJPh=s64",
      "userId": "16458771487930506212"
     },
     "user_tz": 480
    },
    "id": "B5MoC5q4Yh95",
    "outputId": "107fbd73-1e5f-4548-8be3-250e118b5fc7"
   },
   "outputs": [
    {
     "name": "stdout",
     "output_type": "stream",
     "text": [
      "(134, 2)\n",
      "(21, 2)\n",
      "(793924, 4)\n",
      "(53704, 4)\n",
      "(82683, 7)\n",
      "(49688, 4)\n"
     ]
    }
   ],
   "source": [
    "print(aisles.shape)\n",
    "print(departments.shape)\n",
    "print(order_products_prior.shape)\n",
    "print(order_products_train.shape)\n",
    "print(orders.shape)\n",
    "print(products.shape)"
   ]
  },
  {
   "cell_type": "markdown",
   "metadata": {
    "id": "efbuiv5VICxX"
   },
   "source": [
    "# Data Exploration"
   ]
  },
  {
   "cell_type": "markdown",
   "metadata": {
    "id": "_lhAHZ7pLEwA"
   },
   "source": [
    "### Build order history table `prior_order_details`"
   ]
  },
  {
   "cell_type": "code",
   "execution_count": 4,
   "metadata": {
    "id": "HIOEHCDMJpJW"
   },
   "outputs": [],
   "source": [
    "# Build prior order details table for data exploration\n",
    "prior_order_details = order_products_prior.merge(orders, on=\"order_id\")"
   ]
  },
  {
   "cell_type": "code",
   "execution_count": 5,
   "metadata": {
    "id": "W0WRFSKSKnWI"
   },
   "outputs": [],
   "source": [
    "# Covert dow to string for better visualization\n",
    "prior_order_details[\"order_dow\"] = prior_order_details[\"order_dow\"].apply(lambda x:\"Sunday\" if x==0 else x)\n",
    "prior_order_details[\"order_dow\"] = prior_order_details[\"order_dow\"].apply(lambda x:\"Monday\" if x==1 else x)\n",
    "prior_order_details[\"order_dow\"] = prior_order_details[\"order_dow\"].apply(lambda x:\"Tuesday\" if x==2 else x)\n",
    "prior_order_details[\"order_dow\"] = prior_order_details[\"order_dow\"].apply(lambda x:\"Wednesday\" if x==3 else x)\n",
    "prior_order_details[\"order_dow\"] = prior_order_details[\"order_dow\"].apply(lambda x:\"Thursday\" if x==4 else x)\n",
    "prior_order_details[\"order_dow\"] = prior_order_details[\"order_dow\"].apply(lambda x:\"Friday\" if x==5 else x)\n",
    "prior_order_details[\"order_dow\"] = prior_order_details[\"order_dow\"].apply(lambda x:\"Saturday\" if x==6 else x)"
   ]
  },
  {
   "cell_type": "code",
   "execution_count": 6,
   "metadata": {
    "colab": {
     "base_uri": "https://localhost:8080/",
     "height": 204
    },
    "executionInfo": {
     "elapsed": 2003,
     "status": "ok",
     "timestamp": 1612682846920,
     "user": {
      "displayName": "Miao Wang",
      "photoUrl": "https://lh3.googleusercontent.com/a-/AOh14Gj2gWD5z1xIFGC8PbqA3mioC1WHPE1LoZ59VJPh=s64",
      "userId": "16458771487930506212"
     },
     "user_tz": 480
    },
    "id": "5nQecIdHKih3",
    "outputId": "a067f940-6bc1-4511-a955-39fc97463cab"
   },
   "outputs": [
    {
     "data": {
      "text/html": [
       "<div>\n",
       "<style scoped>\n",
       "    .dataframe tbody tr th:only-of-type {\n",
       "        vertical-align: middle;\n",
       "    }\n",
       "\n",
       "    .dataframe tbody tr th {\n",
       "        vertical-align: top;\n",
       "    }\n",
       "\n",
       "    .dataframe thead th {\n",
       "        text-align: right;\n",
       "    }\n",
       "</style>\n",
       "<table border=\"1\" class=\"dataframe\">\n",
       "  <thead>\n",
       "    <tr style=\"text-align: right;\">\n",
       "      <th></th>\n",
       "      <th>order_id</th>\n",
       "      <th>product_id</th>\n",
       "      <th>add_to_cart_order</th>\n",
       "      <th>reordered</th>\n",
       "      <th>user_id</th>\n",
       "      <th>eval_set</th>\n",
       "      <th>order_number</th>\n",
       "      <th>order_dow</th>\n",
       "      <th>order_hour_of_day</th>\n",
       "      <th>days_since_prior_order</th>\n",
       "    </tr>\n",
       "  </thead>\n",
       "  <tbody>\n",
       "    <tr>\n",
       "      <th>0</th>\n",
       "      <td>12</td>\n",
       "      <td>30597</td>\n",
       "      <td>1</td>\n",
       "      <td>1</td>\n",
       "      <td>152610</td>\n",
       "      <td>prior</td>\n",
       "      <td>22</td>\n",
       "      <td>Saturday</td>\n",
       "      <td>8</td>\n",
       "      <td>10.0</td>\n",
       "    </tr>\n",
       "    <tr>\n",
       "      <th>1</th>\n",
       "      <td>12</td>\n",
       "      <td>15221</td>\n",
       "      <td>2</td>\n",
       "      <td>1</td>\n",
       "      <td>152610</td>\n",
       "      <td>prior</td>\n",
       "      <td>22</td>\n",
       "      <td>Saturday</td>\n",
       "      <td>8</td>\n",
       "      <td>10.0</td>\n",
       "    </tr>\n",
       "    <tr>\n",
       "      <th>2</th>\n",
       "      <td>12</td>\n",
       "      <td>43772</td>\n",
       "      <td>3</td>\n",
       "      <td>1</td>\n",
       "      <td>152610</td>\n",
       "      <td>prior</td>\n",
       "      <td>22</td>\n",
       "      <td>Saturday</td>\n",
       "      <td>8</td>\n",
       "      <td>10.0</td>\n",
       "    </tr>\n",
       "    <tr>\n",
       "      <th>3</th>\n",
       "      <td>12</td>\n",
       "      <td>37886</td>\n",
       "      <td>4</td>\n",
       "      <td>1</td>\n",
       "      <td>152610</td>\n",
       "      <td>prior</td>\n",
       "      <td>22</td>\n",
       "      <td>Saturday</td>\n",
       "      <td>8</td>\n",
       "      <td>10.0</td>\n",
       "    </tr>\n",
       "    <tr>\n",
       "      <th>4</th>\n",
       "      <td>12</td>\n",
       "      <td>37215</td>\n",
       "      <td>5</td>\n",
       "      <td>0</td>\n",
       "      <td>152610</td>\n",
       "      <td>prior</td>\n",
       "      <td>22</td>\n",
       "      <td>Saturday</td>\n",
       "      <td>8</td>\n",
       "      <td>10.0</td>\n",
       "    </tr>\n",
       "  </tbody>\n",
       "</table>\n",
       "</div>"
      ],
      "text/plain": [
       "   order_id  product_id  add_to_cart_order  reordered  user_id eval_set  \\\n",
       "0        12       30597                  1          1   152610    prior   \n",
       "1        12       15221                  2          1   152610    prior   \n",
       "2        12       43772                  3          1   152610    prior   \n",
       "3        12       37886                  4          1   152610    prior   \n",
       "4        12       37215                  5          0   152610    prior   \n",
       "\n",
       "   order_number order_dow  order_hour_of_day  days_since_prior_order  \n",
       "0            22  Saturday                  8                    10.0  \n",
       "1            22  Saturday                  8                    10.0  \n",
       "2            22  Saturday                  8                    10.0  \n",
       "3            22  Saturday                  8                    10.0  \n",
       "4            22  Saturday                  8                    10.0  "
      ]
     },
     "execution_count": 6,
     "metadata": {},
     "output_type": "execute_result"
    }
   ],
   "source": [
    "prior_order_details.head()"
   ]
  },
  {
   "cell_type": "markdown",
   "metadata": {
    "id": "_BqmHOXoMWKP"
   },
   "source": [
    "### Visualize order frequency on DoW"
   ]
  },
  {
   "cell_type": "code",
   "execution_count": 10,
   "metadata": {
    "colab": {
     "base_uri": "https://localhost:8080/",
     "height": 281
    },
    "executionInfo": {
     "elapsed": 1568,
     "status": "ok",
     "timestamp": 1612682846921,
     "user": {
      "displayName": "Miao Wang",
      "photoUrl": "https://lh3.googleusercontent.com/a-/AOh14Gj2gWD5z1xIFGC8PbqA3mioC1WHPE1LoZ59VJPh=s64",
      "userId": "16458771487930506212"
     },
     "user_tz": 480
    },
    "id": "tdMSrLALKjmQ",
    "outputId": "f8338233-22e8-4742-9e98-d7139d866c53"
   },
   "outputs": [
    {
     "data": {
      "image/png": "[encoded data removed]",
      "text/plain": [
       "<Figure size 576x576 with 1 Axes>"
      ]
     },
     "metadata": {},
     "output_type": "display_data"
    }
   ],
   "source": [
    "\n",
    "#Frequency of Order Based on Days\n",
    "plt.figure(figsize = (8,8))\n",
    "ax = sns.countplot(color = '#4390F1', x=\"order_dow\",data=prior_order_details,order=[\"Monday\",\"Tuesday\",\"Wednesday\",\"Thursday\",\"Friday\",\"Saturday\",\"Sunday\"])\n",
    "plt.title(\"Order Frequency (Days)\")\n",
    "plt.xlabel(\"\")\n",
    "plt.ylabel(\"Number of Order\")\n",
    "plt.show()"
   ]
  },
  {
   "cell_type": "markdown",
   "metadata": {
    "id": "oLbaPUGBPbRP"
   },
   "source": [
    "### Visualize order frequency on HoD"
   ]
  },
  {
   "cell_type": "code",
   "execution_count": 12,
   "metadata": {
    "colab": {
     "base_uri": "https://localhost:8080/",
     "height": 349
    },
    "executionInfo": {
     "elapsed": 2008,
     "status": "ok",
     "timestamp": 1612682847470,
     "user": {
      "displayName": "Miao Wang",
      "photoUrl": "https://lh3.googleusercontent.com/a-/AOh14Gj2gWD5z1xIFGC8PbqA3mioC1WHPE1LoZ59VJPh=s64",
      "userId": "16458771487930506212"
     },
     "user_tz": 480
    },
    "id": "tF7qzZTBMs3j",
    "outputId": "6fc7363e-bed9-4e84-f2f9-91402815bef3"
   },
   "outputs": [
    {
     "name": "stderr",
     "output_type": "stream",
     "text": [
      "/Users/jichenxi/opt/anaconda3/lib/python3.8/site-packages/seaborn/_decorators.py:36: FutureWarning: Pass the following variables as keyword args: x, y. From version 0.12, the only valid positional argument will be `data`, and passing other arguments without an explicit keyword will result in an error or misinterpretation.\n",
      "  warnings.warn(\n"
     ]
    },
    {
     "data": {
      "image/png": "[encoded data removed]",
      "text/plain": [
       "<Figure size 576x576 with 1 Axes>"
      ]
     },
     "metadata": {},
     "output_type": "display_data"
    }
   ],
   "source": [
    "plt.figure(figsize = (8,8))\n",
    "order_hours_counts = orders.groupby(\"order_id\")[\"order_hour_of_day\"].mean().reset_index()\n",
    "order_hod_stats = order_hours_counts.order_hour_of_day.value_counts()\n",
    "sns.barplot(order_hod_stats.index, order_hod_stats.values, color = '#0EB974')\n",
    "plt.title(\"Order Hour\")\n",
    "plt.ylabel(\"Number of Order\")\n",
    "plt.xlabel('Order Time (hours)')\n",
    "plt.show()"
   ]
  },
  {
   "cell_type": "markdown",
   "metadata": {
    "id": "pYQeUg0oReAm"
   },
   "source": [
    "### Reorder Pattern Analysis"
   ]
  },
  {
   "cell_type": "code",
   "execution_count": 13,
   "metadata": {
    "colab": {
     "base_uri": "https://localhost:8080/",
     "height": 404
    },
    "executionInfo": {
     "elapsed": 2318,
     "status": "ok",
     "timestamp": 1612682847900,
     "user": {
      "displayName": "Miao Wang",
      "photoUrl": "https://lh3.googleusercontent.com/a-/AOh14Gj2gWD5z1xIFGC8PbqA3mioC1WHPE1LoZ59VJPh=s64",
      "userId": "16458771487930506212"
     },
     "user_tz": 480
    },
    "id": "joiFYHyBPqfR",
    "outputId": "c1a2cc9b-deb6-4457-e6a2-45da8f1244cd"
   },
   "outputs": [
    {
     "data": {
      "image/png": "[encoded data removed]",
      "text/plain": [
       "<Figure size 864x432 with 2 Axes>"
      ]
     },
     "metadata": {},
     "output_type": "display_data"
    }
   ],
   "source": [
    "reorder_heatmap = prior_order_details.groupby([\"order_dow\", \"order_hour_of_day\"])[\"reordered\"].mean().reset_index()\n",
    "reorder_heatmap = reorder_heatmap.pivot('order_dow', 'order_hour_of_day', 'reordered')\n",
    "plt.figure(figsize=(12,6))\n",
    "sns.heatmap(reorder_heatmap,cmap=\"Blues\")\n",
    "plt.title(\"Reorder Ratio\")\n",
    "plt.ylabel(\"\")\n",
    "plt.xlabel(\"Hours\")\n",
    "plt.show()"
   ]
  },
  {
   "cell_type": "code",
   "execution_count": 14,
   "metadata": {},
   "outputs": [
    {
     "data": {
      "text/html": [
       "<div>\n",
       "<style scoped>\n",
       "    .dataframe tbody tr th:only-of-type {\n",
       "        vertical-align: middle;\n",
       "    }\n",
       "\n",
       "    .dataframe tbody tr th {\n",
       "        vertical-align: top;\n",
       "    }\n",
       "\n",
       "    .dataframe thead th {\n",
       "        text-align: right;\n",
       "    }\n",
       "</style>\n",
       "<table border=\"1\" class=\"dataframe\">\n",
       "  <thead>\n",
       "    <tr style=\"text-align: right;\">\n",
       "      <th>order_hour_of_day</th>\n",
       "      <th>0</th>\n",
       "      <th>1</th>\n",
       "      <th>2</th>\n",
       "      <th>3</th>\n",
       "      <th>4</th>\n",
       "      <th>5</th>\n",
       "      <th>6</th>\n",
       "      <th>7</th>\n",
       "      <th>8</th>\n",
       "      <th>9</th>\n",
       "      <th>...</th>\n",
       "      <th>14</th>\n",
       "      <th>15</th>\n",
       "      <th>16</th>\n",
       "      <th>17</th>\n",
       "      <th>18</th>\n",
       "      <th>19</th>\n",
       "      <th>20</th>\n",
       "      <th>21</th>\n",
       "      <th>22</th>\n",
       "      <th>23</th>\n",
       "    </tr>\n",
       "    <tr>\n",
       "      <th>order_dow</th>\n",
       "      <th></th>\n",
       "      <th></th>\n",
       "      <th></th>\n",
       "      <th></th>\n",
       "      <th></th>\n",
       "      <th></th>\n",
       "      <th></th>\n",
       "      <th></th>\n",
       "      <th></th>\n",
       "      <th></th>\n",
       "      <th></th>\n",
       "      <th></th>\n",
       "      <th></th>\n",
       "      <th></th>\n",
       "      <th></th>\n",
       "      <th></th>\n",
       "      <th></th>\n",
       "      <th></th>\n",
       "      <th></th>\n",
       "      <th></th>\n",
       "      <th></th>\n",
       "    </tr>\n",
       "  </thead>\n",
       "  <tbody>\n",
       "    <tr>\n",
       "      <th>Friday</th>\n",
       "      <td>0.567251</td>\n",
       "      <td>0.572034</td>\n",
       "      <td>0.550388</td>\n",
       "      <td>0.535354</td>\n",
       "      <td>0.496183</td>\n",
       "      <td>0.630058</td>\n",
       "      <td>0.680883</td>\n",
       "      <td>0.634418</td>\n",
       "      <td>0.610677</td>\n",
       "      <td>0.622049</td>\n",
       "      <td>...</td>\n",
       "      <td>0.574965</td>\n",
       "      <td>0.596886</td>\n",
       "      <td>0.566166</td>\n",
       "      <td>0.592004</td>\n",
       "      <td>0.589528</td>\n",
       "      <td>0.584020</td>\n",
       "      <td>0.627149</td>\n",
       "      <td>0.587676</td>\n",
       "      <td>0.575840</td>\n",
       "      <td>0.560068</td>\n",
       "    </tr>\n",
       "    <tr>\n",
       "      <th>Monday</th>\n",
       "      <td>0.599442</td>\n",
       "      <td>0.591837</td>\n",
       "      <td>0.617251</td>\n",
       "      <td>0.572581</td>\n",
       "      <td>0.674641</td>\n",
       "      <td>0.622010</td>\n",
       "      <td>0.676249</td>\n",
       "      <td>0.660356</td>\n",
       "      <td>0.660913</td>\n",
       "      <td>0.630201</td>\n",
       "      <td>...</td>\n",
       "      <td>0.587335</td>\n",
       "      <td>0.599543</td>\n",
       "      <td>0.596117</td>\n",
       "      <td>0.567598</td>\n",
       "      <td>0.573962</td>\n",
       "      <td>0.580768</td>\n",
       "      <td>0.555831</td>\n",
       "      <td>0.555922</td>\n",
       "      <td>0.547170</td>\n",
       "      <td>0.565366</td>\n",
       "    </tr>\n",
       "    <tr>\n",
       "      <th>Saturday</th>\n",
       "      <td>0.438291</td>\n",
       "      <td>0.522852</td>\n",
       "      <td>0.582677</td>\n",
       "      <td>0.546099</td>\n",
       "      <td>0.404908</td>\n",
       "      <td>0.639640</td>\n",
       "      <td>0.637555</td>\n",
       "      <td>0.663746</td>\n",
       "      <td>0.600063</td>\n",
       "      <td>0.610521</td>\n",
       "      <td>...</td>\n",
       "      <td>0.566792</td>\n",
       "      <td>0.556966</td>\n",
       "      <td>0.548146</td>\n",
       "      <td>0.552816</td>\n",
       "      <td>0.551941</td>\n",
       "      <td>0.621935</td>\n",
       "      <td>0.563981</td>\n",
       "      <td>0.559144</td>\n",
       "      <td>0.604764</td>\n",
       "      <td>0.608067</td>\n",
       "    </tr>\n",
       "    <tr>\n",
       "      <th>Sunday</th>\n",
       "      <td>0.596118</td>\n",
       "      <td>0.492063</td>\n",
       "      <td>0.519417</td>\n",
       "      <td>0.487805</td>\n",
       "      <td>0.635659</td>\n",
       "      <td>0.561798</td>\n",
       "      <td>0.628070</td>\n",
       "      <td>0.625713</td>\n",
       "      <td>0.632673</td>\n",
       "      <td>0.580712</td>\n",
       "      <td>...</td>\n",
       "      <td>0.547221</td>\n",
       "      <td>0.587734</td>\n",
       "      <td>0.563119</td>\n",
       "      <td>0.560964</td>\n",
       "      <td>0.579957</td>\n",
       "      <td>0.565647</td>\n",
       "      <td>0.610511</td>\n",
       "      <td>0.563980</td>\n",
       "      <td>0.573087</td>\n",
       "      <td>0.565396</td>\n",
       "    </tr>\n",
       "    <tr>\n",
       "      <th>Thursday</th>\n",
       "      <td>0.558081</td>\n",
       "      <td>0.590258</td>\n",
       "      <td>0.472973</td>\n",
       "      <td>0.570136</td>\n",
       "      <td>0.496124</td>\n",
       "      <td>0.637821</td>\n",
       "      <td>0.638517</td>\n",
       "      <td>0.643494</td>\n",
       "      <td>0.609187</td>\n",
       "      <td>0.604442</td>\n",
       "      <td>...</td>\n",
       "      <td>0.582064</td>\n",
       "      <td>0.573727</td>\n",
       "      <td>0.595724</td>\n",
       "      <td>0.614588</td>\n",
       "      <td>0.601024</td>\n",
       "      <td>0.576763</td>\n",
       "      <td>0.546398</td>\n",
       "      <td>0.571263</td>\n",
       "      <td>0.598508</td>\n",
       "      <td>0.543887</td>\n",
       "    </tr>\n",
       "    <tr>\n",
       "      <th>Tuesday</th>\n",
       "      <td>0.564184</td>\n",
       "      <td>0.633690</td>\n",
       "      <td>0.655172</td>\n",
       "      <td>0.613333</td>\n",
       "      <td>0.494382</td>\n",
       "      <td>0.651709</td>\n",
       "      <td>0.614837</td>\n",
       "      <td>0.650794</td>\n",
       "      <td>0.625297</td>\n",
       "      <td>0.619295</td>\n",
       "      <td>...</td>\n",
       "      <td>0.574408</td>\n",
       "      <td>0.573125</td>\n",
       "      <td>0.575652</td>\n",
       "      <td>0.564880</td>\n",
       "      <td>0.559078</td>\n",
       "      <td>0.566420</td>\n",
       "      <td>0.575627</td>\n",
       "      <td>0.583224</td>\n",
       "      <td>0.514218</td>\n",
       "      <td>0.541526</td>\n",
       "    </tr>\n",
       "    <tr>\n",
       "      <th>Wednesday</th>\n",
       "      <td>0.538576</td>\n",
       "      <td>0.431373</td>\n",
       "      <td>0.433333</td>\n",
       "      <td>0.661616</td>\n",
       "      <td>0.601307</td>\n",
       "      <td>0.632353</td>\n",
       "      <td>0.640719</td>\n",
       "      <td>0.607026</td>\n",
       "      <td>0.647715</td>\n",
       "      <td>0.612631</td>\n",
       "      <td>...</td>\n",
       "      <td>0.567920</td>\n",
       "      <td>0.594027</td>\n",
       "      <td>0.556999</td>\n",
       "      <td>0.574547</td>\n",
       "      <td>0.568327</td>\n",
       "      <td>0.596164</td>\n",
       "      <td>0.578599</td>\n",
       "      <td>0.540113</td>\n",
       "      <td>0.573974</td>\n",
       "      <td>0.557210</td>\n",
       "    </tr>\n",
       "  </tbody>\n",
       "</table>\n",
       "<p>7 rows × 24 columns</p>\n",
       "</div>"
      ],
      "text/plain": [
       "order_hour_of_day        0         1         2         3         4         5   \\\n",
       "order_dow                                                                       \n",
       "Friday             0.567251  0.572034  0.550388  0.535354  0.496183  0.630058   \n",
       "Monday             0.599442  0.591837  0.617251  0.572581  0.674641  0.622010   \n",
       "Saturday           0.438291  0.522852  0.582677  0.546099  0.404908  0.639640   \n",
       "Sunday             0.596118  0.492063  0.519417  0.487805  0.635659  0.561798   \n",
       "Thursday           0.558081  0.590258  0.472973  0.570136  0.496124  0.637821   \n",
       "Tuesday            0.564184  0.633690  0.655172  0.613333  0.494382  0.651709   \n",
       "Wednesday          0.538576  0.431373  0.433333  0.661616  0.601307  0.632353   \n",
       "\n",
       "order_hour_of_day        6         7         8         9   ...        14  \\\n",
       "order_dow                                                  ...             \n",
       "Friday             0.680883  0.634418  0.610677  0.622049  ...  0.574965   \n",
       "Monday             0.676249  0.660356  0.660913  0.630201  ...  0.587335   \n",
       "Saturday           0.637555  0.663746  0.600063  0.610521  ...  0.566792   \n",
       "Sunday             0.628070  0.625713  0.632673  0.580712  ...  0.547221   \n",
       "Thursday           0.638517  0.643494  0.609187  0.604442  ...  0.582064   \n",
       "Tuesday            0.614837  0.650794  0.625297  0.619295  ...  0.574408   \n",
       "Wednesday          0.640719  0.607026  0.647715  0.612631  ...  0.567920   \n",
       "\n",
       "order_hour_of_day        15        16        17        18        19        20  \\\n",
       "order_dow                                                                       \n",
       "Friday             0.596886  0.566166  0.592004  0.589528  0.584020  0.627149   \n",
       "Monday             0.599543  0.596117  0.567598  0.573962  0.580768  0.555831   \n",
       "Saturday           0.556966  0.548146  0.552816  0.551941  0.621935  0.563981   \n",
       "Sunday             0.587734  0.563119  0.560964  0.579957  0.565647  0.610511   \n",
       "Thursday           0.573727  0.595724  0.614588  0.601024  0.576763  0.546398   \n",
       "Tuesday            0.573125  0.575652  0.564880  0.559078  0.566420  0.575627   \n",
       "Wednesday          0.594027  0.556999  0.574547  0.568327  0.596164  0.578599   \n",
       "\n",
       "order_hour_of_day        21        22        23  \n",
       "order_dow                                        \n",
       "Friday             0.587676  0.575840  0.560068  \n",
       "Monday             0.555922  0.547170  0.565366  \n",
       "Saturday           0.559144  0.604764  0.608067  \n",
       "Sunday             0.563980  0.573087  0.565396  \n",
       "Thursday           0.571263  0.598508  0.543887  \n",
       "Tuesday            0.583224  0.514218  0.541526  \n",
       "Wednesday          0.540113  0.573974  0.557210  \n",
       "\n",
       "[7 rows x 24 columns]"
      ]
     },
     "execution_count": 14,
     "metadata": {},
     "output_type": "execute_result"
    }
   ],
   "source": [
    "reorder_heatmap"
   ]
  },
  {
   "cell_type": "markdown",
   "metadata": {
    "id": "9S1or1kOTWgl"
   },
   "source": [
    "### Find the top 10 most reordered product, top 5 most reordered Aisles and Department based on prior data"
   ]
  },
  {
   "cell_type": "code",
   "execution_count": 15,
   "metadata": {},
   "outputs": [
    {
     "data": {
      "text/html": [
       "<div>\n",
       "<style scoped>\n",
       "    .dataframe tbody tr th:only-of-type {\n",
       "        vertical-align: middle;\n",
       "    }\n",
       "\n",
       "    .dataframe tbody tr th {\n",
       "        vertical-align: top;\n",
       "    }\n",
       "\n",
       "    .dataframe thead th {\n",
       "        text-align: right;\n",
       "    }\n",
       "</style>\n",
       "<table border=\"1\" class=\"dataframe\">\n",
       "  <thead>\n",
       "    <tr style=\"text-align: right;\">\n",
       "      <th></th>\n",
       "      <th>order_id</th>\n",
       "      <th>product_id</th>\n",
       "      <th>add_to_cart_order</th>\n",
       "      <th>reordered</th>\n",
       "      <th>user_id</th>\n",
       "      <th>eval_set</th>\n",
       "      <th>order_number</th>\n",
       "      <th>order_dow</th>\n",
       "      <th>order_hour_of_day</th>\n",
       "      <th>days_since_prior_order</th>\n",
       "      <th>product_name</th>\n",
       "      <th>aisle_id</th>\n",
       "      <th>department_id</th>\n",
       "      <th>department</th>\n",
       "      <th>aisle</th>\n",
       "    </tr>\n",
       "  </thead>\n",
       "  <tbody>\n",
       "    <tr>\n",
       "      <th>0</th>\n",
       "      <td>12</td>\n",
       "      <td>30597</td>\n",
       "      <td>1</td>\n",
       "      <td>1</td>\n",
       "      <td>152610</td>\n",
       "      <td>prior</td>\n",
       "      <td>22</td>\n",
       "      <td>Saturday</td>\n",
       "      <td>8</td>\n",
       "      <td>10.0</td>\n",
       "      <td>French Vanilla Coffee Creamer</td>\n",
       "      <td>53</td>\n",
       "      <td>16</td>\n",
       "      <td>dairy eggs</td>\n",
       "      <td>cream</td>\n",
       "    </tr>\n",
       "    <tr>\n",
       "      <th>1</th>\n",
       "      <td>29292</td>\n",
       "      <td>30597</td>\n",
       "      <td>7</td>\n",
       "      <td>1</td>\n",
       "      <td>112604</td>\n",
       "      <td>prior</td>\n",
       "      <td>15</td>\n",
       "      <td>Wednesday</td>\n",
       "      <td>10</td>\n",
       "      <td>1.0</td>\n",
       "      <td>French Vanilla Coffee Creamer</td>\n",
       "      <td>53</td>\n",
       "      <td>16</td>\n",
       "      <td>dairy eggs</td>\n",
       "      <td>cream</td>\n",
       "    </tr>\n",
       "    <tr>\n",
       "      <th>2</th>\n",
       "      <td>50422</td>\n",
       "      <td>30597</td>\n",
       "      <td>41</td>\n",
       "      <td>0</td>\n",
       "      <td>75304</td>\n",
       "      <td>prior</td>\n",
       "      <td>28</td>\n",
       "      <td>Tuesday</td>\n",
       "      <td>8</td>\n",
       "      <td>12.0</td>\n",
       "      <td>French Vanilla Coffee Creamer</td>\n",
       "      <td>53</td>\n",
       "      <td>16</td>\n",
       "      <td>dairy eggs</td>\n",
       "      <td>cream</td>\n",
       "    </tr>\n",
       "    <tr>\n",
       "      <th>3</th>\n",
       "      <td>94545</td>\n",
       "      <td>30597</td>\n",
       "      <td>4</td>\n",
       "      <td>1</td>\n",
       "      <td>22499</td>\n",
       "      <td>prior</td>\n",
       "      <td>20</td>\n",
       "      <td>Thursday</td>\n",
       "      <td>9</td>\n",
       "      <td>30.0</td>\n",
       "      <td>French Vanilla Coffee Creamer</td>\n",
       "      <td>53</td>\n",
       "      <td>16</td>\n",
       "      <td>dairy eggs</td>\n",
       "      <td>cream</td>\n",
       "    </tr>\n",
       "    <tr>\n",
       "      <th>4</th>\n",
       "      <td>138033</td>\n",
       "      <td>30597</td>\n",
       "      <td>3</td>\n",
       "      <td>0</td>\n",
       "      <td>152610</td>\n",
       "      <td>prior</td>\n",
       "      <td>2</td>\n",
       "      <td>Thursday</td>\n",
       "      <td>13</td>\n",
       "      <td>13.0</td>\n",
       "      <td>French Vanilla Coffee Creamer</td>\n",
       "      <td>53</td>\n",
       "      <td>16</td>\n",
       "      <td>dairy eggs</td>\n",
       "      <td>cream</td>\n",
       "    </tr>\n",
       "  </tbody>\n",
       "</table>\n",
       "</div>"
      ],
      "text/plain": [
       "   order_id  product_id  add_to_cart_order  reordered  user_id eval_set  \\\n",
       "0        12       30597                  1          1   152610    prior   \n",
       "1     29292       30597                  7          1   112604    prior   \n",
       "2     50422       30597                 41          0    75304    prior   \n",
       "3     94545       30597                  4          1    22499    prior   \n",
       "4    138033       30597                  3          0   152610    prior   \n",
       "\n",
       "   order_number  order_dow  order_hour_of_day  days_since_prior_order  \\\n",
       "0            22   Saturday                  8                    10.0   \n",
       "1            15  Wednesday                 10                     1.0   \n",
       "2            28    Tuesday                  8                    12.0   \n",
       "3            20   Thursday                  9                    30.0   \n",
       "4             2   Thursday                 13                    13.0   \n",
       "\n",
       "                    product_name  aisle_id  department_id  department  aisle  \n",
       "0  French Vanilla Coffee Creamer        53             16  dairy eggs  cream  \n",
       "1  French Vanilla Coffee Creamer        53             16  dairy eggs  cream  \n",
       "2  French Vanilla Coffee Creamer        53             16  dairy eggs  cream  \n",
       "3  French Vanilla Coffee Creamer        53             16  dairy eggs  cream  \n",
       "4  French Vanilla Coffee Creamer        53             16  dairy eggs  cream  "
      ]
     },
     "execution_count": 15,
     "metadata": {},
     "output_type": "execute_result"
    }
   ],
   "source": [
    "# joining full prior data info/\n",
    "prior_order_details_full = prior_order_details.merge(products, on = 'product_id')\n",
    "prior_order_details_full = prior_order_details_full.merge(departments, on = 'department_id')\n",
    "prior_order_details_full = prior_order_details_full.merge(aisles, on = 'aisle_id')\n",
    "prior_order_details_full.head()"
   ]
  },
  {
   "cell_type": "code",
   "execution_count": 82,
   "metadata": {},
   "outputs": [
    {
     "data": {
      "text/html": [
       "<div>\n",
       "<style scoped>\n",
       "    .dataframe tbody tr th:only-of-type {\n",
       "        vertical-align: middle;\n",
       "    }\n",
       "\n",
       "    .dataframe tbody tr th {\n",
       "        vertical-align: top;\n",
       "    }\n",
       "\n",
       "    .dataframe thead th {\n",
       "        text-align: right;\n",
       "    }\n",
       "</style>\n",
       "<table border=\"1\" class=\"dataframe\">\n",
       "  <thead>\n",
       "    <tr style=\"text-align: right;\">\n",
       "      <th></th>\n",
       "      <th>product_id</th>\n",
       "      <th>reordered</th>\n",
       "      <th>product_name</th>\n",
       "      <th>aisle_id</th>\n",
       "      <th>department_id</th>\n",
       "    </tr>\n",
       "  </thead>\n",
       "  <tbody>\n",
       "    <tr>\n",
       "      <th>0</th>\n",
       "      <td>10962</td>\n",
       "      <td>0.980000</td>\n",
       "      <td>Extra Strength Energy Shot</td>\n",
       "      <td>64</td>\n",
       "      <td>7</td>\n",
       "    </tr>\n",
       "    <tr>\n",
       "      <th>1</th>\n",
       "      <td>22195</td>\n",
       "      <td>0.979167</td>\n",
       "      <td>Kit's Organic Dark Chocolate Almond Coconut Fr...</td>\n",
       "      <td>3</td>\n",
       "      <td>19</td>\n",
       "    </tr>\n",
       "    <tr>\n",
       "      <th>2</th>\n",
       "      <td>30110</td>\n",
       "      <td>0.978723</td>\n",
       "      <td>Selects Very Low Sodium Chunk White Albacore T...</td>\n",
       "      <td>95</td>\n",
       "      <td>15</td>\n",
       "    </tr>\n",
       "    <tr>\n",
       "      <th>3</th>\n",
       "      <td>12995</td>\n",
       "      <td>0.974026</td>\n",
       "      <td>Cacao Hemp Walnut Bar</td>\n",
       "      <td>3</td>\n",
       "      <td>19</td>\n",
       "    </tr>\n",
       "    <tr>\n",
       "      <th>4</th>\n",
       "      <td>7277</td>\n",
       "      <td>0.973684</td>\n",
       "      <td>Parmesan Cheese Breadstick</td>\n",
       "      <td>78</td>\n",
       "      <td>19</td>\n",
       "    </tr>\n",
       "    <tr>\n",
       "      <th>5</th>\n",
       "      <td>26111</td>\n",
       "      <td>0.969231</td>\n",
       "      <td>Classic Roast Ground Coffee</td>\n",
       "      <td>26</td>\n",
       "      <td>7</td>\n",
       "    </tr>\n",
       "    <tr>\n",
       "      <th>6</th>\n",
       "      <td>17469</td>\n",
       "      <td>0.968750</td>\n",
       "      <td>Lo-Carb Energy Drink</td>\n",
       "      <td>64</td>\n",
       "      <td>7</td>\n",
       "    </tr>\n",
       "    <tr>\n",
       "      <th>7</th>\n",
       "      <td>34410</td>\n",
       "      <td>0.965517</td>\n",
       "      <td>Plastic Squared Plates</td>\n",
       "      <td>111</td>\n",
       "      <td>17</td>\n",
       "    </tr>\n",
       "    <tr>\n",
       "      <th>8</th>\n",
       "      <td>19161</td>\n",
       "      <td>0.964286</td>\n",
       "      <td>Organic Summer Strawberry Kefir</td>\n",
       "      <td>120</td>\n",
       "      <td>16</td>\n",
       "    </tr>\n",
       "    <tr>\n",
       "      <th>9</th>\n",
       "      <td>45018</td>\n",
       "      <td>0.958333</td>\n",
       "      <td>Chocolate Peppermint Stick</td>\n",
       "      <td>3</td>\n",
       "      <td>19</td>\n",
       "    </tr>\n",
       "    <tr>\n",
       "      <th>10</th>\n",
       "      <td>33258</td>\n",
       "      <td>0.958333</td>\n",
       "      <td>Superfood Organic Gluten Free Mulberry Cacao S...</td>\n",
       "      <td>3</td>\n",
       "      <td>19</td>\n",
       "    </tr>\n",
       "    <tr>\n",
       "      <th>11</th>\n",
       "      <td>32714</td>\n",
       "      <td>0.957447</td>\n",
       "      <td>Spearmint Gum</td>\n",
       "      <td>46</td>\n",
       "      <td>19</td>\n",
       "    </tr>\n",
       "    <tr>\n",
       "      <th>12</th>\n",
       "      <td>29828</td>\n",
       "      <td>0.956522</td>\n",
       "      <td>Sharp Cheddar Cheeseball Spreadable Cheeseball</td>\n",
       "      <td>2</td>\n",
       "      <td>16</td>\n",
       "    </tr>\n",
       "    <tr>\n",
       "      <th>13</th>\n",
       "      <td>23023</td>\n",
       "      <td>0.956522</td>\n",
       "      <td>Organic 2nd Foods Pouch - Pears, Carrots, &amp; Peas</td>\n",
       "      <td>92</td>\n",
       "      <td>18</td>\n",
       "    </tr>\n",
       "    <tr>\n",
       "      <th>14</th>\n",
       "      <td>1692</td>\n",
       "      <td>0.954545</td>\n",
       "      <td>Organic Fair Trade 73% Dark Chocolate Bar</td>\n",
       "      <td>45</td>\n",
       "      <td>19</td>\n",
       "    </tr>\n",
       "    <tr>\n",
       "      <th>15</th>\n",
       "      <td>37724</td>\n",
       "      <td>0.953488</td>\n",
       "      <td>Organic Edensoy Extra Original Soy Milk</td>\n",
       "      <td>91</td>\n",
       "      <td>16</td>\n",
       "    </tr>\n",
       "    <tr>\n",
       "      <th>16</th>\n",
       "      <td>43579</td>\n",
       "      <td>0.952381</td>\n",
       "      <td>Body Wash, Restoring, Marula Oil Infused</td>\n",
       "      <td>127</td>\n",
       "      <td>11</td>\n",
       "    </tr>\n",
       "    <tr>\n",
       "      <th>17</th>\n",
       "      <td>24777</td>\n",
       "      <td>0.952381</td>\n",
       "      <td>Original Fudge Sticks</td>\n",
       "      <td>61</td>\n",
       "      <td>19</td>\n",
       "    </tr>\n",
       "    <tr>\n",
       "      <th>18</th>\n",
       "      <td>22470</td>\n",
       "      <td>0.952381</td>\n",
       "      <td>Might 4 essential nutrition blend spinach, che...</td>\n",
       "      <td>92</td>\n",
       "      <td>18</td>\n",
       "    </tr>\n",
       "    <tr>\n",
       "      <th>19</th>\n",
       "      <td>9663</td>\n",
       "      <td>0.952381</td>\n",
       "      <td>Strawberry Lowfat Organic Milk</td>\n",
       "      <td>84</td>\n",
       "      <td>16</td>\n",
       "    </tr>\n",
       "  </tbody>\n",
       "</table>\n",
       "</div>"
      ],
      "text/plain": [
       "    product_id  reordered                                       product_name  \\\n",
       "0        10962   0.980000                         Extra Strength Energy Shot   \n",
       "1        22195   0.979167  Kit's Organic Dark Chocolate Almond Coconut Fr...   \n",
       "2        30110   0.978723  Selects Very Low Sodium Chunk White Albacore T...   \n",
       "3        12995   0.974026                              Cacao Hemp Walnut Bar   \n",
       "4         7277   0.973684                         Parmesan Cheese Breadstick   \n",
       "5        26111   0.969231                        Classic Roast Ground Coffee   \n",
       "6        17469   0.968750                               Lo-Carb Energy Drink   \n",
       "7        34410   0.965517                             Plastic Squared Plates   \n",
       "8        19161   0.964286                    Organic Summer Strawberry Kefir   \n",
       "9        45018   0.958333                         Chocolate Peppermint Stick   \n",
       "10       33258   0.958333  Superfood Organic Gluten Free Mulberry Cacao S...   \n",
       "11       32714   0.957447                                      Spearmint Gum   \n",
       "12       29828   0.956522     Sharp Cheddar Cheeseball Spreadable Cheeseball   \n",
       "13       23023   0.956522   Organic 2nd Foods Pouch - Pears, Carrots, & Peas   \n",
       "14        1692   0.954545          Organic Fair Trade 73% Dark Chocolate Bar   \n",
       "15       37724   0.953488            Organic Edensoy Extra Original Soy Milk   \n",
       "16       43579   0.952381           Body Wash, Restoring, Marula Oil Infused   \n",
       "17       24777   0.952381                              Original Fudge Sticks   \n",
       "18       22470   0.952381  Might 4 essential nutrition blend spinach, che...   \n",
       "19        9663   0.952381                     Strawberry Lowfat Organic Milk   \n",
       "\n",
       "    aisle_id  department_id  \n",
       "0         64              7  \n",
       "1          3             19  \n",
       "2         95             15  \n",
       "3          3             19  \n",
       "4         78             19  \n",
       "5         26              7  \n",
       "6         64              7  \n",
       "7        111             17  \n",
       "8        120             16  \n",
       "9          3             19  \n",
       "10         3             19  \n",
       "11        46             19  \n",
       "12         2             16  \n",
       "13        92             18  \n",
       "14        45             19  \n",
       "15        91             16  \n",
       "16       127             11  \n",
       "17        61             19  \n",
       "18        92             18  \n",
       "19        84             16  "
      ]
     },
     "execution_count": 82,
     "metadata": {},
     "output_type": "execute_result"
    }
   ],
   "source": [
    "#top 10 most reordered products\n",
    "\n",
    "prior_order_details_full.head()\n",
    "reorder_pop = prior_order_details_full.groupby([\"product_id\"])[\"reordered\"].mean().reset_index()\n",
    "reorder_pop = reorder_pop.sort_values(by = 'reordered', ascending = False)\n",
    "reorder_pop = reorder_pop.merge(products, on = 'product_id')\n",
    "reorder_pop.head(20)"
   ]
  },
  {
   "cell_type": "code",
   "execution_count": 83,
   "metadata": {},
   "outputs": [
    {
     "data": {
      "text/plain": [
       "<AxesSubplot:xlabel='product_id', ylabel='reordered'>"
      ]
     },
     "execution_count": 83,
     "metadata": {},
     "output_type": "execute_result"
    },
    {
     "data": {
      "image/png": "[encoded data removed]",
      "text/plain": [
       "<Figure size 576x576 with 1 Axes>"
      ]
     },
     "metadata": {},
     "output_type": "display_data"
    }
   ],
   "source": [
    "plt.figure(figsize = (8,8))\n",
    "reorder_prod_vis = reorder_pop.iloc[0:10]\n",
    "#reorder_prod_vis\n",
    "sns.barplot(x=reorder_prod_vis.product_id, y=reorder_prod_vis.reordered, color = '#C4C2C6')"
   ]
  },
  {
   "cell_type": "code",
   "execution_count": 84,
   "metadata": {},
   "outputs": [
    {
     "data": {
      "text/html": [
       "<div>\n",
       "<style scoped>\n",
       "    .dataframe tbody tr th:only-of-type {\n",
       "        vertical-align: middle;\n",
       "    }\n",
       "\n",
       "    .dataframe tbody tr th {\n",
       "        vertical-align: top;\n",
       "    }\n",
       "\n",
       "    .dataframe thead th {\n",
       "        text-align: right;\n",
       "    }\n",
       "</style>\n",
       "<table border=\"1\" class=\"dataframe\">\n",
       "  <thead>\n",
       "    <tr style=\"text-align: right;\">\n",
       "      <th></th>\n",
       "      <th>aisle_id</th>\n",
       "      <th>reordered</th>\n",
       "      <th>aisle</th>\n",
       "    </tr>\n",
       "  </thead>\n",
       "  <tbody>\n",
       "    <tr>\n",
       "      <th>0</th>\n",
       "      <td>84</td>\n",
       "      <td>0.771401</td>\n",
       "      <td>milk</td>\n",
       "    </tr>\n",
       "    <tr>\n",
       "      <th>1</th>\n",
       "      <td>115</td>\n",
       "      <td>0.737029</td>\n",
       "      <td>water seltzer sparkling water</td>\n",
       "    </tr>\n",
       "    <tr>\n",
       "      <th>2</th>\n",
       "      <td>86</td>\n",
       "      <td>0.710329</td>\n",
       "      <td>eggs</td>\n",
       "    </tr>\n",
       "    <tr>\n",
       "      <th>3</th>\n",
       "      <td>24</td>\n",
       "      <td>0.709361</td>\n",
       "      <td>fresh fruits</td>\n",
       "    </tr>\n",
       "    <tr>\n",
       "      <th>4</th>\n",
       "      <td>32</td>\n",
       "      <td>0.701109</td>\n",
       "      <td>packaged produce</td>\n",
       "    </tr>\n",
       "    <tr>\n",
       "      <th>5</th>\n",
       "      <td>91</td>\n",
       "      <td>0.699294</td>\n",
       "      <td>soy lactosefree</td>\n",
       "    </tr>\n",
       "    <tr>\n",
       "      <th>6</th>\n",
       "      <td>53</td>\n",
       "      <td>0.687934</td>\n",
       "      <td>cream</td>\n",
       "    </tr>\n",
       "    <tr>\n",
       "      <th>7</th>\n",
       "      <td>112</td>\n",
       "      <td>0.672784</td>\n",
       "      <td>bread</td>\n",
       "    </tr>\n",
       "    <tr>\n",
       "      <th>8</th>\n",
       "      <td>31</td>\n",
       "      <td>0.666962</td>\n",
       "      <td>refrigerated</td>\n",
       "    </tr>\n",
       "    <tr>\n",
       "      <th>9</th>\n",
       "      <td>64</td>\n",
       "      <td>0.666552</td>\n",
       "      <td>energy sports drinks</td>\n",
       "    </tr>\n",
       "  </tbody>\n",
       "</table>\n",
       "</div>"
      ],
      "text/plain": [
       "   aisle_id  reordered                          aisle\n",
       "0        84   0.771401                           milk\n",
       "1       115   0.737029  water seltzer sparkling water\n",
       "2        86   0.710329                           eggs\n",
       "3        24   0.709361                   fresh fruits\n",
       "4        32   0.701109               packaged produce\n",
       "5        91   0.699294                soy lactosefree\n",
       "6        53   0.687934                          cream\n",
       "7       112   0.672784                          bread\n",
       "8        31   0.666962                   refrigerated\n",
       "9        64   0.666552           energy sports drinks"
      ]
     },
     "execution_count": 84,
     "metadata": {},
     "output_type": "execute_result"
    }
   ],
   "source": [
    "#top 5 most reordered aisles\n",
    "\n",
    "prior_order_details_full.head()\n",
    "reorder_pop = prior_order_details_full.groupby([\"aisle_id\"])[\"reordered\"].mean().reset_index()\n",
    "reorder_pop = reorder_pop.sort_values(by = 'reordered', ascending = False)\n",
    "reorder_pop = reorder_pop.merge(aisles, on = 'aisle_id')\n",
    "reorder_pop.head(10)"
   ]
  },
  {
   "cell_type": "code",
   "execution_count": 85,
   "metadata": {},
   "outputs": [
    {
     "data": {
      "text/plain": [
       "<AxesSubplot:xlabel='aisle', ylabel='reordered'>"
      ]
     },
     "execution_count": 85,
     "metadata": {},
     "output_type": "execute_result"
    },
    {
     "data": {
      "image/png": "[encoded data removed]",
      "text/plain": [
       "<Figure size 432x288 with 1 Axes>"
      ]
     },
     "metadata": {},
     "output_type": "display_data"
    }
   ],
   "source": [
    "plt.figure(figsize = (6,4))\n",
    "reorder_a_vis = reorder_pop.iloc[0:5]\n",
    "#reorder_a_vis\n",
    "sns.barplot(x=reorder_a_vis.aisle, y=reorder_a_vis.reordered, color = '#B0AFB2')"
   ]
  },
  {
   "cell_type": "code",
   "execution_count": 86,
   "metadata": {},
   "outputs": [
    {
     "data": {
      "text/html": [
       "<div>\n",
       "<style scoped>\n",
       "    .dataframe tbody tr th:only-of-type {\n",
       "        vertical-align: middle;\n",
       "    }\n",
       "\n",
       "    .dataframe tbody tr th {\n",
       "        vertical-align: top;\n",
       "    }\n",
       "\n",
       "    .dataframe thead th {\n",
       "        text-align: right;\n",
       "    }\n",
       "</style>\n",
       "<table border=\"1\" class=\"dataframe\">\n",
       "  <thead>\n",
       "    <tr style=\"text-align: right;\">\n",
       "      <th></th>\n",
       "      <th>department_id</th>\n",
       "      <th>reordered</th>\n",
       "      <th>department</th>\n",
       "    </tr>\n",
       "  </thead>\n",
       "  <tbody>\n",
       "    <tr>\n",
       "      <th>0</th>\n",
       "      <td>16</td>\n",
       "      <td>0.660873</td>\n",
       "      <td>dairy eggs</td>\n",
       "    </tr>\n",
       "    <tr>\n",
       "      <th>1</th>\n",
       "      <td>7</td>\n",
       "      <td>0.657481</td>\n",
       "      <td>beverages</td>\n",
       "    </tr>\n",
       "    <tr>\n",
       "      <th>2</th>\n",
       "      <td>4</td>\n",
       "      <td>0.644304</td>\n",
       "      <td>produce</td>\n",
       "    </tr>\n",
       "    <tr>\n",
       "      <th>3</th>\n",
       "      <td>3</td>\n",
       "      <td>0.623313</td>\n",
       "      <td>bakery</td>\n",
       "    </tr>\n",
       "    <tr>\n",
       "      <th>4</th>\n",
       "      <td>20</td>\n",
       "      <td>0.604876</td>\n",
       "      <td>deli</td>\n",
       "    </tr>\n",
       "    <tr>\n",
       "      <th>5</th>\n",
       "      <td>10</td>\n",
       "      <td>0.575548</td>\n",
       "      <td>bulk</td>\n",
       "    </tr>\n",
       "    <tr>\n",
       "      <th>6</th>\n",
       "      <td>19</td>\n",
       "      <td>0.574820</td>\n",
       "      <td>snacks</td>\n",
       "    </tr>\n",
       "    <tr>\n",
       "      <th>7</th>\n",
       "      <td>5</td>\n",
       "      <td>0.564926</td>\n",
       "      <td>alcohol</td>\n",
       "    </tr>\n",
       "    <tr>\n",
       "      <th>8</th>\n",
       "      <td>12</td>\n",
       "      <td>0.558217</td>\n",
       "      <td>meat seafood</td>\n",
       "    </tr>\n",
       "    <tr>\n",
       "      <th>9</th>\n",
       "      <td>14</td>\n",
       "      <td>0.552675</td>\n",
       "      <td>breakfast</td>\n",
       "    </tr>\n",
       "  </tbody>\n",
       "</table>\n",
       "</div>"
      ],
      "text/plain": [
       "   department_id  reordered    department\n",
       "0             16   0.660873    dairy eggs\n",
       "1              7   0.657481     beverages\n",
       "2              4   0.644304       produce\n",
       "3              3   0.623313        bakery\n",
       "4             20   0.604876          deli\n",
       "5             10   0.575548          bulk\n",
       "6             19   0.574820        snacks\n",
       "7              5   0.564926       alcohol\n",
       "8             12   0.558217  meat seafood\n",
       "9             14   0.552675     breakfast"
      ]
     },
     "execution_count": 86,
     "metadata": {},
     "output_type": "execute_result"
    }
   ],
   "source": [
    "#top 5 most reordered departments\n",
    "\n",
    "prior_order_details_full.head()\n",
    "reorder_pop = prior_order_details_full.groupby([\"department_id\"])[\"reordered\"].mean().reset_index()\n",
    "reorder_pop = reorder_pop.sort_values(by = 'reordered', ascending = False)\n",
    "reorder_pop = reorder_pop.merge(departments, on = 'department_id')\n",
    "reorder_pop.head(10)"
   ]
  },
  {
   "cell_type": "code",
   "execution_count": 87,
   "metadata": {},
   "outputs": [
    {
     "data": {
      "text/plain": [
       "<AxesSubplot:xlabel='department', ylabel='reordered'>"
      ]
     },
     "execution_count": 87,
     "metadata": {},
     "output_type": "execute_result"
    },
    {
     "data": {
      "image/png": "[encoded data removed]",
      "text/plain": [
       "<Figure size 432x288 with 1 Axes>"
      ]
     },
     "metadata": {},
     "output_type": "display_data"
    }
   ],
   "source": [
    "plt.figure(figsize = (6,4))\n",
    "reorder_d_vis = reorder_pop.iloc[0:5]\n",
    "#reorder_a_vis\n",
    "sns.barplot(x=reorder_d_vis.department, y=reorder_d_vis.reordered, color = '#919192')\n"
   ]
  },
  {
   "cell_type": "markdown",
   "metadata": {
    "id": "hk27iz0pTv9L"
   },
   "source": [
    "# Data Quality Check"
   ]
  },
  {
   "cell_type": "markdown",
   "metadata": {
    "id": "gO8PCMWdU2q3"
   },
   "source": [
    "### Validate the `days_since_prior_order` column in orders table"
   ]
  },
  {
   "cell_type": "code",
   "execution_count": 21,
   "metadata": {
    "colab": {
     "base_uri": "https://localhost:8080/"
    },
    "executionInfo": {
     "elapsed": 2125,
     "status": "ok",
     "timestamp": 1612682847904,
     "user": {
      "displayName": "Miao Wang",
      "photoUrl": "https://lh3.googleusercontent.com/a-/AOh14Gj2gWD5z1xIFGC8PbqA3mioC1WHPE1LoZ59VJPh=s64",
      "userId": "16458771487930506212"
     },
     "user_tz": 480
    },
    "id": "KBQwGnnxU96l",
    "outputId": "4fec279a-20d8-451b-dca0-6b2854fd4d2d"
   },
   "outputs": [
    {
     "name": "stdout",
     "output_type": "stream",
     "text": [
      "NaN count in days_since_prior_order column:  5000\n",
      "order_number 1 count in orders table:  5000\n",
      "user_id count in orders table:  5000\n"
     ]
    }
   ],
   "source": [
    "print(\"NaN count in days_since_prior_order column: \", orders[orders.days_since_prior_order.isnull()].shape[0])\n",
    "print(\"order_number 1 count in orders table: \", orders[orders.order_number == 1].drop_duplicates().shape[0])\n",
    "print(\"user_id count in orders table: \", orders.user_id.drop_duplicates().shape[0])"
   ]
  },
  {
   "cell_type": "markdown",
   "metadata": {
    "id": "UNd0YH_HVi4S"
   },
   "source": [
    "We can see that, in `orders.csv`, the number of rows that `days_since_prior_order` is missing = number of rows `order_number` ==1, which is also all user number."
   ]
  },
  {
   "cell_type": "markdown",
   "metadata": {
    "id": "M1Ju7G2wUXHN"
   },
   "source": [
    "### Validate Valid orders matching in the prior table"
   ]
  },
  {
   "cell_type": "code",
   "execution_count": 22,
   "metadata": {
    "colab": {
     "base_uri": "https://localhost:8080/",
     "height": 111
    },
    "executionInfo": {
     "elapsed": 1943,
     "status": "ok",
     "timestamp": 1612682847906,
     "user": {
      "displayName": "Miao Wang",
      "photoUrl": "https://lh3.googleusercontent.com/a-/AOh14Gj2gWD5z1xIFGC8PbqA3mioC1WHPE1LoZ59VJPh=s64",
      "userId": "16458771487930506212"
     },
     "user_tz": 480
    },
    "id": "zXhKl-DTVwHu",
    "outputId": "ae432d78-84c7-4f4d-c2f8-57f1865bd47c"
   },
   "outputs": [
    {
     "data": {
      "text/html": [
       "<div>\n",
       "<style scoped>\n",
       "    .dataframe tbody tr th:only-of-type {\n",
       "        vertical-align: middle;\n",
       "    }\n",
       "\n",
       "    .dataframe tbody tr th {\n",
       "        vertical-align: top;\n",
       "    }\n",
       "\n",
       "    .dataframe thead th {\n",
       "        text-align: right;\n",
       "    }\n",
       "</style>\n",
       "<table border=\"1\" class=\"dataframe\">\n",
       "  <thead>\n",
       "    <tr style=\"text-align: right;\">\n",
       "      <th></th>\n",
       "      <th>eval_set</th>\n",
       "      <th>order_id</th>\n",
       "    </tr>\n",
       "  </thead>\n",
       "  <tbody>\n",
       "    <tr>\n",
       "      <th>0</th>\n",
       "      <td>prior</td>\n",
       "      <td>77683</td>\n",
       "    </tr>\n",
       "    <tr>\n",
       "      <th>1</th>\n",
       "      <td>train</td>\n",
       "      <td>5000</td>\n",
       "    </tr>\n",
       "  </tbody>\n",
       "</table>\n",
       "</div>"
      ],
      "text/plain": [
       "  eval_set  order_id\n",
       "0    prior     77683\n",
       "1    train      5000"
      ]
     },
     "execution_count": 22,
     "metadata": {},
     "output_type": "execute_result"
    }
   ],
   "source": [
    "# in order csv, different eval_set and their counts：\n",
    "orders.groupby(['eval_set'], as_index=False).agg(OrderedDict([('order_id','nunique')]))"
   ]
  },
  {
   "cell_type": "code",
   "execution_count": 23,
   "metadata": {
    "colab": {
     "base_uri": "https://localhost:8080/"
    },
    "executionInfo": {
     "elapsed": 2030,
     "status": "ok",
     "timestamp": 1612682848058,
     "user": {
      "displayName": "Miao Wang",
      "photoUrl": "https://lh3.googleusercontent.com/a-/AOh14Gj2gWD5z1xIFGC8PbqA3mioC1WHPE1LoZ59VJPh=s64",
      "userId": "16458771487930506212"
     },
     "user_tz": 480
    },
    "id": "7q4pdTO7V4YV",
    "outputId": "30c8c874-c063-47a2-a61a-42af49255226"
   },
   "outputs": [
    {
     "name": "stdout",
     "output_type": "stream",
     "text": [
      "order_id count in prior:  77683\n",
      "order_id from prior found in orders:  77683\n"
     ]
    }
   ],
   "source": [
    "# verify if order_ids in order_products_prior.csv order_id all belong to orders.csv \n",
    "print(\"order_id count in prior: \", order_products_prior['order_id'].nunique())\n",
    "print(\"order_id from prior found in orders: \", order_products_prior[order_products_prior.order_id.isin(orders.order_id)].order_id.nunique())"
   ]
  },
  {
   "cell_type": "markdown",
   "metadata": {
    "id": "eOEqdKmwWJ01"
   },
   "source": [
    "### Validate orders matching in the train table"
   ]
  },
  {
   "cell_type": "code",
   "execution_count": 24,
   "metadata": {
    "colab": {
     "base_uri": "https://localhost:8080/"
    },
    "executionInfo": {
     "elapsed": 1916,
     "status": "ok",
     "timestamp": 1612682848061,
     "user": {
      "displayName": "Miao Wang",
      "photoUrl": "https://lh3.googleusercontent.com/a-/AOh14Gj2gWD5z1xIFGC8PbqA3mioC1WHPE1LoZ59VJPh=s64",
      "userId": "16458771487930506212"
     },
     "user_tz": 480
    },
    "id": "4c6zVkk5WAM6",
    "outputId": "e0bb940b-aec2-4be0-9afb-af938311ca00"
   },
   "outputs": [
    {
     "name": "stdout",
     "output_type": "stream",
     "text": [
      "orders count in train:  5000\n",
      "order_id from train found in orders:  5000\n"
     ]
    }
   ],
   "source": [
    "# verify: order_id in order_products_train.csv are also in orders.csv \n",
    "print(\"orders count in train: \", order_products_train['order_id'].nunique())\n",
    "print(\"order_id from train found in orders: \", order_products_train[order_products_train.order_id.isin(orders.order_id)].order_id.nunique())"
   ]
  },
  {
   "cell_type": "markdown",
   "metadata": {
    "id": "m3gXQZ98Wcj7"
   },
   "source": [
    "### Validate the intersection between prior and train table"
   ]
  },
  {
   "cell_type": "code",
   "execution_count": 25,
   "metadata": {
    "colab": {
     "base_uri": "https://localhost:8080/"
    },
    "executionInfo": {
     "elapsed": 1786,
     "status": "ok",
     "timestamp": 1612682848062,
     "user": {
      "displayName": "Miao Wang",
      "photoUrl": "https://lh3.googleusercontent.com/a-/AOh14Gj2gWD5z1xIFGC8PbqA3mioC1WHPE1LoZ59VJPh=s64",
      "userId": "16458771487930506212"
     },
     "user_tz": 480
    },
    "id": "akHKYebnWM__",
    "outputId": "9ad4f901-ec42-439c-d2ac-d9d5ddaf5fe3"
   },
   "outputs": [
    {
     "name": "stdout",
     "output_type": "stream",
     "text": [
      "order_id intersection between prior and train:  0\n"
     ]
    }
   ],
   "source": [
    "# verify: order_ids in order_products_prior.csv and order_products_train.csv no overlaps/\n",
    "print(\"order_id intersection between prior and train: \", pd.merge(order_products_prior, order_products_train, on = ['order_id']).shape[0])"
   ]
  },
  {
   "cell_type": "markdown",
   "metadata": {
    "id": "oFjFRik-Xq14"
   },
   "source": [
    "### Validate the user_id matching in prior and train set"
   ]
  },
  {
   "cell_type": "code",
   "execution_count": 26,
   "metadata": {
    "colab": {
     "base_uri": "https://localhost:8080/",
     "height": 111
    },
    "executionInfo": {
     "elapsed": 1600,
     "status": "ok",
     "timestamp": 1612682848064,
     "user": {
      "displayName": "Miao Wang",
      "photoUrl": "https://lh3.googleusercontent.com/a-/AOh14Gj2gWD5z1xIFGC8PbqA3mioC1WHPE1LoZ59VJPh=s64",
      "userId": "16458771487930506212"
     },
     "user_tz": 480
    },
    "id": "rHM_FeuDSCrU",
    "outputId": "100a6db2-96c4-46f7-f98b-08a0828b7b88"
   },
   "outputs": [
    {
     "data": {
      "text/html": [
       "<div>\n",
       "<style scoped>\n",
       "    .dataframe tbody tr th:only-of-type {\n",
       "        vertical-align: middle;\n",
       "    }\n",
       "\n",
       "    .dataframe tbody tr th {\n",
       "        vertical-align: top;\n",
       "    }\n",
       "\n",
       "    .dataframe thead th {\n",
       "        text-align: right;\n",
       "    }\n",
       "</style>\n",
       "<table border=\"1\" class=\"dataframe\">\n",
       "  <thead>\n",
       "    <tr style=\"text-align: right;\">\n",
       "      <th></th>\n",
       "      <th>eval_set</th>\n",
       "      <th>user_id</th>\n",
       "    </tr>\n",
       "  </thead>\n",
       "  <tbody>\n",
       "    <tr>\n",
       "      <th>0</th>\n",
       "      <td>prior</td>\n",
       "      <td>5000</td>\n",
       "    </tr>\n",
       "    <tr>\n",
       "      <th>1</th>\n",
       "      <td>train</td>\n",
       "      <td>5000</td>\n",
       "    </tr>\n",
       "  </tbody>\n",
       "</table>\n",
       "</div>"
      ],
      "text/plain": [
       "  eval_set  user_id\n",
       "0    prior     5000\n",
       "1    train     5000"
      ]
     },
     "execution_count": 26,
     "metadata": {},
     "output_type": "execute_result"
    }
   ],
   "source": [
    "# in orders.csv，count of users in different eval_set：\n",
    "orders.groupby(['eval_set'], as_index=False).agg(OrderedDict([('user_id','nunique')]))"
   ]
  },
  {
   "cell_type": "markdown",
   "metadata": {},
   "source": [
    "prior and train all have 5000 users. "
   ]
  },
  {
   "cell_type": "code",
   "execution_count": 27,
   "metadata": {
    "colab": {
     "base_uri": "https://localhost:8080/"
    },
    "executionInfo": {
     "elapsed": 1482,
     "status": "ok",
     "timestamp": 1612682848065,
     "user": {
      "displayName": "Miao Wang",
      "photoUrl": "https://lh3.googleusercontent.com/a-/AOh14Gj2gWD5z1xIFGC8PbqA3mioC1WHPE1LoZ59VJPh=s64",
      "userId": "16458771487930506212"
     },
     "user_tz": 480
    },
    "id": "6qxshAtcWhUd",
    "outputId": "69ba4ff5-bf2f-4257-a836-6547d832782d"
   },
   "outputs": [
    {
     "name": "stdout",
     "output_type": "stream",
     "text": [
      "user_ids in prior:  5000\n",
      "user_ids in train:  5000\n",
      "intersection of prior and train:  5000\n"
     ]
    }
   ],
   "source": [
    "prior_user_ids = set(orders[orders['eval_set'] == 'prior']['user_id'])\n",
    "train_user_ids = set(orders[orders['eval_set'] == 'train']['user_id'])\n",
    "print(\"user_ids in prior: \", len(prior_user_ids))\n",
    "print(\"user_ids in train: \", len(train_user_ids))\n",
    "print(\"intersection of prior and train: \", len(prior_user_ids.intersection(train_user_ids)))"
   ]
  },
  {
   "cell_type": "markdown",
   "metadata": {
    "id": "gFLdjgW6YjQo"
   },
   "source": [
    "### Validate order counts in the train dataset"
   ]
  },
  {
   "cell_type": "code",
   "execution_count": 28,
   "metadata": {
    "colab": {
     "base_uri": "https://localhost:8080/",
     "height": 204
    },
    "executionInfo": {
     "elapsed": 317,
     "status": "ok",
     "timestamp": 1612682851348,
     "user": {
      "displayName": "Miao Wang",
      "photoUrl": "https://lh3.googleusercontent.com/a-/AOh14Gj2gWD5z1xIFGC8PbqA3mioC1WHPE1LoZ59VJPh=s64",
      "userId": "16458771487930506212"
     },
     "user_tz": 480
    },
    "id": "DUyvQeykY_3u",
    "outputId": "792dc67e-58b3-4ee2-a938-9949c3607761"
   },
   "outputs": [
    {
     "data": {
      "text/html": [
       "<div>\n",
       "<style scoped>\n",
       "    .dataframe tbody tr th:only-of-type {\n",
       "        vertical-align: middle;\n",
       "    }\n",
       "\n",
       "    .dataframe tbody tr th {\n",
       "        vertical-align: top;\n",
       "    }\n",
       "\n",
       "    .dataframe thead th {\n",
       "        text-align: right;\n",
       "    }\n",
       "</style>\n",
       "<table border=\"1\" class=\"dataframe\">\n",
       "  <thead>\n",
       "    <tr style=\"text-align: right;\">\n",
       "      <th></th>\n",
       "      <th>user_id</th>\n",
       "      <th>order_counts</th>\n",
       "    </tr>\n",
       "  </thead>\n",
       "  <tbody>\n",
       "    <tr>\n",
       "      <th>0</th>\n",
       "      <td>50</td>\n",
       "      <td>1</td>\n",
       "    </tr>\n",
       "    <tr>\n",
       "      <th>3336</th>\n",
       "      <td>135881</td>\n",
       "      <td>1</td>\n",
       "    </tr>\n",
       "    <tr>\n",
       "      <th>3335</th>\n",
       "      <td>135743</td>\n",
       "      <td>1</td>\n",
       "    </tr>\n",
       "    <tr>\n",
       "      <th>3334</th>\n",
       "      <td>135718</td>\n",
       "      <td>1</td>\n",
       "    </tr>\n",
       "    <tr>\n",
       "      <th>3333</th>\n",
       "      <td>135687</td>\n",
       "      <td>1</td>\n",
       "    </tr>\n",
       "  </tbody>\n",
       "</table>\n",
       "</div>"
      ],
      "text/plain": [
       "      user_id  order_counts\n",
       "0          50             1\n",
       "3336   135881             1\n",
       "3335   135743             1\n",
       "3334   135718             1\n",
       "3333   135687             1"
      ]
     },
     "execution_count": 28,
     "metadata": {},
     "output_type": "execute_result"
    }
   ],
   "source": [
    "(orders[orders.user_id.isin(train_user_ids)][orders.eval_set == 'train']\n",
    "  .groupby(['user_id'], as_index=False)\n",
    "  .agg(OrderedDict([('order_number','count')]))\n",
    "  .rename(columns={'order_number':'order_counts'})).sort_values(by=['order_counts']).head()"
   ]
  },
  {
   "cell_type": "markdown",
   "metadata": {
    "id": "n_p53JF-Zvg5"
   },
   "source": [
    "in train dataset, one order per user"
   ]
  },
  {
   "cell_type": "markdown",
   "metadata": {
    "id": "8EvOYxI2ZnLb"
   },
   "source": [
    "### Validate the relative order of `order_num` in prior and train dataset"
   ]
  },
  {
   "cell_type": "code",
   "execution_count": 29,
   "metadata": {
    "id": "ysgXIoRXYMg7"
   },
   "outputs": [],
   "source": [
    "df_prior_order_max = (orders[orders.user_id.isin(train_user_ids)][orders.eval_set == 'prior']\n",
    "  .groupby(['user_id'], as_index=False)\n",
    "  .agg(OrderedDict([('order_number','max')]))\n",
    "  .rename(columns={'order_number':'prior_order_max'}))"
   ]
  },
  {
   "cell_type": "code",
   "execution_count": 30,
   "metadata": {
    "id": "9AtGyZ1fY_-l"
   },
   "outputs": [],
   "source": [
    "df_train_order_min = (orders[orders.user_id.isin(train_user_ids)][orders.eval_set == 'train']\n",
    "  .groupby(['user_id'], as_index=False)\n",
    "  .agg(OrderedDict([('order_number','min')]))\n",
    "  .rename(columns={'order_number':'train_order_min'}))"
   ]
  },
  {
   "cell_type": "code",
   "execution_count": 31,
   "metadata": {
    "colab": {
     "base_uri": "https://localhost:8080/"
    },
    "executionInfo": {
     "elapsed": 229,
     "status": "ok",
     "timestamp": 1612682854280,
     "user": {
      "displayName": "Miao Wang",
      "photoUrl": "https://lh3.googleusercontent.com/a-/AOh14Gj2gWD5z1xIFGC8PbqA3mioC1WHPE1LoZ59VJPh=s64",
      "userId": "16458771487930506212"
     },
     "user_tz": 480
    },
    "id": "hapw4jOqZ1-J",
    "outputId": "2cc55bb2-2154-4127-8a08-86a509df724c"
   },
   "outputs": [
    {
     "name": "stdout",
     "output_type": "stream",
     "text": [
      "Rows count where prior_order_max >= train_order_min:  0\n"
     ]
    }
   ],
   "source": [
    "df_order_diff = pd.merge(df_prior_order_max, df_train_order_min, on = ['user_id'])\n",
    "print(\"Rows count where prior_order_max >= train_order_min: \", \n",
    "      df_order_diff[df_order_diff.prior_order_max >= df_order_diff.train_order_min].shape[0])"
   ]
  },
  {
   "cell_type": "markdown",
   "metadata": {
    "id": "5tBYtyPlZ9FB"
   },
   "source": [
    "### Conclusion: prior data holds all historical data，the order_num in prior data are all smaller than the order_nums in train data for their respective users. "
   ]
  },
  {
   "cell_type": "code",
   "execution_count": null,
   "metadata": {},
   "outputs": [],
   "source": []
  }
 ],
 "metadata": {
  "colab": {
   "collapsed_sections": [],
   "name": "eCommerce Product Recommendation - Part 1.ipynb",
   "provenance": []
  },
  "kernelspec": {
   "display_name": "Python 3",
   "language": "python",
   "name": "python3"
  },
  "language_info": {
   "codemirror_mode": {
    "name": "ipython",
    "version": 3
   },
   "file_extension": ".py",
   "mimetype": "text/x-python",
   "name": "python",
   "nbconvert_exporter": "python",
   "pygments_lexer": "ipython3",
   "version": "3.8.8"
  }
 },
 "nbformat": 4,
 "nbformat_minor": 1
}
