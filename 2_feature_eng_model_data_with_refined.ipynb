{
 "cells": [
  {
   "cell_type": "markdown",
   "metadata": {
    "id": "jNjonBeoik-D"
   },
   "source": [
    "# eCommerce Product Recommendation - Part 2"
   ]
  },
  {
   "cell_type": "markdown",
   "metadata": {
    "id": "N6t0UrFailUu"
   },
   "source": [
    "# 1. Load Raw Data"
   ]
  },
  {
   "cell_type": "code",
   "execution_count": 1,
   "metadata": {
    "id": "z-2tmfYHbbk-"
   },
   "outputs": [],
   "source": [
    "import pandas as pd\n",
    "import numpy as np\n",
    "import pandas as pd\n",
    "import matplotlib.pyplot as plt\n",
    "import seaborn as sns\n",
    "from collections import OrderedDict\n",
    "sns.set()"
   ]
  },
  {
   "cell_type": "code",
   "execution_count": 2,
   "metadata": {
    "colab": {
     "base_uri": "https://localhost:8080/"
    },
    "executionInfo": {
     "elapsed": 18299,
     "status": "ok",
     "timestamp": 1612682913376,
     "user": {
      "displayName": "Miao Wang",
      "photoUrl": "https://lh3.googleusercontent.com/a-/AOh14Gj2gWD5z1xIFGC8PbqA3mioC1WHPE1LoZ59VJPh=s64",
      "userId": "16458771487930506212"
     },
     "user_tz": 480
    },
    "id": "w1gluoVYbi_e",
    "outputId": "c38f6001-e1f2-453a-8d2b-3209eb4837c1"
   },
   "outputs": [],
   "source": [
    "aisles = pd.read_csv(r'/Users/jichenxi/Documents/MGT_Group_Project/aisles.csv')\n",
    "departments = pd.read_csv(r'/Users/jichenxi/Documents/MGT_Group_Project/departments.csv')\n",
    "order_products_prior = pd.read_csv(r'/Users/jichenxi/Documents/MGT_Group_Project/order_products_prior.csv')\n",
    "order_products_train = pd.read_csv(r'/Users/jichenxi/Documents/MGT_Group_Project/order_products_train.csv')\n",
    "orders = pd.read_csv(r'/Users/jichenxi/Documents/MGT_Group_Project/orders.csv')\n",
    "products = pd.read_csv(r'/Users/jichenxi/Documents/MGT_Group_Project/products.csv')\n",
    "#all_data = pd.read_csv('all_data.csv')\n",
    "\n",
    "#data description: https://gist.github.com/jeremystan/c3b39d947d9b88b3ccff3147dbcf6c6b\n"
   ]
  },
  {
   "cell_type": "code",
   "execution_count": 116,
   "metadata": {},
   "outputs": [
    {
     "name": "stdout",
     "output_type": "stream",
     "text": [
      "(134, 2)\n",
      "(21, 2)\n",
      "(793924, 4)\n",
      "(53704, 4)\n",
      "(82683, 7)\n",
      "(49688, 4)\n"
     ]
    }
   ],
   "source": [
    "print(aisles.shape)\n",
    "print(departments.shape)\n",
    "print(order_products_prior.shape)\n",
    "print(order_products_train.shape)\n",
    "print(orders.shape)\n",
    "print(products.shape)"
   ]
  },
  {
   "cell_type": "markdown",
   "metadata": {
    "id": "_UR9aj6ZbroG"
   },
   "source": [
    "# Construct Model Label"
   ]
  },
  {
   "cell_type": "markdown",
   "metadata": {
    "id": "oJe4HJI7eeqb"
   },
   "source": [
    "cant't use `reordered`column data as model label\n",
    "\n",
    "\n"
   ]
  },
  {
   "cell_type": "code",
   "execution_count": 131,
   "metadata": {
    "id": "u4nORjO2bmmS"
   },
   "outputs": [],
   "source": [
    "#merge order details with training data using order_id\n",
    "#get each product id, associated order id and training details\n",
    "train_details = order_products_train.merge(orders, on = 'order_id')\n",
    "\n",
    "#get all unique training user_ids\n",
    "train_user_ids = set(orders[orders['eval_set'] == 'train']['user_id'])\n",
    "\n",
    "#contruct unique key for each user_id-product_id entry\n",
    "train_unique_key = train_details['user_id'].astype('str') + '_' + train_details['product_id'].astype('str')"
   ]
  },
  {
   "cell_type": "code",
   "execution_count": 133,
   "metadata": {},
   "outputs": [],
   "source": [
    "#train_details"
   ]
  },
  {
   "cell_type": "code",
   "execution_count": 134,
   "metadata": {},
   "outputs": [
    {
     "data": {
      "text/plain": [
       "0    173934_13176\n",
       "1    173934_39922\n",
       "2     173934_5258\n",
       "3    173934_21137\n",
       "4     129386_6046\n",
       "dtype: object"
      ]
     },
     "execution_count": 134,
     "metadata": {},
     "output_type": "execute_result"
    }
   ],
   "source": [
    "train_unique_key.head()"
   ]
  },
  {
   "cell_type": "code",
   "execution_count": 135,
   "metadata": {
    "id": "qPISE4brcJ4z"
   },
   "outputs": [],
   "source": [
    "#merge order details with prior order data using order_id\n",
    "#get each product id, associated order id and prior order details\n",
    "prior_details = order_products_prior.merge(orders, on = 'order_id')"
   ]
  },
  {
   "cell_type": "code",
   "execution_count": 136,
   "metadata": {
    "scrolled": true
   },
   "outputs": [],
   "source": [
    "#prior_details.head()"
   ]
  },
  {
   "cell_type": "code",
   "execution_count": 137,
   "metadata": {},
   "outputs": [],
   "source": [
    "model_all_data = prior_details[prior_details.user_id.isin(train_user_ids)][['user_id','product_id','order_number', 'order_dow', 'order_hour_of_day', 'days_since_prior_order']]\n"
   ]
  },
  {
   "cell_type": "code",
   "execution_count": 138,
   "metadata": {
    "id": "YxOd4fQWcmXM"
   },
   "outputs": [],
   "source": [
    "#get all data, including training and prior\n",
    "model_all_data = prior_details[prior_details.user_id.isin(train_user_ids)][['user_id','product_id','order_number', 'order_dow', 'order_hour_of_day', 'days_since_prior_order']]\n",
    "\n",
    "\n",
    "#in model_all_data，should be only one user - product unique ntry\n",
    "model_all_data = model_all_data.drop_duplicates(subset=['user_id', 'product_id'])\n",
    "#construct unique key \n",
    "model_all_data['unique_key'] = model_all_data['user_id'].astype('str') + '_' + model_all_data['product_id'].astype('str')"
   ]
  },
  {
   "cell_type": "code",
   "execution_count": 139,
   "metadata": {},
   "outputs": [
    {
     "data": {
      "text/html": [
       "<div>\n",
       "<style scoped>\n",
       "    .dataframe tbody tr th:only-of-type {\n",
       "        vertical-align: middle;\n",
       "    }\n",
       "\n",
       "    .dataframe tbody tr th {\n",
       "        vertical-align: top;\n",
       "    }\n",
       "\n",
       "    .dataframe thead th {\n",
       "        text-align: right;\n",
       "    }\n",
       "</style>\n",
       "<table border=\"1\" class=\"dataframe\">\n",
       "  <thead>\n",
       "    <tr style=\"text-align: right;\">\n",
       "      <th></th>\n",
       "      <th>user_id</th>\n",
       "      <th>product_id</th>\n",
       "      <th>order_number</th>\n",
       "      <th>order_dow</th>\n",
       "      <th>order_hour_of_day</th>\n",
       "      <th>days_since_prior_order</th>\n",
       "      <th>unique_key</th>\n",
       "    </tr>\n",
       "  </thead>\n",
       "  <tbody>\n",
       "    <tr>\n",
       "      <th>0</th>\n",
       "      <td>152610</td>\n",
       "      <td>30597</td>\n",
       "      <td>22</td>\n",
       "      <td>6</td>\n",
       "      <td>8</td>\n",
       "      <td>10.0</td>\n",
       "      <td>152610_30597</td>\n",
       "    </tr>\n",
       "    <tr>\n",
       "      <th>1</th>\n",
       "      <td>152610</td>\n",
       "      <td>15221</td>\n",
       "      <td>22</td>\n",
       "      <td>6</td>\n",
       "      <td>8</td>\n",
       "      <td>10.0</td>\n",
       "      <td>152610_15221</td>\n",
       "    </tr>\n",
       "    <tr>\n",
       "      <th>2</th>\n",
       "      <td>152610</td>\n",
       "      <td>43772</td>\n",
       "      <td>22</td>\n",
       "      <td>6</td>\n",
       "      <td>8</td>\n",
       "      <td>10.0</td>\n",
       "      <td>152610_43772</td>\n",
       "    </tr>\n",
       "    <tr>\n",
       "      <th>3</th>\n",
       "      <td>152610</td>\n",
       "      <td>37886</td>\n",
       "      <td>22</td>\n",
       "      <td>6</td>\n",
       "      <td>8</td>\n",
       "      <td>10.0</td>\n",
       "      <td>152610_37886</td>\n",
       "    </tr>\n",
       "    <tr>\n",
       "      <th>4</th>\n",
       "      <td>152610</td>\n",
       "      <td>37215</td>\n",
       "      <td>22</td>\n",
       "      <td>6</td>\n",
       "      <td>8</td>\n",
       "      <td>10.0</td>\n",
       "      <td>152610_37215</td>\n",
       "    </tr>\n",
       "  </tbody>\n",
       "</table>\n",
       "</div>"
      ],
      "text/plain": [
       "   user_id  product_id  order_number  order_dow  order_hour_of_day  \\\n",
       "0   152610       30597            22          6                  8   \n",
       "1   152610       15221            22          6                  8   \n",
       "2   152610       43772            22          6                  8   \n",
       "3   152610       37886            22          6                  8   \n",
       "4   152610       37215            22          6                  8   \n",
       "\n",
       "   days_since_prior_order    unique_key  \n",
       "0                    10.0  152610_30597  \n",
       "1                    10.0  152610_15221  \n",
       "2                    10.0  152610_43772  \n",
       "3                    10.0  152610_37886  \n",
       "4                    10.0  152610_37215  "
      ]
     },
     "execution_count": 139,
     "metadata": {},
     "output_type": "execute_result"
    }
   ],
   "source": [
    "model_all_data.head()"
   ]
  },
  {
   "cell_type": "code",
   "execution_count": 140,
   "metadata": {},
   "outputs": [
    {
     "data": {
      "text/plain": [
       "(329806, 7)"
      ]
     },
     "execution_count": 140,
     "metadata": {},
     "output_type": "execute_result"
    }
   ],
   "source": [
    "model_all_data.shape"
   ]
  },
  {
   "cell_type": "code",
   "execution_count": 141,
   "metadata": {
    "id": "pzl8oumKc6VJ"
   },
   "outputs": [],
   "source": [
    "#set all defalu label value to 0\n",
    "model_all_data['label'] = 0\n",
    "\n",
    "# get all training data entries and set label value to 1\n",
    "model_all_data.loc[model_all_data.unique_key.isin(train_unique_key), 'label'] = 1"
   ]
  },
  {
   "cell_type": "code",
   "execution_count": 142,
   "metadata": {
    "colab": {
     "base_uri": "https://localhost:8080/",
     "height": 204
    },
    "executionInfo": {
     "elapsed": 1550,
     "status": "ok",
     "timestamp": 1612682945927,
     "user": {
      "displayName": "Miao Wang",
      "photoUrl": "https://lh3.googleusercontent.com/a-/AOh14Gj2gWD5z1xIFGC8PbqA3mioC1WHPE1LoZ59VJPh=s64",
      "userId": "16458771487930506212"
     },
     "user_tz": 480
    },
    "id": "sosQgc7hc2pK",
    "outputId": "25477de7-20f7-4d6a-a6e0-5cfd3103c384"
   },
   "outputs": [
    {
     "data": {
      "text/html": [
       "<div>\n",
       "<style scoped>\n",
       "    .dataframe tbody tr th:only-of-type {\n",
       "        vertical-align: middle;\n",
       "    }\n",
       "\n",
       "    .dataframe tbody tr th {\n",
       "        vertical-align: top;\n",
       "    }\n",
       "\n",
       "    .dataframe thead th {\n",
       "        text-align: right;\n",
       "    }\n",
       "</style>\n",
       "<table border=\"1\" class=\"dataframe\">\n",
       "  <thead>\n",
       "    <tr style=\"text-align: right;\">\n",
       "      <th></th>\n",
       "      <th>user_id</th>\n",
       "      <th>product_id</th>\n",
       "      <th>order_number</th>\n",
       "      <th>order_dow</th>\n",
       "      <th>order_hour_of_day</th>\n",
       "      <th>days_since_prior_order</th>\n",
       "      <th>unique_key</th>\n",
       "      <th>label</th>\n",
       "    </tr>\n",
       "  </thead>\n",
       "  <tbody>\n",
       "    <tr>\n",
       "      <th>0</th>\n",
       "      <td>152610</td>\n",
       "      <td>30597</td>\n",
       "      <td>22</td>\n",
       "      <td>6</td>\n",
       "      <td>8</td>\n",
       "      <td>10.0</td>\n",
       "      <td>152610_30597</td>\n",
       "      <td>0</td>\n",
       "    </tr>\n",
       "    <tr>\n",
       "      <th>1</th>\n",
       "      <td>152610</td>\n",
       "      <td>15221</td>\n",
       "      <td>22</td>\n",
       "      <td>6</td>\n",
       "      <td>8</td>\n",
       "      <td>10.0</td>\n",
       "      <td>152610_15221</td>\n",
       "      <td>0</td>\n",
       "    </tr>\n",
       "    <tr>\n",
       "      <th>2</th>\n",
       "      <td>152610</td>\n",
       "      <td>43772</td>\n",
       "      <td>22</td>\n",
       "      <td>6</td>\n",
       "      <td>8</td>\n",
       "      <td>10.0</td>\n",
       "      <td>152610_43772</td>\n",
       "      <td>0</td>\n",
       "    </tr>\n",
       "    <tr>\n",
       "      <th>3</th>\n",
       "      <td>152610</td>\n",
       "      <td>37886</td>\n",
       "      <td>22</td>\n",
       "      <td>6</td>\n",
       "      <td>8</td>\n",
       "      <td>10.0</td>\n",
       "      <td>152610_37886</td>\n",
       "      <td>0</td>\n",
       "    </tr>\n",
       "    <tr>\n",
       "      <th>4</th>\n",
       "      <td>152610</td>\n",
       "      <td>37215</td>\n",
       "      <td>22</td>\n",
       "      <td>6</td>\n",
       "      <td>8</td>\n",
       "      <td>10.0</td>\n",
       "      <td>152610_37215</td>\n",
       "      <td>0</td>\n",
       "    </tr>\n",
       "  </tbody>\n",
       "</table>\n",
       "</div>"
      ],
      "text/plain": [
       "   user_id  product_id  order_number  order_dow  order_hour_of_day  \\\n",
       "0   152610       30597            22          6                  8   \n",
       "1   152610       15221            22          6                  8   \n",
       "2   152610       43772            22          6                  8   \n",
       "3   152610       37886            22          6                  8   \n",
       "4   152610       37215            22          6                  8   \n",
       "\n",
       "   days_since_prior_order    unique_key  label  \n",
       "0                    10.0  152610_30597      0  \n",
       "1                    10.0  152610_15221      0  \n",
       "2                    10.0  152610_43772      0  \n",
       "3                    10.0  152610_37886      0  \n",
       "4                    10.0  152610_37215      0  "
      ]
     },
     "execution_count": 142,
     "metadata": {},
     "output_type": "execute_result"
    }
   ],
   "source": [
    "model_all_data.head()"
   ]
  },
  {
   "cell_type": "code",
   "execution_count": 143,
   "metadata": {},
   "outputs": [
    {
     "data": {
      "text/plain": [
       "(329806, 8)"
      ]
     },
     "execution_count": 143,
     "metadata": {},
     "output_type": "execute_result"
    }
   ],
   "source": [
    "model_all_data.shape"
   ]
  },
  {
   "cell_type": "markdown",
   "metadata": {
    "id": "S5V5nnohhamI"
   },
   "source": [
    "# Construct Model Features"
   ]
  },
  {
   "cell_type": "markdown",
   "metadata": {
    "id": "Ynt4wNvThn_b"
   },
   "source": [
    "### Feature Group 1: user-product activity features\n",
    "* unique to each user-product pair"
   ]
  },
  {
   "cell_type": "code",
   "execution_count": 144,
   "metadata": {
    "id": "2mzONOBCjdOI"
   },
   "outputs": [],
   "source": [
    "#construct df headers using feature names\n",
    "user_product_features = ['user_product__total_orders',\n",
    "                         'user_product__add_to_cart_order_mean',\n",
    "                         'user_product__reordered_mean',\n",
    "                         'user_product__most_dow',\n",
    "                         'user_product__most_hod']"
   ]
  },
  {
   "cell_type": "markdown",
   "metadata": {},
   "source": [
    "Construct features to each datapoint with aggregations.\n",
    "\n",
    "For example, for each user-product datapoint: \n",
    "* count of all order_ids that this user had purchased this product. \n",
    "* the mean add_to_cart_order that this user has added this product to the cart\n",
    "* the mean of if this product is reordered by this user\n",
    "* the most ordered day of week that this user to this product\n",
    "* the most ordered hour of day that this user to this product"
   ]
  },
  {
   "cell_type": "code",
   "execution_count": 145,
   "metadata": {
    "id": "tW7W1Jbzf3S3"
   },
   "outputs": [],
   "source": [
    "# expect 2mins execution\n",
    "df_user_product_features = (prior_details.groupby(['product_id','user_id'],as_index=False) \n",
    "                                           .agg(OrderedDict(\n",
    "                                                   [('order_id','count'), \n",
    "                                                    ('add_to_cart_order','mean'), \n",
    "                                                    ('reordered', 'mean'), \n",
    "                                                    ('order_dow', (lambda x: x.mode()[0])), #dow that this user purchased most of this product\n",
    "                                                    ('order_hour_of_day', (lambda x: x.mode()[0])), #hod that this user purchased most of this product\n",
    "                                                    ])))\n",
    "df_user_product_features.columns = ['product_id', 'user_id'] + user_product_features"
   ]
  },
  {
   "cell_type": "code",
   "execution_count": 146,
   "metadata": {},
   "outputs": [
    {
     "data": {
      "text/html": [
       "<div>\n",
       "<style scoped>\n",
       "    .dataframe tbody tr th:only-of-type {\n",
       "        vertical-align: middle;\n",
       "    }\n",
       "\n",
       "    .dataframe tbody tr th {\n",
       "        vertical-align: top;\n",
       "    }\n",
       "\n",
       "    .dataframe thead th {\n",
       "        text-align: right;\n",
       "    }\n",
       "</style>\n",
       "<table border=\"1\" class=\"dataframe\">\n",
       "  <thead>\n",
       "    <tr style=\"text-align: right;\">\n",
       "      <th></th>\n",
       "      <th>product_id</th>\n",
       "      <th>user_id</th>\n",
       "      <th>user_product__total_orders</th>\n",
       "      <th>user_product__add_to_cart_order_mean</th>\n",
       "      <th>user_product__reordered_mean</th>\n",
       "      <th>user_product__most_dow</th>\n",
       "      <th>user_product__most_hod</th>\n",
       "    </tr>\n",
       "  </thead>\n",
       "  <tbody>\n",
       "    <tr>\n",
       "      <th>0</th>\n",
       "      <td>1</td>\n",
       "      <td>21285</td>\n",
       "      <td>1</td>\n",
       "      <td>3.0</td>\n",
       "      <td>0.00</td>\n",
       "      <td>0</td>\n",
       "      <td>15</td>\n",
       "    </tr>\n",
       "    <tr>\n",
       "      <th>1</th>\n",
       "      <td>1</td>\n",
       "      <td>47549</td>\n",
       "      <td>4</td>\n",
       "      <td>4.0</td>\n",
       "      <td>0.75</td>\n",
       "      <td>2</td>\n",
       "      <td>14</td>\n",
       "    </tr>\n",
       "    <tr>\n",
       "      <th>2</th>\n",
       "      <td>1</td>\n",
       "      <td>54136</td>\n",
       "      <td>1</td>\n",
       "      <td>3.0</td>\n",
       "      <td>0.00</td>\n",
       "      <td>2</td>\n",
       "      <td>13</td>\n",
       "    </tr>\n",
       "    <tr>\n",
       "      <th>3</th>\n",
       "      <td>1</td>\n",
       "      <td>54240</td>\n",
       "      <td>1</td>\n",
       "      <td>2.0</td>\n",
       "      <td>0.00</td>\n",
       "      <td>2</td>\n",
       "      <td>16</td>\n",
       "    </tr>\n",
       "    <tr>\n",
       "      <th>4</th>\n",
       "      <td>1</td>\n",
       "      <td>95730</td>\n",
       "      <td>1</td>\n",
       "      <td>1.0</td>\n",
       "      <td>0.00</td>\n",
       "      <td>1</td>\n",
       "      <td>14</td>\n",
       "    </tr>\n",
       "  </tbody>\n",
       "</table>\n",
       "</div>"
      ],
      "text/plain": [
       "   product_id  user_id  user_product__total_orders  \\\n",
       "0           1    21285                           1   \n",
       "1           1    47549                           4   \n",
       "2           1    54136                           1   \n",
       "3           1    54240                           1   \n",
       "4           1    95730                           1   \n",
       "\n",
       "   user_product__add_to_cart_order_mean  user_product__reordered_mean  \\\n",
       "0                                   3.0                          0.00   \n",
       "1                                   4.0                          0.75   \n",
       "2                                   3.0                          0.00   \n",
       "3                                   2.0                          0.00   \n",
       "4                                   1.0                          0.00   \n",
       "\n",
       "   user_product__most_dow  user_product__most_hod  \n",
       "0                       0                      15  \n",
       "1                       2                      14  \n",
       "2                       2                      13  \n",
       "3                       2                      16  \n",
       "4                       1                      14  "
      ]
     },
     "execution_count": 146,
     "metadata": {},
     "output_type": "execute_result"
    }
   ],
   "source": [
    "df_user_product_features.head()"
   ]
  },
  {
   "cell_type": "code",
   "execution_count": 147,
   "metadata": {
    "id": "KrIZaHbViyef"
   },
   "outputs": [],
   "source": [
    "#merge features results with model data\n",
    "model_all_data = model_all_data.merge(df_user_product_features, on = ['user_id', 'product_id'])"
   ]
  },
  {
   "cell_type": "code",
   "execution_count": 149,
   "metadata": {},
   "outputs": [
    {
     "data": {
      "text/plain": [
       "(329806, 13)"
      ]
     },
     "execution_count": 149,
     "metadata": {},
     "output_type": "execute_result"
    }
   ],
   "source": [
    "model_all_data.shape"
   ]
  },
  {
   "cell_type": "markdown",
   "metadata": {
    "id": "Mg9gvZOwjoYv"
   },
   "source": [
    "### Feature Group 2: product features"
   ]
  },
  {
   "cell_type": "markdown",
   "metadata": {
    "id": "azmXTfh5k6vg"
   },
   "source": [
    "**2 types of product features:**\n",
    "* product features based on user behavior\n",
    "* product own info as feature"
   ]
  },
  {
   "cell_type": "code",
   "execution_count": 150,
   "metadata": {
    "id": "bvJG0KOijvnY"
   },
   "outputs": [],
   "source": [
    "#construct df headers using feature names\n",
    "product_features = ['product__total_orders',\n",
    "                     'product__add_to_cart_order_mean',\n",
    "                     'product__total_users',\n",
    "                     'product__reordered_mean',\n",
    "                     'product__most_dow',\n",
    "                     'product__most_hod',\n",
    "                     'product__days_since_prior_order_mean'\n",
    "                     ]"
   ]
  },
  {
   "cell_type": "code",
   "execution_count": 151,
   "metadata": {
    "id": "CxpLZS1rjmOO"
   },
   "outputs": [],
   "source": [
    "# construct features to each datapoint (with some aggregations)\n",
    "df_product_features = (prior_details.groupby(['product_id'],as_index=False)\n",
    "                                           .agg(OrderedDict(\n",
    "                                                   [('order_id','nunique'), \n",
    "                                                    ('add_to_cart_order','mean'), \n",
    "                                                    ('user_id', 'nunique'), \n",
    "                                                    ('reordered', 'mean'), \n",
    "                                                    ('order_dow', (lambda x: x.mode()[0])),\n",
    "                                                    ('order_hour_of_day', (lambda x: x.mode()[0])),\n",
    "                                                    ('days_since_prior_order', 'mean') \n",
    "                                                    ])))\n",
    "df_product_features.columns = ['product_id'] + product_features"
   ]
  },
  {
   "cell_type": "code",
   "execution_count": 152,
   "metadata": {
    "id": "JEXmptKsjy2x"
   },
   "outputs": [],
   "source": [
    "#merge all product features to model all data\n",
    "model_all_data = model_all_data.merge(df_product_features, on = ['product_id'])"
   ]
  },
  {
   "cell_type": "code",
   "execution_count": 153,
   "metadata": {
    "id": "5b5OoX8BkRKo"
   },
   "outputs": [],
   "source": [
    "#merge with product aisle, department info\n",
    "model_all_data = model_all_data.merge(products[['product_id','aisle_id', 'department_id']], \n",
    "                                      on = ['product_id'])"
   ]
  },
  {
   "cell_type": "code",
   "execution_count": 154,
   "metadata": {
    "id": "bfnitaIjkQ_J"
   },
   "outputs": [],
   "source": [
    "#rename col names\n",
    "model_all_data.rename(columns={'aisle_id': 'product__aisle_id',\\\n",
    "                               'department_id': 'product__department_id'}, inplace=True)"
   ]
  },
  {
   "cell_type": "code",
   "execution_count": null,
   "metadata": {},
   "outputs": [],
   "source": []
  },
  {
   "cell_type": "markdown",
   "metadata": {
    "id": "ZUAVK8fQlZQr"
   },
   "source": [
    "**potentially: NLP on product name/aisle and tokenization, and then add to product feature list **"
   ]
  },
  {
   "cell_type": "markdown",
   "metadata": {
    "id": "CMA42sTBj48r"
   },
   "source": [
    "### Feature Group 3: user features\n",
    "* user's activity across all products"
   ]
  },
  {
   "cell_type": "code",
   "execution_count": 155,
   "metadata": {
    "id": "ChBV0KvQj81n"
   },
   "outputs": [],
   "source": [
    "#construct df headers\n",
    "user_features = ['user__order_count',\n",
    "                  'user__product_count',\n",
    "                  'user__days_since_prior_order_mean',\n",
    "                  'user__reordered_mean',\n",
    "                  'user__most_dow',\n",
    "                  'user__most_hod',\n",
    "                  ]"
   ]
  },
  {
   "cell_type": "code",
   "execution_count": 156,
   "metadata": {
    "id": "tkoz8vQTj13b"
   },
   "outputs": [],
   "source": [
    "# construct df of user features with aggregated values on user level \n",
    "df_user_features = (prior_details.groupby(['user_id'],as_index=False)\n",
    "                                           .agg(OrderedDict(\n",
    "                                                   [('order_id','nunique'), \n",
    "                                                    ('product_id','count'), \n",
    "                                                    ('days_since_prior_order','mean'),\n",
    "                                                    ('reordered', 'mean'), \n",
    "                                                    ('order_dow', (lambda x: x.mode()[0])), \n",
    "                                                    ('order_hour_of_day', (lambda x: x.mode()[0])),\n",
    "                                                    ])))\n",
    "df_user_features.columns = ['user_id'] + user_features"
   ]
  },
  {
   "cell_type": "code",
   "execution_count": 157,
   "metadata": {
    "id": "IF9nqswNkAnQ"
   },
   "outputs": [],
   "source": [
    "#merge user feature info to model all data\n",
    "model_all_data = model_all_data.merge(df_user_features, on = ['user_id'])"
   ]
  },
  {
   "cell_type": "code",
   "execution_count": 162,
   "metadata": {},
   "outputs": [
    {
     "data": {
      "text/html": [
       "<div>\n",
       "<style scoped>\n",
       "    .dataframe tbody tr th:only-of-type {\n",
       "        vertical-align: middle;\n",
       "    }\n",
       "\n",
       "    .dataframe tbody tr th {\n",
       "        vertical-align: top;\n",
       "    }\n",
       "\n",
       "    .dataframe thead th {\n",
       "        text-align: right;\n",
       "    }\n",
       "</style>\n",
       "<table border=\"1\" class=\"dataframe\">\n",
       "  <thead>\n",
       "    <tr style=\"text-align: right;\">\n",
       "      <th></th>\n",
       "      <th>user_id</th>\n",
       "      <th>product_id</th>\n",
       "      <th>order_number</th>\n",
       "      <th>order_dow</th>\n",
       "      <th>order_hour_of_day</th>\n",
       "      <th>days_since_prior_order</th>\n",
       "      <th>unique_key</th>\n",
       "      <th>label</th>\n",
       "      <th>user_product__total_orders</th>\n",
       "      <th>user_product__add_to_cart_order_mean</th>\n",
       "      <th>...</th>\n",
       "      <th>product__most_hod</th>\n",
       "      <th>product__days_since_prior_order_mean</th>\n",
       "      <th>product__aisle_id</th>\n",
       "      <th>product__department_id</th>\n",
       "      <th>user__order_count</th>\n",
       "      <th>user__product_count</th>\n",
       "      <th>user__days_since_prior_order_mean</th>\n",
       "      <th>user__reordered_mean</th>\n",
       "      <th>user__most_dow</th>\n",
       "      <th>user__most_hod</th>\n",
       "    </tr>\n",
       "  </thead>\n",
       "  <tbody>\n",
       "    <tr>\n",
       "      <th>0</th>\n",
       "      <td>152610</td>\n",
       "      <td>30597</td>\n",
       "      <td>22</td>\n",
       "      <td>6</td>\n",
       "      <td>8</td>\n",
       "      <td>10.0</td>\n",
       "      <td>152610_30597</td>\n",
       "      <td>0</td>\n",
       "      <td>5</td>\n",
       "      <td>2.00</td>\n",
       "      <td>...</td>\n",
       "      <td>9</td>\n",
       "      <td>12.592593</td>\n",
       "      <td>53</td>\n",
       "      <td>16</td>\n",
       "      <td>26</td>\n",
       "      <td>408</td>\n",
       "      <td>10.953804</td>\n",
       "      <td>0.375</td>\n",
       "      <td>6</td>\n",
       "      <td>12</td>\n",
       "    </tr>\n",
       "    <tr>\n",
       "      <th>1</th>\n",
       "      <td>152610</td>\n",
       "      <td>15221</td>\n",
       "      <td>22</td>\n",
       "      <td>6</td>\n",
       "      <td>8</td>\n",
       "      <td>10.0</td>\n",
       "      <td>152610_15221</td>\n",
       "      <td>0</td>\n",
       "      <td>8</td>\n",
       "      <td>8.25</td>\n",
       "      <td>...</td>\n",
       "      <td>12</td>\n",
       "      <td>13.653846</td>\n",
       "      <td>84</td>\n",
       "      <td>16</td>\n",
       "      <td>26</td>\n",
       "      <td>408</td>\n",
       "      <td>10.953804</td>\n",
       "      <td>0.375</td>\n",
       "      <td>6</td>\n",
       "      <td>12</td>\n",
       "    </tr>\n",
       "    <tr>\n",
       "      <th>2</th>\n",
       "      <td>152610</td>\n",
       "      <td>43772</td>\n",
       "      <td>22</td>\n",
       "      <td>6</td>\n",
       "      <td>8</td>\n",
       "      <td>10.0</td>\n",
       "      <td>152610_43772</td>\n",
       "      <td>0</td>\n",
       "      <td>2</td>\n",
       "      <td>3.00</td>\n",
       "      <td>...</td>\n",
       "      <td>12</td>\n",
       "      <td>12.008565</td>\n",
       "      <td>83</td>\n",
       "      <td>4</td>\n",
       "      <td>26</td>\n",
       "      <td>408</td>\n",
       "      <td>10.953804</td>\n",
       "      <td>0.375</td>\n",
       "      <td>6</td>\n",
       "      <td>12</td>\n",
       "    </tr>\n",
       "    <tr>\n",
       "      <th>3</th>\n",
       "      <td>152610</td>\n",
       "      <td>37886</td>\n",
       "      <td>22</td>\n",
       "      <td>6</td>\n",
       "      <td>8</td>\n",
       "      <td>10.0</td>\n",
       "      <td>152610_37886</td>\n",
       "      <td>0</td>\n",
       "      <td>2</td>\n",
       "      <td>3.50</td>\n",
       "      <td>...</td>\n",
       "      <td>14</td>\n",
       "      <td>11.489362</td>\n",
       "      <td>53</td>\n",
       "      <td>16</td>\n",
       "      <td>26</td>\n",
       "      <td>408</td>\n",
       "      <td>10.953804</td>\n",
       "      <td>0.375</td>\n",
       "      <td>6</td>\n",
       "      <td>12</td>\n",
       "    </tr>\n",
       "    <tr>\n",
       "      <th>4</th>\n",
       "      <td>152610</td>\n",
       "      <td>37215</td>\n",
       "      <td>22</td>\n",
       "      <td>6</td>\n",
       "      <td>8</td>\n",
       "      <td>10.0</td>\n",
       "      <td>152610_37215</td>\n",
       "      <td>0</td>\n",
       "      <td>1</td>\n",
       "      <td>5.00</td>\n",
       "      <td>...</td>\n",
       "      <td>13</td>\n",
       "      <td>11.490066</td>\n",
       "      <td>98</td>\n",
       "      <td>7</td>\n",
       "      <td>26</td>\n",
       "      <td>408</td>\n",
       "      <td>10.953804</td>\n",
       "      <td>0.375</td>\n",
       "      <td>6</td>\n",
       "      <td>12</td>\n",
       "    </tr>\n",
       "  </tbody>\n",
       "</table>\n",
       "<p>5 rows × 28 columns</p>\n",
       "</div>"
      ],
      "text/plain": [
       "   user_id  product_id  order_number  order_dow  order_hour_of_day  \\\n",
       "0   152610       30597            22          6                  8   \n",
       "1   152610       15221            22          6                  8   \n",
       "2   152610       43772            22          6                  8   \n",
       "3   152610       37886            22          6                  8   \n",
       "4   152610       37215            22          6                  8   \n",
       "\n",
       "   days_since_prior_order    unique_key  label  user_product__total_orders  \\\n",
       "0                    10.0  152610_30597      0                           5   \n",
       "1                    10.0  152610_15221      0                           8   \n",
       "2                    10.0  152610_43772      0                           2   \n",
       "3                    10.0  152610_37886      0                           2   \n",
       "4                    10.0  152610_37215      0                           1   \n",
       "\n",
       "   user_product__add_to_cart_order_mean  ...  product__most_hod  \\\n",
       "0                                  2.00  ...                  9   \n",
       "1                                  8.25  ...                 12   \n",
       "2                                  3.00  ...                 12   \n",
       "3                                  3.50  ...                 14   \n",
       "4                                  5.00  ...                 13   \n",
       "\n",
       "   product__days_since_prior_order_mean  product__aisle_id  \\\n",
       "0                             12.592593                 53   \n",
       "1                             13.653846                 84   \n",
       "2                             12.008565                 83   \n",
       "3                             11.489362                 53   \n",
       "4                             11.490066                 98   \n",
       "\n",
       "   product__department_id  user__order_count  user__product_count  \\\n",
       "0                      16                 26                  408   \n",
       "1                      16                 26                  408   \n",
       "2                       4                 26                  408   \n",
       "3                      16                 26                  408   \n",
       "4                       7                 26                  408   \n",
       "\n",
       "   user__days_since_prior_order_mean  user__reordered_mean  user__most_dow  \\\n",
       "0                          10.953804                 0.375               6   \n",
       "1                          10.953804                 0.375               6   \n",
       "2                          10.953804                 0.375               6   \n",
       "3                          10.953804                 0.375               6   \n",
       "4                          10.953804                 0.375               6   \n",
       "\n",
       "   user__most_hod  \n",
       "0              12  \n",
       "1              12  \n",
       "2              12  \n",
       "3              12  \n",
       "4              12  \n",
       "\n",
       "[5 rows x 28 columns]"
      ]
     },
     "execution_count": 162,
     "metadata": {},
     "output_type": "execute_result"
    }
   ],
   "source": [
    "model_all_data.head()"
   ]
  },
  {
   "cell_type": "code",
   "execution_count": 160,
   "metadata": {
    "colab": {
     "base_uri": "https://localhost:8080/"
    },
    "executionInfo": {
     "elapsed": 540,
     "status": "ok",
     "timestamp": 1612683068820,
     "user": {
      "displayName": "Miao Wang",
      "photoUrl": "https://lh3.googleusercontent.com/a-/AOh14Gj2gWD5z1xIFGC8PbqA3mioC1WHPE1LoZ59VJPh=s64",
      "userId": "16458771487930506212"
     },
     "user_tz": 480
    },
    "id": "pVrKHIl9kGJY",
    "outputId": "e717057a-5e41-4c6d-8b5e-e7608d37ff4f"
   },
   "outputs": [
    {
     "data": {
      "text/plain": [
       "0    297467\n",
       "1     32339\n",
       "Name: label, dtype: int64"
      ]
     },
     "execution_count": 160,
     "metadata": {},
     "output_type": "execute_result"
    }
   ],
   "source": [
    "model_all_data['label'].value_counts()"
   ]
  },
  {
   "cell_type": "code",
   "execution_count": 161,
   "metadata": {
    "colab": {
     "base_uri": "https://localhost:8080/"
    },
    "executionInfo": {
     "elapsed": 1128,
     "status": "ok",
     "timestamp": 1612683070566,
     "user": {
      "displayName": "Miao Wang",
      "photoUrl": "https://lh3.googleusercontent.com/a-/AOh14Gj2gWD5z1xIFGC8PbqA3mioC1WHPE1LoZ59VJPh=s64",
      "userId": "16458771487930506212"
     },
     "user_tz": 480
    },
    "id": "DiGC2snmk0Om",
    "outputId": "00df0b69-7800-4bc9-81ba-eaaf2ada883c"
   },
   "outputs": [
    {
     "data": {
      "text/plain": [
       "(329806, 28)"
      ]
     },
     "execution_count": 161,
     "metadata": {},
     "output_type": "execute_result"
    }
   ],
   "source": [
    "model_all_data.shape"
   ]
  },
  {
   "cell_type": "code",
   "execution_count": 163,
   "metadata": {
    "id": "01LkhHJ2m7WR"
   },
   "outputs": [],
   "source": [
    "# Save the model_all_data dataframe as csv file to the file path we selected above.\n",
    "model_all_data.to_csv('model_all_data.csv', index=False)"
   ]
  },
  {
   "cell_type": "code",
   "execution_count": null,
   "metadata": {},
   "outputs": [],
   "source": []
  },
  {
   "cell_type": "code",
   "execution_count": null,
   "metadata": {},
   "outputs": [],
   "source": []
  },
  {
   "cell_type": "code",
   "execution_count": null,
   "metadata": {},
   "outputs": [],
   "source": []
  }
 ],
 "metadata": {
  "colab": {
   "collapsed_sections": [],
   "name": "eCommerce Product Recommendation - Part 2.ipynb",
   "provenance": []
  },
  "kernelspec": {
   "display_name": "Python 3.10.0 ('aex')",
   "language": "python",
   "name": "python3"
  },
  "language_info": {
   "codemirror_mode": {
    "name": "ipython",
    "version": 3
   },
   "file_extension": ".py",
   "mimetype": "text/x-python",
   "name": "python",
   "nbconvert_exporter": "python",
   "pygments_lexer": "ipython3",
   "version": "3.10.0"
  },
  "vscode": {
   "interpreter": {
    "hash": "85f3063b4ef3c04364e4fc6902e9ef43c152f5cca0021623d582b82d89e3277b"
   }
  }
 },
 "nbformat": 4,
 "nbformat_minor": 1
}
